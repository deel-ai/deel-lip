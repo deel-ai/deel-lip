{
 "cells": [
  {
   "cell_type": "markdown",
   "metadata": {
    "id": "tZ45ItBZ0D59"
   },
   "source": [
    "## Demo 4: HKR multiclass and fooling\n",
    "[![Open In Colab](https://colab.research.google.com/assets/colab-badge.svg)](https://colab.research.google.com/github/deel-ai/deel-lip/blob/master/doc/notebooks/demo4.ipynb)\n",
    "\n",
    "This notebook will show how to train a lispchitz network in a multiclass setup.\n",
    "The HKR is extended to multiclass using a one-vs all setup. It will go through\n",
    "the process of designing and training the network. It will also show how to create robustness certificates from the output of the network. Finally these\n",
    "certificates will be checked by attacking the network. \n",
    "\n",
    "### installation\n",
    "\n",
    "First, we install the required libraries. `Foolbox` will allow to perform adversarial attacks on the trained network."
   ]
  },
  {
   "cell_type": "code",
   "execution_count": 1,
   "metadata": {
    "colab": {
     "base_uri": "https://localhost:8080/"
    },
    "id": "D6a9QvnXHLt5",
    "outputId": "bdceb0b5-8946-438b-c8be-1283e621fe9f"
   },
   "outputs": [],
   "source": [
    "# pip install deel-lip foolbox -qqq"
   ]
  },
  {
   "cell_type": "code",
   "execution_count": 2,
   "metadata": {
    "id": "n6uzQe2uGr7M"
   },
   "outputs": [],
   "source": [
    "from deel.lip.layers import (\n",
    "    SpectralDense,\n",
    "    SpectralConv2D,\n",
    "    ScaledL2NormPooling2D,\n",
    "    ScaledAveragePooling2D,\n",
    "    FrobeniusDense,\n",
    ")\n",
    "from deel.lip.model import Sequential\n",
    "from deel.lip.activations import GroupSort, FullSort\n",
    "from deel.lip.losses import MulticlassHKR, MulticlassKR\n",
    "from deel.lip.callbacks import CondenseCallback\n",
    "from tensorflow.keras.layers import Input, Flatten\n",
    "from tensorflow.keras.optimizers import Adam\n",
    "from tensorflow.keras.datasets import mnist, fashion_mnist, cifar10\n",
    "from tensorflow.keras.utils import to_categorical\n",
    "from tensorflow.keras.preprocessing.image import ImageDataGenerator\n",
    "import numpy as np"
   ]
  },
  {
   "cell_type": "markdown",
   "metadata": {
    "id": "DLTQeRpkMCwO"
   },
   "source": [
    "For this example, the dataset `fashion_mnist` will be used. In order to keep things simple, no data augmentation will be performed."
   ]
  },
  {
   "cell_type": "code",
   "execution_count": 3,
   "metadata": {
    "colab": {
     "base_uri": "https://localhost:8080/"
    },
    "id": "o6EjFWd0G_dB",
    "outputId": "0461fa31-a754-456d-fe77-beb750cc3481"
   },
   "outputs": [],
   "source": [
    "# load data\n",
    "(x_train, y_train_ord), (x_test, y_test_ord) = fashion_mnist.load_data()\n",
    "# standardize and reshape the data\n",
    "x_train = np.expand_dims(x_train, -1) / 255\n",
    "x_test = np.expand_dims(x_test, -1) / 255\n",
    "# one hot encode the labels\n",
    "y_train = to_categorical(y_train_ord)\n",
    "y_test = to_categorical(y_test_ord)"
   ]
  },
  {
   "cell_type": "markdown",
   "metadata": {
    "id": "JY04qBnpMYsV"
   },
   "source": [
    "Let's build the network. \n",
    "\n",
    "### the architecture\n",
    "\n",
    "The original one vs all setup would require 10 different networks ( 1 per class ), however, in practice we use a network with\n",
    "a common body and 10 1-lipschitz heads. Experiments have shown that this setup don't affect the network performance. In order to ease the creation of such network, `FrobeniusDense` layer has a parameter for this:  whenr `disjoint_neurons=True` it act as the stacking of 10 single neurons head. Note that, altough each head is a 1-lipschitz function the overall network is not 1-lipschitz (Concatenation is not 1-lipschitz). We will see later how this affects the certficate creation.\n",
    "\n",
    "### the loss\n",
    "\n",
    "The multiclass loss can be found in `HKR_multiclass_loss`. The loss has two params: `alpha` and `min_margin`. Decreasing `alpha` and increasing `min_margin` improve robustness (at the cost of accuracy). note also in the case of lipschitz networks, more robustness require more parameters. For more information see [our paper](https://arxiv.org/abs/2006.06520).\n",
    "\n",
    "In this setup choosing `alpha=100`, `min_margin=.25` provide a good robustness without hurting the accuracy too much.\n",
    "\n",
    "Finally the `KR_multiclass_loss()` indicate the robustness of the network ( proxy of the average certificate )\n"
   ]
  },
  {
   "cell_type": "code",
   "execution_count": 20,
   "metadata": {
    "colab": {
     "base_uri": "https://localhost:8080/"
    },
    "id": "SwA5kgOBG7Ni",
    "outputId": "e869beba-c511-4722-ad5f-fe3d8228f3a6"
   },
   "outputs": [
    {
     "name": "stdout",
     "output_type": "stream",
     "text": [
      "Model: \"hkr_model\"\n",
      "_________________________________________________________________\n",
      " Layer (type)                Output Shape              Param #   \n",
      "=================================================================\n",
      " spectral_conv2d_16 (Spectra  (None, 28, 28, 16)       321       \n",
      " lConv2D)                                                        \n",
      "                                                                 \n",
      " scaled_l2_norm_pooling2d_16  (None, 14, 14, 16)       0         \n",
      "  (ScaledL2NormPooling2D)                                        \n",
      "                                                                 \n",
      " spectral_conv2d_17 (Spectra  (None, 14, 14, 32)       9281      \n",
      " lConv2D)                                                        \n",
      "                                                                 \n",
      " scaled_l2_norm_pooling2d_17  (None, 7, 7, 32)         0         \n",
      "  (ScaledL2NormPooling2D)                                        \n",
      "                                                                 \n",
      " flatten_8 (Flatten)         (None, 1568)              0         \n",
      "                                                                 \n",
      " spectral_dense_8 (SpectralD  (None, 64)               200833    \n",
      " ense)                                                           \n",
      "                                                                 \n",
      " frobenius_dense_8 (Frobeniu  (None, 10)               1280      \n",
      " sDense)                                                         \n",
      "                                                                 \n",
      "=================================================================\n",
      "Total params: 211,715\n",
      "Trainable params: 105,856\n",
      "Non-trainable params: 105,859\n",
      "_________________________________________________________________\n"
     ]
    },
    {
     "name": "stderr",
     "output_type": "stream",
     "text": [
      "/seagate14tb/data/home/franck.mamalet/workspace/deel/github/deel-lip/doc/notebooks/../../deel/lip/model.py:52: UserWarning: Sequential model contains a layer wich is not a Lipschitz layer: flatten_8\n",
      "  warn(\n"
     ]
    }
   ],
   "source": [
    "# Sequential (resp Model) from deel.model has the same properties as any lipschitz model.\n",
    "# It act only as a container, with features specific to lipschitz\n",
    "# functions (condensation, vanilla_exportation...)\n",
    "model = Sequential(\n",
    "    [\n",
    "        Input(shape=x_train.shape[1:]),\n",
    "        # Lipschitz layers preserve the API of their superclass ( here Conv2D )\n",
    "        # an optional param is available: k_coef_lip which control the lipschitz\n",
    "        # constant of the layer\n",
    "        SpectralConv2D(\n",
    "            filters=16,\n",
    "            kernel_size=(3, 3),\n",
    "            activation=GroupSort(2),\n",
    "            use_bias=True,\n",
    "            kernel_initializer=\"orthogonal\",\n",
    "        ),\n",
    "        # usual pooling layer are implemented (avg, max...), but new layers are also available\n",
    "      ScaledL2NormPooling2D(pool_size=(2, 2), data_format=\"channels_last\"),\n",
    "        SpectralConv2D(\n",
    "            filters=32,\n",
    "            kernel_size=(3, 3),\n",
    "            activation=GroupSort(2),\n",
    "            use_bias=True,\n",
    "            kernel_initializer=\"orthogonal\",\n",
    "        ),\n",
    "      ScaledL2NormPooling2D(pool_size=(2, 2), data_format=\"channels_last\"),\n",
    "        # our layers are fully interoperable with existing keras layers\n",
    "        Flatten(),\n",
    "        SpectralDense(\n",
    "            64,\n",
    "            activation=GroupSort(2),\n",
    "            use_bias=True,\n",
    "            kernel_initializer=\"orthogonal\",\n",
    "        ),\n",
    "        FrobeniusDense(\n",
    "            y_train.shape[-1], activation=None, use_bias=False, kernel_initializer=\"orthogonal\"\n",
    "        ),\n",
    "    ],\n",
    "    # similary model has a parameter to set the lipschitz constant\n",
    "    # to set automatically the constant of each layer\n",
    "    k_coef_lip=1.0,\n",
    "    name=\"hkr_model\",\n",
    ")\n",
    "\n",
    "soft_hinge_tau = 0.0\n",
    "\n",
    "# HKR (Hinge-Krantorovich-Rubinstein) optimize robustness along with accuracy\n",
    "model.compile(\n",
    "    # decreasing alpha and increasing min_margin improve robustness (at the cost of accuracy)\n",
    "    # note also in the case of lipschitz networks, more robustness require more parameters.\n",
    "    loss=MulticlassHKR(alpha=100, min_margin=.5, soft_hinge_tau = soft_hinge_tau),\n",
    "    optimizer=Adam(1e-4),\n",
    "    metrics=[\"accuracy\", MulticlassKR()],\n",
    ")\n",
    "\n",
    "model.summary()"
   ]
  },
  {
   "cell_type": "markdown",
   "metadata": {
    "id": "zH0oy4iRP1Ct"
   },
   "source": [
    "### notes about constraint enforcement\n",
    "\n",
    "There are currently 3 way to enforce a constraint in a network:\n",
    "1. regularization\n",
    "2. weight reparametrization\n",
    "3. weight projection\n",
    "\n",
    "The first one don't provide the required garanties, this is why `deel-lip` focuses on the later two. Weight reparametrization is done directly in the layers (parameter `niter_bjorck`) this trick allow to perform arbitrary gradient updates without breaking the constraint. However this is done in the graph, increasing ressources consumption. The last method project the weights between each batch, ensuring the constraint at an more affordable computational cost. It can be done in `deel-lip` using the `CondenseCallback`. The main problem with this method is a reduced efficiency of each update.\n",
    "\n",
    "As a rule of thumb, when reparametrization is used alone, setting `niter_bjorck` to at least 15 is advised. However when combined with weight projection, this setting can be lowered greatly."
   ]
  },
  {
   "cell_type": "code",
   "execution_count": 21,
   "metadata": {
    "colab": {
     "base_uri": "https://localhost:8080/"
    },
    "id": "p1rWZTZBHEIR",
    "outputId": "7cb00f9b-0f84-40f0-c5fa-b29fc0a00c92"
   },
   "outputs": [
    {
     "name": "stdout",
     "output_type": "stream",
     "text": [
      "Epoch 1/100\n",
      "15/15 [==============================] - 2s 59ms/step - loss: 46.4436 - accuracy: 0.2313 - MulticlassKR: 0.2408 - val_loss: 42.7698 - val_accuracy: 0.4004 - val_MulticlassKR: 0.4459\n",
      "Epoch 2/100\n",
      "15/15 [==============================] - 1s 43ms/step - loss: 23.6762 - accuracy: 0.5737 - MulticlassKR: 0.7011 - val_loss: 18.0241 - val_accuracy: 0.6874 - val_MulticlassKR: 0.8560\n",
      "Epoch 3/100\n",
      "15/15 [==============================] - 1s 41ms/step - loss: 15.1802 - accuracy: 0.7270 - MulticlassKR: 0.9459 - val_loss: 13.9292 - val_accuracy: 0.7522 - val_MulticlassKR: 1.0034\n",
      "Epoch 4/100\n",
      "15/15 [==============================] - 1s 41ms/step - loss: 12.6481 - accuracy: 0.7715 - MulticlassKR: 1.0458 - val_loss: 12.1291 - val_accuracy: 0.7857 - val_MulticlassKR: 1.0924\n",
      "Epoch 5/100\n",
      "15/15 [==============================] - 1s 41ms/step - loss: 11.3840 - accuracy: 0.7903 - MulticlassKR: 1.1296 - val_loss: 11.1288 - val_accuracy: 0.7875 - val_MulticlassKR: 1.1523\n",
      "Epoch 6/100\n",
      "15/15 [==============================] - 1s 41ms/step - loss: 10.5640 - accuracy: 0.8006 - MulticlassKR: 1.1832 - val_loss: 10.5400 - val_accuracy: 0.7930 - val_MulticlassKR: 1.2131\n",
      "Epoch 7/100\n",
      "15/15 [==============================] - 1s 41ms/step - loss: 9.9968 - accuracy: 0.8124 - MulticlassKR: 1.2519 - val_loss: 9.9796 - val_accuracy: 0.8085 - val_MulticlassKR: 1.2855\n",
      "Epoch 8/100\n",
      "15/15 [==============================] - 1s 41ms/step - loss: 9.6727 - accuracy: 0.8185 - MulticlassKR: 1.3269 - val_loss: 9.8850 - val_accuracy: 0.8052 - val_MulticlassKR: 1.3499\n",
      "Epoch 9/100\n",
      "15/15 [==============================] - 1s 41ms/step - loss: 9.5302 - accuracy: 0.8247 - MulticlassKR: 1.3762 - val_loss: 9.3929 - val_accuracy: 0.8217 - val_MulticlassKR: 1.3870\n",
      "Epoch 10/100\n",
      "15/15 [==============================] - 1s 41ms/step - loss: 8.8918 - accuracy: 0.8368 - MulticlassKR: 1.4206 - val_loss: 9.0700 - val_accuracy: 0.8367 - val_MulticlassKR: 1.4456\n",
      "Epoch 11/100\n",
      "15/15 [==============================] - 1s 41ms/step - loss: 8.6138 - accuracy: 0.8406 - MulticlassKR: 1.4846 - val_loss: 8.9389 - val_accuracy: 0.8410 - val_MulticlassKR: 1.5081\n",
      "Epoch 12/100\n",
      "15/15 [==============================] - 1s 41ms/step - loss: 8.3262 - accuracy: 0.8453 - MulticlassKR: 1.5475 - val_loss: 8.4863 - val_accuracy: 0.8446 - val_MulticlassKR: 1.5750\n",
      "Epoch 13/100\n",
      "15/15 [==============================] - 1s 42ms/step - loss: 8.6440 - accuracy: 0.8403 - MulticlassKR: 1.5915 - val_loss: 8.7619 - val_accuracy: 0.8395 - val_MulticlassKR: 1.5872\n",
      "Epoch 14/100\n",
      "15/15 [==============================] - 1s 43ms/step - loss: 8.2755 - accuracy: 0.8480 - MulticlassKR: 1.5990 - val_loss: 8.2711 - val_accuracy: 0.8466 - val_MulticlassKR: 1.6017\n",
      "Epoch 15/100\n",
      "15/15 [==============================] - 1s 44ms/step - loss: 7.8270 - accuracy: 0.8539 - MulticlassKR: 1.6483 - val_loss: 8.1211 - val_accuracy: 0.8429 - val_MulticlassKR: 1.6788\n",
      "Epoch 16/100\n",
      "15/15 [==============================] - 1s 42ms/step - loss: 7.5431 - accuracy: 0.8564 - MulticlassKR: 1.7055 - val_loss: 7.9454 - val_accuracy: 0.8483 - val_MulticlassKR: 1.7380\n",
      "Epoch 17/100\n",
      "15/15 [==============================] - 1s 41ms/step - loss: 7.2706 - accuracy: 0.8619 - MulticlassKR: 1.7682 - val_loss: 7.7203 - val_accuracy: 0.8511 - val_MulticlassKR: 1.7924\n",
      "Epoch 18/100\n",
      "15/15 [==============================] - 1s 41ms/step - loss: 7.1926 - accuracy: 0.8635 - MulticlassKR: 1.8224 - val_loss: 7.4073 - val_accuracy: 0.8599 - val_MulticlassKR: 1.8365\n",
      "Epoch 19/100\n",
      "15/15 [==============================] - 1s 42ms/step - loss: 6.9854 - accuracy: 0.8639 - MulticlassKR: 1.8643 - val_loss: 7.4546 - val_accuracy: 0.8555 - val_MulticlassKR: 1.8934\n",
      "Epoch 20/100\n",
      "15/15 [==============================] - 1s 43ms/step - loss: 7.1561 - accuracy: 0.8614 - MulticlassKR: 1.9033 - val_loss: 7.2010 - val_accuracy: 0.8573 - val_MulticlassKR: 1.8992\n",
      "Epoch 21/100\n",
      "15/15 [==============================] - 1s 42ms/step - loss: 6.9383 - accuracy: 0.8650 - MulticlassKR: 1.9255 - val_loss: 7.0947 - val_accuracy: 0.8593 - val_MulticlassKR: 1.9297\n",
      "Epoch 22/100\n",
      "15/15 [==============================] - 1s 41ms/step - loss: 6.7529 - accuracy: 0.8670 - MulticlassKR: 1.9540 - val_loss: 7.0755 - val_accuracy: 0.8604 - val_MulticlassKR: 1.9585\n",
      "Epoch 23/100\n",
      "15/15 [==============================] - 1s 43ms/step - loss: 6.5312 - accuracy: 0.8722 - MulticlassKR: 1.9963 - val_loss: 6.8131 - val_accuracy: 0.8652 - val_MulticlassKR: 2.0016\n",
      "Epoch 24/100\n",
      "15/15 [==============================] - 1s 43ms/step - loss: 6.5079 - accuracy: 0.8710 - MulticlassKR: 2.0254 - val_loss: 6.9631 - val_accuracy: 0.8622 - val_MulticlassKR: 2.0188\n",
      "Epoch 25/100\n",
      "15/15 [==============================] - 1s 43ms/step - loss: 6.5268 - accuracy: 0.8705 - MulticlassKR: 2.0536 - val_loss: 7.0664 - val_accuracy: 0.8561 - val_MulticlassKR: 2.0586\n",
      "Epoch 26/100\n",
      "15/15 [==============================] - 1s 42ms/step - loss: 6.3841 - accuracy: 0.8715 - MulticlassKR: 2.0763 - val_loss: 6.9989 - val_accuracy: 0.8626 - val_MulticlassKR: 2.0709\n",
      "Epoch 27/100\n",
      "15/15 [==============================] - 1s 44ms/step - loss: 6.2914 - accuracy: 0.8729 - MulticlassKR: 2.0794 - val_loss: 6.7739 - val_accuracy: 0.8653 - val_MulticlassKR: 2.0923\n",
      "Epoch 28/100\n",
      "15/15 [==============================] - 1s 42ms/step - loss: 6.3220 - accuracy: 0.8713 - MulticlassKR: 2.1101 - val_loss: 6.6725 - val_accuracy: 0.8667 - val_MulticlassKR: 2.1050\n",
      "Epoch 29/100\n",
      "15/15 [==============================] - 1s 43ms/step - loss: 6.1408 - accuracy: 0.8752 - MulticlassKR: 2.1338 - val_loss: 6.3995 - val_accuracy: 0.8715 - val_MulticlassKR: 2.1213\n",
      "Epoch 30/100\n",
      "15/15 [==============================] - 1s 43ms/step - loss: 5.9720 - accuracy: 0.8775 - MulticlassKR: 2.1484 - val_loss: 6.4494 - val_accuracy: 0.8685 - val_MulticlassKR: 2.1483\n",
      "Epoch 31/100\n",
      "15/15 [==============================] - 1s 42ms/step - loss: 5.9915 - accuracy: 0.8763 - MulticlassKR: 2.1708 - val_loss: 6.3508 - val_accuracy: 0.8717 - val_MulticlassKR: 2.1623\n",
      "Epoch 32/100\n",
      "15/15 [==============================] - 1s 43ms/step - loss: 5.9155 - accuracy: 0.8766 - MulticlassKR: 2.1985 - val_loss: 6.1505 - val_accuracy: 0.8745 - val_MulticlassKR: 2.1985\n",
      "Epoch 33/100\n",
      "15/15 [==============================] - 1s 42ms/step - loss: 5.6591 - accuracy: 0.8820 - MulticlassKR: 2.1989 - val_loss: 6.0315 - val_accuracy: 0.8730 - val_MulticlassKR: 2.2043\n",
      "Epoch 34/100\n",
      "15/15 [==============================] - 1s 41ms/step - loss: 5.6541 - accuracy: 0.8814 - MulticlassKR: 2.2249 - val_loss: 6.1985 - val_accuracy: 0.8725 - val_MulticlassKR: 2.2126\n",
      "Epoch 35/100\n",
      "15/15 [==============================] - 1s 43ms/step - loss: 5.7322 - accuracy: 0.8794 - MulticlassKR: 2.2348 - val_loss: 6.0555 - val_accuracy: 0.8723 - val_MulticlassKR: 2.2306\n",
      "Epoch 36/100\n",
      "15/15 [==============================] - 1s 43ms/step - loss: 5.5269 - accuracy: 0.8830 - MulticlassKR: 2.2527 - val_loss: 6.1381 - val_accuracy: 0.8727 - val_MulticlassKR: 2.2610\n",
      "Epoch 37/100\n",
      "15/15 [==============================] - 1s 44ms/step - loss: 5.4915 - accuracy: 0.8832 - MulticlassKR: 2.2691 - val_loss: 5.9358 - val_accuracy: 0.8755 - val_MulticlassKR: 2.2581\n",
      "Epoch 38/100\n",
      "15/15 [==============================] - 1s 43ms/step - loss: 5.4300 - accuracy: 0.8847 - MulticlassKR: 2.2798 - val_loss: 5.9888 - val_accuracy: 0.8755 - val_MulticlassKR: 2.2748\n",
      "Epoch 39/100\n",
      "15/15 [==============================] - 1s 43ms/step - loss: 5.4886 - accuracy: 0.8833 - MulticlassKR: 2.2926 - val_loss: 6.0585 - val_accuracy: 0.8716 - val_MulticlassKR: 2.2751\n",
      "Epoch 40/100\n",
      "15/15 [==============================] - 1s 44ms/step - loss: 5.3451 - accuracy: 0.8842 - MulticlassKR: 2.2958 - val_loss: 5.8591 - val_accuracy: 0.8745 - val_MulticlassKR: 2.2985\n",
      "Epoch 41/100\n",
      "15/15 [==============================] - 1s 43ms/step - loss: 5.3802 - accuracy: 0.8850 - MulticlassKR: 2.3162 - val_loss: 6.0898 - val_accuracy: 0.8739 - val_MulticlassKR: 2.2996\n",
      "Epoch 42/100\n",
      "15/15 [==============================] - 1s 44ms/step - loss: 5.3367 - accuracy: 0.8860 - MulticlassKR: 2.3285 - val_loss: 5.8954 - val_accuracy: 0.8732 - val_MulticlassKR: 2.3181\n",
      "Epoch 43/100\n",
      "15/15 [==============================] - 1s 45ms/step - loss: 5.4998 - accuracy: 0.8821 - MulticlassKR: 2.3367 - val_loss: 5.9561 - val_accuracy: 0.8694 - val_MulticlassKR: 2.3239\n",
      "Epoch 44/100\n",
      "15/15 [==============================] - 1s 44ms/step - loss: 5.3675 - accuracy: 0.8846 - MulticlassKR: 2.3393 - val_loss: 5.8081 - val_accuracy: 0.8758 - val_MulticlassKR: 2.3249\n",
      "Epoch 45/100\n",
      "15/15 [==============================] - 1s 45ms/step - loss: 5.2738 - accuracy: 0.8861 - MulticlassKR: 2.3494 - val_loss: 5.9139 - val_accuracy: 0.8720 - val_MulticlassKR: 2.3509\n",
      "Epoch 46/100\n",
      "15/15 [==============================] - 1s 45ms/step - loss: 5.1892 - accuracy: 0.8870 - MulticlassKR: 2.3622 - val_loss: 5.9193 - val_accuracy: 0.8730 - val_MulticlassKR: 2.3429\n",
      "Epoch 47/100\n",
      "15/15 [==============================] - 1s 45ms/step - loss: 5.2378 - accuracy: 0.8868 - MulticlassKR: 2.3700 - val_loss: 5.7284 - val_accuracy: 0.8754 - val_MulticlassKR: 2.3515\n",
      "Epoch 48/100\n",
      "15/15 [==============================] - 1s 45ms/step - loss: 5.1271 - accuracy: 0.8890 - MulticlassKR: 2.3789 - val_loss: 5.7196 - val_accuracy: 0.8770 - val_MulticlassKR: 2.3762\n",
      "Epoch 49/100\n",
      "15/15 [==============================] - 1s 43ms/step - loss: 5.0263 - accuracy: 0.8889 - MulticlassKR: 2.3938 - val_loss: 5.5054 - val_accuracy: 0.8781 - val_MulticlassKR: 2.3890\n",
      "Epoch 50/100\n",
      "15/15 [==============================] - 1s 44ms/step - loss: 5.0078 - accuracy: 0.8897 - MulticlassKR: 2.3867 - val_loss: 5.6385 - val_accuracy: 0.8772 - val_MulticlassKR: 2.3663\n",
      "Epoch 51/100\n",
      "15/15 [==============================] - 1s 45ms/step - loss: 4.9759 - accuracy: 0.8906 - MulticlassKR: 2.4071 - val_loss: 5.4808 - val_accuracy: 0.8771 - val_MulticlassKR: 2.4030\n",
      "Epoch 52/100\n",
      "15/15 [==============================] - 1s 43ms/step - loss: 4.9169 - accuracy: 0.8909 - MulticlassKR: 2.4069 - val_loss: 5.6107 - val_accuracy: 0.8769 - val_MulticlassKR: 2.3976\n",
      "Epoch 53/100\n",
      "15/15 [==============================] - 1s 44ms/step - loss: 4.9693 - accuracy: 0.8913 - MulticlassKR: 2.4155 - val_loss: 5.5007 - val_accuracy: 0.8766 - val_MulticlassKR: 2.4220\n",
      "Epoch 54/100\n",
      "15/15 [==============================] - 1s 45ms/step - loss: 5.0158 - accuracy: 0.8892 - MulticlassKR: 2.4221 - val_loss: 5.5303 - val_accuracy: 0.8797 - val_MulticlassKR: 2.4023\n",
      "Epoch 55/100\n",
      "15/15 [==============================] - 1s 45ms/step - loss: 4.8777 - accuracy: 0.8916 - MulticlassKR: 2.4217 - val_loss: 5.4236 - val_accuracy: 0.8795 - val_MulticlassKR: 2.4174\n",
      "Epoch 56/100\n",
      "15/15 [==============================] - 1s 45ms/step - loss: 4.9335 - accuracy: 0.8896 - MulticlassKR: 2.4408 - val_loss: 5.3724 - val_accuracy: 0.8798 - val_MulticlassKR: 2.4156\n",
      "Epoch 57/100\n",
      "15/15 [==============================] - 1s 46ms/step - loss: 4.8756 - accuracy: 0.8910 - MulticlassKR: 2.4368 - val_loss: 5.4948 - val_accuracy: 0.8803 - val_MulticlassKR: 2.4259\n",
      "Epoch 58/100\n",
      "15/15 [==============================] - 1s 44ms/step - loss: 4.9683 - accuracy: 0.8903 - MulticlassKR: 2.4462 - val_loss: 5.4626 - val_accuracy: 0.8770 - val_MulticlassKR: 2.4508\n",
      "Epoch 59/100\n",
      "15/15 [==============================] - 1s 45ms/step - loss: 4.7469 - accuracy: 0.8932 - MulticlassKR: 2.4511 - val_loss: 5.4319 - val_accuracy: 0.8795 - val_MulticlassKR: 2.4233\n",
      "Epoch 60/100\n",
      "15/15 [==============================] - 1s 46ms/step - loss: 4.9132 - accuracy: 0.8907 - MulticlassKR: 2.4404 - val_loss: 5.2681 - val_accuracy: 0.8818 - val_MulticlassKR: 2.4391\n",
      "Epoch 61/100\n",
      "15/15 [==============================] - 1s 46ms/step - loss: 4.7727 - accuracy: 0.8930 - MulticlassKR: 2.4541 - val_loss: 5.3821 - val_accuracy: 0.8797 - val_MulticlassKR: 2.4623\n",
      "Epoch 62/100\n",
      "15/15 [==============================] - 1s 45ms/step - loss: 4.8123 - accuracy: 0.8917 - MulticlassKR: 2.4655 - val_loss: 5.3363 - val_accuracy: 0.8789 - val_MulticlassKR: 2.4453\n",
      "Epoch 63/100\n",
      "15/15 [==============================] - 1s 46ms/step - loss: 4.7510 - accuracy: 0.8928 - MulticlassKR: 2.4680 - val_loss: 5.4525 - val_accuracy: 0.8797 - val_MulticlassKR: 2.4669\n",
      "Epoch 64/100\n",
      "15/15 [==============================] - 1s 45ms/step - loss: 4.8165 - accuracy: 0.8921 - MulticlassKR: 2.4657 - val_loss: 5.4241 - val_accuracy: 0.8794 - val_MulticlassKR: 2.4709\n",
      "Epoch 65/100\n",
      "15/15 [==============================] - 1s 44ms/step - loss: 4.6947 - accuracy: 0.8938 - MulticlassKR: 2.4663 - val_loss: 5.1633 - val_accuracy: 0.8830 - val_MulticlassKR: 2.4579\n",
      "Epoch 66/100\n",
      "15/15 [==============================] - 1s 46ms/step - loss: 4.6618 - accuracy: 0.8945 - MulticlassKR: 2.4743 - val_loss: 5.2059 - val_accuracy: 0.8822 - val_MulticlassKR: 2.4692\n",
      "Epoch 67/100\n",
      "15/15 [==============================] - 1s 45ms/step - loss: 4.6415 - accuracy: 0.8937 - MulticlassKR: 2.4772 - val_loss: 5.2923 - val_accuracy: 0.8781 - val_MulticlassKR: 2.4850\n",
      "Epoch 68/100\n",
      "15/15 [==============================] - 1s 45ms/step - loss: 4.7698 - accuracy: 0.8923 - MulticlassKR: 2.4779 - val_loss: 5.1716 - val_accuracy: 0.8818 - val_MulticlassKR: 2.4695\n",
      "Epoch 69/100\n",
      "15/15 [==============================] - 1s 46ms/step - loss: 4.6131 - accuracy: 0.8956 - MulticlassKR: 2.4898 - val_loss: 5.3051 - val_accuracy: 0.8815 - val_MulticlassKR: 2.4785\n",
      "Epoch 70/100\n",
      "15/15 [==============================] - 1s 46ms/step - loss: 4.4971 - accuracy: 0.8975 - MulticlassKR: 2.4878 - val_loss: 5.1254 - val_accuracy: 0.8835 - val_MulticlassKR: 2.4902\n",
      "Epoch 71/100\n",
      "15/15 [==============================] - 1s 47ms/step - loss: 4.5180 - accuracy: 0.8967 - MulticlassKR: 2.4927 - val_loss: 5.1537 - val_accuracy: 0.8809 - val_MulticlassKR: 2.4855\n",
      "Epoch 72/100\n",
      "15/15 [==============================] - 1s 46ms/step - loss: 4.5220 - accuracy: 0.8970 - MulticlassKR: 2.4963 - val_loss: 5.1530 - val_accuracy: 0.8827 - val_MulticlassKR: 2.4988\n",
      "Epoch 73/100\n",
      "15/15 [==============================] - 1s 46ms/step - loss: 4.5509 - accuracy: 0.8961 - MulticlassKR: 2.5030 - val_loss: 5.2100 - val_accuracy: 0.8821 - val_MulticlassKR: 2.4958\n",
      "Epoch 74/100\n",
      "15/15 [==============================] - 1s 47ms/step - loss: 4.6054 - accuracy: 0.8950 - MulticlassKR: 2.5055 - val_loss: 5.2685 - val_accuracy: 0.8808 - val_MulticlassKR: 2.4917\n",
      "Epoch 75/100\n",
      "15/15 [==============================] - 1s 47ms/step - loss: 4.5795 - accuracy: 0.8954 - MulticlassKR: 2.5073 - val_loss: 5.1700 - val_accuracy: 0.8831 - val_MulticlassKR: 2.4951\n",
      "Epoch 76/100\n",
      "15/15 [==============================] - 1s 46ms/step - loss: 4.4780 - accuracy: 0.8974 - MulticlassKR: 2.4963 - val_loss: 5.2638 - val_accuracy: 0.8807 - val_MulticlassKR: 2.4894\n",
      "Epoch 77/100\n",
      "15/15 [==============================] - 1s 46ms/step - loss: 4.5632 - accuracy: 0.8956 - MulticlassKR: 2.5029 - val_loss: 5.1270 - val_accuracy: 0.8831 - val_MulticlassKR: 2.5056\n",
      "Epoch 78/100\n",
      "15/15 [==============================] - 1s 47ms/step - loss: 4.5486 - accuracy: 0.8956 - MulticlassKR: 2.5090 - val_loss: 5.1522 - val_accuracy: 0.8795 - val_MulticlassKR: 2.5034\n",
      "Epoch 79/100\n",
      "15/15 [==============================] - 1s 46ms/step - loss: 4.5013 - accuracy: 0.8971 - MulticlassKR: 2.5054 - val_loss: 5.0569 - val_accuracy: 0.8843 - val_MulticlassKR: 2.5003\n",
      "Epoch 80/100\n",
      "15/15 [==============================] - 1s 46ms/step - loss: 4.5846 - accuracy: 0.8950 - MulticlassKR: 2.5180 - val_loss: 5.1413 - val_accuracy: 0.8825 - val_MulticlassKR: 2.4877\n",
      "Epoch 81/100\n",
      "15/15 [==============================] - 1s 46ms/step - loss: 4.5510 - accuracy: 0.8954 - MulticlassKR: 2.5204 - val_loss: 5.0972 - val_accuracy: 0.8805 - val_MulticlassKR: 2.5132\n",
      "Epoch 82/100\n",
      "15/15 [==============================] - 1s 47ms/step - loss: 4.4553 - accuracy: 0.8978 - MulticlassKR: 2.5253 - val_loss: 5.0208 - val_accuracy: 0.8838 - val_MulticlassKR: 2.5124\n",
      "Epoch 83/100\n",
      "15/15 [==============================] - 1s 47ms/step - loss: 4.5513 - accuracy: 0.8956 - MulticlassKR: 2.5156 - val_loss: 5.0945 - val_accuracy: 0.8805 - val_MulticlassKR: 2.5028\n",
      "Epoch 84/100\n",
      "15/15 [==============================] - 1s 47ms/step - loss: 4.4533 - accuracy: 0.8974 - MulticlassKR: 2.5148 - val_loss: 5.0954 - val_accuracy: 0.8827 - val_MulticlassKR: 2.5107\n",
      "Epoch 85/100\n",
      "15/15 [==============================] - 1s 48ms/step - loss: 4.3913 - accuracy: 0.8987 - MulticlassKR: 2.5160 - val_loss: 5.1055 - val_accuracy: 0.8839 - val_MulticlassKR: 2.5062\n",
      "Epoch 86/100\n",
      "15/15 [==============================] - 1s 48ms/step - loss: 4.3891 - accuracy: 0.8983 - MulticlassKR: 2.5237 - val_loss: 5.0870 - val_accuracy: 0.8820 - val_MulticlassKR: 2.5281\n",
      "Epoch 87/100\n",
      "15/15 [==============================] - 1s 47ms/step - loss: 4.4731 - accuracy: 0.8971 - MulticlassKR: 2.5354 - val_loss: 5.0670 - val_accuracy: 0.8822 - val_MulticlassKR: 2.5130\n",
      "Epoch 88/100\n",
      "15/15 [==============================] - 1s 48ms/step - loss: 4.5396 - accuracy: 0.8956 - MulticlassKR: 2.5236 - val_loss: 5.0250 - val_accuracy: 0.8826 - val_MulticlassKR: 2.5109\n",
      "Epoch 89/100\n",
      "15/15 [==============================] - 1s 46ms/step - loss: 4.4786 - accuracy: 0.8967 - MulticlassKR: 2.5166 - val_loss: 4.9846 - val_accuracy: 0.8846 - val_MulticlassKR: 2.5283\n",
      "Epoch 90/100\n",
      "15/15 [==============================] - 1s 48ms/step - loss: 4.3637 - accuracy: 0.8989 - MulticlassKR: 2.5265 - val_loss: 4.9244 - val_accuracy: 0.8847 - val_MulticlassKR: 2.5107\n",
      "Epoch 91/100\n",
      "15/15 [==============================] - 1s 47ms/step - loss: 4.2648 - accuracy: 0.8995 - MulticlassKR: 2.5353 - val_loss: 4.8970 - val_accuracy: 0.8853 - val_MulticlassKR: 2.5226\n",
      "Epoch 92/100\n",
      "15/15 [==============================] - 1s 47ms/step - loss: 4.3654 - accuracy: 0.8978 - MulticlassKR: 2.5361 - val_loss: 4.9884 - val_accuracy: 0.8846 - val_MulticlassKR: 2.5250\n",
      "Epoch 93/100\n",
      "15/15 [==============================] - 1s 47ms/step - loss: 4.3636 - accuracy: 0.8989 - MulticlassKR: 2.5402 - val_loss: 5.1371 - val_accuracy: 0.8823 - val_MulticlassKR: 2.5123\n",
      "Epoch 94/100\n",
      "15/15 [==============================] - 1s 48ms/step - loss: 4.4178 - accuracy: 0.8975 - MulticlassKR: 2.5257 - val_loss: 5.0326 - val_accuracy: 0.8832 - val_MulticlassKR: 2.5328\n",
      "Epoch 95/100\n",
      "15/15 [==============================] - 1s 47ms/step - loss: 4.3939 - accuracy: 0.8960 - MulticlassKR: 2.5369 - val_loss: 5.0800 - val_accuracy: 0.8833 - val_MulticlassKR: 2.5326\n",
      "Epoch 96/100\n",
      "15/15 [==============================] - 1s 47ms/step - loss: 4.2945 - accuracy: 0.8996 - MulticlassKR: 2.5459 - val_loss: 4.9238 - val_accuracy: 0.8848 - val_MulticlassKR: 2.5503\n",
      "Epoch 97/100\n",
      "15/15 [==============================] - 1s 48ms/step - loss: 4.2506 - accuracy: 0.9006 - MulticlassKR: 2.5405 - val_loss: 4.8982 - val_accuracy: 0.8866 - val_MulticlassKR: 2.5275\n",
      "Epoch 98/100\n",
      "15/15 [==============================] - 1s 48ms/step - loss: 4.2561 - accuracy: 0.9006 - MulticlassKR: 2.5524 - val_loss: 5.0258 - val_accuracy: 0.8824 - val_MulticlassKR: 2.5365\n",
      "Epoch 99/100\n",
      "15/15 [==============================] - 1s 48ms/step - loss: 4.2799 - accuracy: 0.9001 - MulticlassKR: 2.5455 - val_loss: 4.8743 - val_accuracy: 0.8853 - val_MulticlassKR: 2.5281\n",
      "Epoch 100/100\n",
      "15/15 [==============================] - 1s 47ms/step - loss: 4.2290 - accuracy: 0.9009 - MulticlassKR: 2.5460 - val_loss: 4.8513 - val_accuracy: 0.8880 - val_MulticlassKR: 2.5499\n"
     ]
    },
    {
     "data": {
      "text/plain": [
       "<keras.callbacks.History at 0x7f9faee95c60>"
      ]
     },
     "execution_count": 21,
     "metadata": {},
     "output_type": "execute_result"
    }
   ],
   "source": [
    "# fit the model\n",
    "model.fit(\n",
    "    x_train,\n",
    "    y_train,\n",
    "    batch_size=4096,\n",
    "    epochs=100,\n",
    "    validation_data=(x_test, y_test),\n",
    "    shuffle=True,\n",
    "    verbose=1,\n",
    ")"
   ]
  },
  {
   "cell_type": "markdown",
   "metadata": {
    "id": "s6TDG4nflyya"
   },
   "source": [
    "### model exportation\n",
    "\n",
    "Once training is finished, the model can be optimized for inference by using the `vanilla_export()` method."
   ]
  },
  {
   "cell_type": "code",
   "execution_count": 6,
   "metadata": {
    "id": "Nr2nMclLHHvI"
   },
   "outputs": [],
   "source": [
    "# once training is finished you can convert\n",
    "# SpectralDense layers into Dense layers and SpectralConv2D into Conv2D\n",
    "# which optimize performance for inference\n",
    "vanilla_model = model.vanilla_export()"
   ]
  },
  {
   "cell_type": "markdown",
   "metadata": {
    "id": "V32dqI2NmMPi"
   },
   "source": [
    "### certificates generation and adversarial attacks"
   ]
  },
  {
   "cell_type": "code",
   "execution_count": 7,
   "metadata": {
    "id": "m8h2gEDuIS5q"
   },
   "outputs": [
    {
     "name": "stderr",
     "output_type": "stream",
     "text": [
      "Matplotlib created a temporary config/cache directory at /tmp/matplotlib-an1t4aqt because the default path (/home/thibaut.boissin/.config/matplotlib) is not a writable directory; it is highly recommended to set the MPLCONFIGDIR environment variable to a writable directory, in particular to speed up the import of Matplotlib and to better support multiprocessing.\n"
     ]
    }
   ],
   "source": [
    "import foolbox as fb\n",
    "from tensorflow import convert_to_tensor\n",
    "import matplotlib.pyplot as plt\n",
    "import tensorflow as tf"
   ]
  },
  {
   "cell_type": "code",
   "execution_count": 8,
   "metadata": {
    "id": "AMdpLMM1IXZJ"
   },
   "outputs": [],
   "source": [
    "# we will test it on 10 samples one of each class\n",
    "nb_adv = 10\n",
    "\n",
    "hkr_fmodel = fb.TensorFlowModel(vanilla_model, bounds=(0., 1.), device=\"/GPU:0\")"
   ]
  },
  {
   "cell_type": "markdown",
   "metadata": {
    "id": "SLRFGRmcmw6K"
   },
   "source": [
    "In order to test the robustness of the model, the first correctly classified element of each class are selected."
   ]
  },
  {
   "cell_type": "code",
   "execution_count": 9,
   "metadata": {
    "colab": {
     "base_uri": "https://localhost:8080/"
    },
    "id": "ry5uB9QdJexi",
    "outputId": "6126888e-d256-4783-d284-0e40555c5dff"
   },
   "outputs": [
    {
     "name": "stderr",
     "output_type": "stream",
     "text": [
      "/home/thibaut.boissin/envs/deel-lip_github/lib/python3.7/site-packages/ipykernel_launcher.py:17: FutureWarning: Using a non-tuple sequence for multidimensional indexing is deprecated; use `arr[tuple(seq)]` instead of `arr[seq]`. In the future this will be interpreted as an array index, `arr[np.array(seq)]`, which will result either in an error or a different result.\n",
      "/home/thibaut.boissin/envs/deel-lip_github/lib/python3.7/site-packages/ipykernel_launcher.py:18: FutureWarning: Using a non-tuple sequence for multidimensional indexing is deprecated; use `arr[tuple(seq)]` instead of `arr[seq]`. In the future this will be interpreted as an array index, `arr[np.array(seq)]`, which will result either in an error or a different result.\n"
     ]
    }
   ],
   "source": [
    "# strategy: first\n",
    "# we select a sample from each class.\n",
    "images_list = []\n",
    "labels_list = []\n",
    "# select only a few element from the test set\n",
    "selected=np.random.choice(len(y_test_ord), 500)\n",
    "sub_y_test_ord = y_test_ord[:300]\n",
    "sub_x_test = x_test[:300]\n",
    "# drop misclassified elements\n",
    "misclassified_mask = tf.equal(tf.argmax(vanilla_model.predict(sub_x_test), axis=-1), sub_y_test_ord)\n",
    "sub_x_test = sub_x_test[misclassified_mask]\n",
    "sub_y_test_ord = sub_y_test_ord[misclassified_mask]\n",
    "# now we will build a list with input image for each element of the matrix\n",
    "for i in range(10):\n",
    "  # select the first element of the ith label\n",
    "  label_mask = [sub_y_test_ord==i]\n",
    "  x = sub_x_test[label_mask][0]\n",
    "  y = sub_y_test_ord[label_mask][0]\n",
    "  # convert it to tensor for use with foolbox\n",
    "  images = convert_to_tensor(x.astype(\"float32\"), dtype=\"float32\")\n",
    "  labels = convert_to_tensor(y, dtype=\"int64\")\n",
    "  # repeat the input 10 times, one per misclassification target\n",
    "  images_list.append(images)\n",
    "  labels_list.append(labels)\n",
    "images = convert_to_tensor(images_list)\n",
    "labels = convert_to_tensor(labels_list)"
   ]
  },
  {
   "cell_type": "markdown",
   "metadata": {
    "id": "GJctMBKrnqmC"
   },
   "source": [
    "In order to build a certficate, we take for each sample the top 2 output and apply this formula:\n",
    "$$ \\epsilon \\geq \\frac{\\text{top}_1 - \\text{top}_2}{2} $$\n",
    "Where epsilon is the robustness radius for the considered sample."
   ]
  },
  {
   "cell_type": "code",
   "execution_count": 10,
   "metadata": {
    "colab": {
     "base_uri": "https://localhost:8080/"
    },
    "id": "vxbkWNsdBx0y",
    "outputId": "0d419744-f63e-4207-eb31-ebc7e8d730c0"
   },
   "outputs": [
    {
     "data": {
      "text/plain": [
       "<tf.Tensor: shape=(10,), dtype=float32, numpy=\n",
       "array([0.25511226, 1.0321686 , 0.34624586, 0.5743104 , 0.12979731,\n",
       "       0.19581676, 0.08184442, 0.34386343, 0.68743587, 0.12055641],\n",
       "      dtype=float32)>"
      ]
     },
     "execution_count": 10,
     "metadata": {},
     "output_type": "execute_result"
    }
   ],
   "source": [
    "values, classes = tf.math.top_k(hkr_fmodel(images), k=2)\n",
    "certificates = (values[:, 0] - values[:, 1]) / 2\n",
    "certificates"
   ]
  },
  {
   "cell_type": "markdown",
   "metadata": {
    "id": "E2dqSmNPnVpK"
   },
   "source": [
    "now we will attack the model to check if the certificates are respected. In this setup `L2CarliniWagnerAttack` is used but in practice as these kind of networks are gradient norm preserving, other attacks gives very similar results."
   ]
  },
  {
   "cell_type": "code",
   "execution_count": 11,
   "metadata": {
    "colab": {
     "base_uri": "https://localhost:8080/"
    },
    "id": "UgqlVcLRKzSD",
    "outputId": "34fded95-9d16-4c60-8af0-45ebb8c01b6e"
   },
   "outputs": [
    {
     "data": {
      "text/plain": [
       "array([1.3944995 , 3.5208094 , 1.6824133 , 1.9192038 , 0.5746496 ,\n",
       "       0.7780392 , 0.39687884, 1.1619285 , 2.367604  , 0.48984095],\n",
       "      dtype=float32)"
      ]
     },
     "execution_count": 11,
     "metadata": {},
     "output_type": "execute_result"
    }
   ],
   "source": [
    "attack = fb.attacks.L2CarliniWagnerAttack(binary_search_steps=6, steps=8000)\n",
    "imgs, advs, success = attack(hkr_fmodel, images, labels, epsilons=None)\n",
    "dist_to_adv = np.sqrt(np.sum(np.square(images - advs), axis=(1,2,3)))\n",
    "dist_to_adv"
   ]
  },
  {
   "cell_type": "markdown",
   "metadata": {
    "id": "YkoroIBUqZqy"
   },
   "source": [
    "As we can see the certificate are respected."
   ]
  },
  {
   "cell_type": "code",
   "execution_count": 12,
   "metadata": {
    "id": "M9WvQIyqnlpg"
   },
   "outputs": [],
   "source": [
    "tf.assert_less(certificates, dist_to_adv)"
   ]
  },
  {
   "cell_type": "markdown",
   "metadata": {
    "id": "u3ooZSlcqdx6"
   },
   "source": [
    "Finally we can take a visual look at the obtained examples.\n",
    "We first start with utility functions for display."
   ]
  },
  {
   "cell_type": "code",
   "execution_count": 13,
   "metadata": {
    "id": "1Sp3RsmPQ5eM"
   },
   "outputs": [],
   "source": [
    "class_mapping = {\n",
    "  0: \"T-shirt/top\",\n",
    "  1: \"Trouser\",\n",
    "  2: \"Pullover\",\n",
    "  3: \"Dress\",\n",
    "  4: \"Coat\",\n",
    "  5: \"Sandal\",\n",
    "  6: \"Shirt\",\n",
    "  7: \"Sneaker\",\n",
    "  8: \"Bag\",\n",
    "  9: \"Ankle boot\",\n",
    "}"
   ]
  },
  {
   "cell_type": "code",
   "execution_count": 14,
   "metadata": {
    "id": "UWZ6V1wt0WwR"
   },
   "outputs": [],
   "source": [
    "def adversarial_viz(model, images, advs, class_mapping):\n",
    "  \"\"\"\n",
    "  This functions shows for each sample: \n",
    "  - the original image\n",
    "  - the adversarial image\n",
    "  - the difference map\n",
    "  - the certificate and the observed distance to adversarial \n",
    "  \"\"\"\n",
    "  scale = 1.5\n",
    "  kwargs={}\n",
    "  nb_imgs = images.shape[0]\n",
    "  # compute certificates\n",
    "  values, classes = tf.math.top_k(model(images), k=2)\n",
    "  certificates = (values[:, 0] - values[:, 1]) / 2\n",
    "  # compute difference distance to adversarial\n",
    "  dist_to_adv = np.sqrt(np.sum(np.square(images - advs), axis=(1,2,3)))\n",
    "  # find classes labels for imgs and advs\n",
    "  orig_classes = [class_mapping[i] for i in tf.argmax(model(images), axis=-1).numpy()]\n",
    "  advs_classes = [class_mapping[i] for i in tf.argmax(model(advs), axis=-1).numpy()]\n",
    "  # compute differences maps\n",
    "  if images.shape[-1] != 3:\n",
    "    diff_pos = np.clip(advs - images, 0, 1.)\n",
    "    diff_neg = np.clip(images - advs, 0, 1.)\n",
    "    diff_map = np.concatenate([diff_neg, diff_pos, np.zeros_like(diff_neg)], axis=-1)\n",
    "  else:\n",
    "    diff_map = np.abs(advs - images)\n",
    "  # expands image to be displayed\n",
    "  if images.shape[-1] != 3:\n",
    "    images = np.repeat(images, 3, -1)\n",
    "  if advs.shape[-1] != 3:\n",
    "    advs = np.repeat(advs, 3, -1)\n",
    "  # create plot\n",
    "  figsize = (3 * scale, nb_imgs * scale)\n",
    "  fig, axes = plt.subplots(\n",
    "    ncols=3,\n",
    "    nrows=nb_imgs,\n",
    "    figsize=figsize,\n",
    "    squeeze=False,\n",
    "    constrained_layout=True,\n",
    "    **kwargs,\n",
    "  )\n",
    "  for i in range(nb_imgs):\n",
    "    ax = axes[i][0]\n",
    "    ax.set_title(orig_classes[i])\n",
    "    ax.set_xticks([])\n",
    "    ax.set_yticks([])\n",
    "    ax.axis(\"off\")\n",
    "    ax.imshow(images[i])\n",
    "    ax = axes[i][1]\n",
    "    ax.set_title(advs_classes[i])\n",
    "    ax.set_xticks([])\n",
    "    ax.set_yticks([])\n",
    "    ax.axis(\"off\")\n",
    "    ax.imshow(advs[i])\n",
    "    ax = axes[i][2]\n",
    "    ax.set_title(f\"certif: {certificates[i]:.2f}, obs: {dist_to_adv[i]:.2f}\")\n",
    "    ax.set_xticks([])\n",
    "    ax.set_yticks([])\n",
    "    ax.axis(\"off\")\n",
    "    ax.imshow(diff_map[i]/diff_map[i].max())"
   ]
  },
  {
   "cell_type": "markdown",
   "metadata": {
    "id": "LLE_2Y4_r1kq"
   },
   "source": [
    "When looking at the adversarial examples we can see that the network has interresting properties:\n",
    "\n",
    "#### predictability\n",
    "by looking at the certificates, we can predict if the adversarial example will be close of not\n",
    "#### disparity among classes\n",
    "As we can see, the attacks are very efficent on similar classes (eg. T-shirt/top, and Shirt ). This denote that all classes are not made equal regarding robustness.\n",
    "#### explainability\n",
    "The network is more explainable: attacks can be used as counterfactuals.\n",
    "We can tell that removing the inscription on a T-shirt turns it into a shirt makes sense. Non robust examples reveals that the network rely on textures rather on shapes to make it's decision."
   ]
  },
  {
   "cell_type": "code",
   "execution_count": 15,
   "metadata": {
    "colab": {
     "base_uri": "https://localhost:8080/"
    },
    "id": "TZPR4_b68hex",
    "outputId": "bce7a55d-2a51-4315-b7b8-a3bf513b1cab"
   },
   "outputs": [
    {
     "data": {
      "image/png": "[encoded data removed]",
      "text/plain": [
       "<Figure size 324x1080 with 30 Axes>"
      ]
     },
     "metadata": {},
     "output_type": "display_data"
    }
   ],
   "source": [
    "adversarial_viz(hkr_fmodel, images, advs, class_mapping)"
   ]
  }
 ],
 "metadata": {
  "accelerator": "GPU",
  "colab": {
   "collapsed_sections": [],
   "name": "lipschitz demo",
   "provenance": []
  },
  "interpreter": {
   "hash": "85932723c17c3a18b32bfe2b34edfe80dfe7f67e8f24e1ef8c8aa8c563233210"
  },
  "kernelspec": {
   "display_name": "Python 3 (ipykernel)",
   "language": "python",
   "name": "python3"
  },
  "language_info": {
   "codemirror_mode": {
    "name": "ipython",
    "version": 3
   },
   "file_extension": ".py",
   "mimetype": "text/x-python",
   "name": "python",
   "nbconvert_exporter": "python",
   "pygments_lexer": "ipython3",
   "version": "3.10.4"
  }
 },
 "nbformat": 4,
 "nbformat_minor": 4
}
