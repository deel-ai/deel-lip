{
 "cells": [
  {
   "cell_type": "markdown",
   "metadata": {
    "id": "tZ45ItBZ0D59"
   },
   "source": [
    "## Demo 4: HKR multiclass and fooling\n",
    "\n",
    "[![Open In Colab](https://colab.research.google.com/assets/colab-badge.svg)](https://colab.research.google.com/github/deel-ai/deel-lip/blob/master/docs/notebooks/demo4.ipynb)\n",
    "\n",
    "This notebook will show how to train a lispchitz network in a multiclass setup. The HKR\n",
    "is extended to multiclass using a one-vs all setup. It will go through the process of\n",
    "designing and training the network. It will also show how to create robustness\n",
    "certificates from the output of the network. Finally these certificates will be checked\n",
    "by attacking the network.\n",
    "\n",
    "### Installation\n",
    "\n",
    "First, we install the required libraries. `Foolbox` will allow to perform adversarial\n",
    "attacks on the trained network.\n"
   ]
  },
  {
   "cell_type": "code",
   "execution_count": 1,
   "metadata": {
    "colab": {
     "base_uri": "https://localhost:8080/"
    },
    "id": "D6a9QvnXHLt5",
    "outputId": "bdceb0b5-8946-438b-c8be-1283e621fe9f"
   },
   "outputs": [],
   "source": [
    "# pip install deel-lip foolbox -qqq"
   ]
  },
  {
   "cell_type": "code",
   "execution_count": 2,
   "metadata": {
    "id": "n6uzQe2uGr7M"
   },
   "outputs": [
    {
     "name": "stderr",
     "output_type": "stream",
     "text": [
      "2024-09-06 15:26:29.848446: E external/local_xla/xla/stream_executor/cuda/cuda_fft.cc:485] Unable to register cuFFT factory: Attempting to register factory for plugin cuFFT when one has already been registered\n",
      "2024-09-06 15:26:29.859784: E external/local_xla/xla/stream_executor/cuda/cuda_dnn.cc:8454] Unable to register cuDNN factory: Attempting to register factory for plugin cuDNN when one has already been registered\n",
      "2024-09-06 15:26:29.863241: E external/local_xla/xla/stream_executor/cuda/cuda_blas.cc:1452] Unable to register cuBLAS factory: Attempting to register factory for plugin cuBLAS when one has already been registered\n",
      "2024-09-06 15:26:29.871798: I tensorflow/core/platform/cpu_feature_guard.cc:210] This TensorFlow binary is optimized to use available CPU instructions in performance-critical operations.\n",
      "To enable the following instructions: AVX2 FMA, in other operations, rebuild TensorFlow with the appropriate compiler flags.\n",
      "2024-09-06 15:26:31.151634: W tensorflow/compiler/tf2tensorrt/utils/py_utils.cc:38] TF-TRT Warning: Could not find TensorRT\n"
     ]
    }
   ],
   "source": [
    "from deel.lip.layers import (\n",
    "    SpectralDense,\n",
    "    SpectralConv2D,\n",
    "    ScaledL2NormPooling2D,\n",
    "    FrobeniusDense,\n",
    ")\n",
    "from deel.lip.model import Sequential\n",
    "from deel.lip.activations import GroupSort\n",
    "from deel.lip.losses import MulticlassHKR, MulticlassKR\n",
    "from keras.layers import Input, Flatten\n",
    "from keras.optimizers import Adam\n",
    "from keras.datasets import fashion_mnist\n",
    "from keras.utils import to_categorical\n",
    "import numpy as np"
   ]
  },
  {
   "cell_type": "markdown",
   "metadata": {
    "id": "DLTQeRpkMCwO"
   },
   "source": [
    "For this example, the dataset `fashion_mnist` will be used. In order to keep things\n",
    "simple, no data augmentation will be performed.\n"
   ]
  },
  {
   "cell_type": "code",
   "execution_count": 3,
   "metadata": {
    "colab": {
     "base_uri": "https://localhost:8080/"
    },
    "id": "o6EjFWd0G_dB",
    "outputId": "0461fa31-a754-456d-fe77-beb750cc3481"
   },
   "outputs": [],
   "source": [
    "# load data\n",
    "(x_train, y_train_ord), (x_test, y_test_ord) = fashion_mnist.load_data()\n",
    "# standardize and reshape the data\n",
    "x_train = np.expand_dims(x_train, -1) / 255\n",
    "x_test = np.expand_dims(x_test, -1) / 255\n",
    "# one hot encode the labels\n",
    "y_train = to_categorical(y_train_ord)\n",
    "y_test = to_categorical(y_test_ord)"
   ]
  },
  {
   "cell_type": "markdown",
   "metadata": {
    "id": "JY04qBnpMYsV"
   },
   "source": [
    "Let's build the network.\n",
    "\n",
    "### The architecture\n",
    "\n",
    "The original one vs all setup would require 10 different networks ( 1 per class ),\n",
    "however, in practice we use a network with a common body and 10 1-lipschitz heads.\n",
    "Experiments have shown that this setup don't affect the network performance. In order to\n",
    "ease the creation of such network, `FrobeniusDense` layer has a parameter for this:\n",
    "whenr `disjoint_neurons=True` it act as the stacking of 10 single neurons head. Note\n",
    "that, altough each head is a 1-lipschitz function the overall network is not 1-lipschitz\n",
    "(Concatenation is not 1-lipschitz). We will see later how this affects the certficate\n",
    "creation.\n",
    "\n",
    "### The loss\n",
    "\n",
    "The multiclass loss can be found in `HKR_multiclass_loss`. The loss has two params:\n",
    "`alpha` and `min_margin`. Decreasing `alpha` and increasing `min_margin` improve\n",
    "robustness (at the cost of accuracy). note also in the case of lipschitz networks, more\n",
    "robustness require more parameters. For more information see\n",
    "[our paper](https://arxiv.org/abs/2006.06520).\n",
    "\n",
    "In this setup choosing `alpha=100`, `min_margin=.25` provide a good robustness without\n",
    "hurting the accuracy too much.\n",
    "\n",
    "Finally the `KR_multiclass_loss()` indicate the robustness of the network ( proxy of the\n",
    "average certificate )\n"
   ]
  },
  {
   "cell_type": "code",
   "execution_count": 4,
   "metadata": {
    "colab": {
     "base_uri": "https://localhost:8080/"
    },
    "id": "SwA5kgOBG7Ni",
    "outputId": "e869beba-c511-4722-ad5f-fe3d8228f3a6"
   },
   "outputs": [
    {
     "name": "stderr",
     "output_type": "stream",
     "text": [
      "WARNING: All log messages before absl::InitializeLog() is called are written to STDERR\n",
      "I0000 00:00:1725629193.239470  871063 cuda_executor.cc:1015] successful NUMA node read from SysFS had negative value (-1), but there must be at least one NUMA node, so returning NUMA node zero. See more at https://github.com/torvalds/linux/blob/v6.0/Documentation/ABI/testing/sysfs-bus-pci#L344-L355\n",
      "I0000 00:00:1725629193.259969  871063 cuda_executor.cc:1015] successful NUMA node read from SysFS had negative value (-1), but there must be at least one NUMA node, so returning NUMA node zero. See more at https://github.com/torvalds/linux/blob/v6.0/Documentation/ABI/testing/sysfs-bus-pci#L344-L355\n",
      "I0000 00:00:1725629193.260106  871063 cuda_executor.cc:1015] successful NUMA node read from SysFS had negative value (-1), but there must be at least one NUMA node, so returning NUMA node zero. See more at https://github.com/torvalds/linux/blob/v6.0/Documentation/ABI/testing/sysfs-bus-pci#L344-L355\n",
      "I0000 00:00:1725629193.260871  871063 cuda_executor.cc:1015] successful NUMA node read from SysFS had negative value (-1), but there must be at least one NUMA node, so returning NUMA node zero. See more at https://github.com/torvalds/linux/blob/v6.0/Documentation/ABI/testing/sysfs-bus-pci#L344-L355\n",
      "I0000 00:00:1725629193.260969  871063 cuda_executor.cc:1015] successful NUMA node read from SysFS had negative value (-1), but there must be at least one NUMA node, so returning NUMA node zero. See more at https://github.com/torvalds/linux/blob/v6.0/Documentation/ABI/testing/sysfs-bus-pci#L344-L355\n",
      "I0000 00:00:1725629193.261055  871063 cuda_executor.cc:1015] successful NUMA node read from SysFS had negative value (-1), but there must be at least one NUMA node, so returning NUMA node zero. See more at https://github.com/torvalds/linux/blob/v6.0/Documentation/ABI/testing/sysfs-bus-pci#L344-L355\n",
      "I0000 00:00:1725629193.348510  871063 cuda_executor.cc:1015] successful NUMA node read from SysFS had negative value (-1), but there must be at least one NUMA node, so returning NUMA node zero. See more at https://github.com/torvalds/linux/blob/v6.0/Documentation/ABI/testing/sysfs-bus-pci#L344-L355\n",
      "I0000 00:00:1725629193.348632  871063 cuda_executor.cc:1015] successful NUMA node read from SysFS had negative value (-1), but there must be at least one NUMA node, so returning NUMA node zero. See more at https://github.com/torvalds/linux/blob/v6.0/Documentation/ABI/testing/sysfs-bus-pci#L344-L355\n",
      "I0000 00:00:1725629193.348722  871063 cuda_executor.cc:1015] successful NUMA node read from SysFS had negative value (-1), but there must be at least one NUMA node, so returning NUMA node zero. See more at https://github.com/torvalds/linux/blob/v6.0/Documentation/ABI/testing/sysfs-bus-pci#L344-L355\n",
      "2024-09-06 15:26:33.348791: I tensorflow/core/common_runtime/gpu/gpu_device.cc:2021] Created device /job:localhost/replica:0/task:0/device:GPU:0 with 6818 MB memory:  -> device: 0, name: NVIDIA GeForce RTX 2070 SUPER, pci bus id: 0000:01:00.0, compute capability: 7.5\n"
     ]
    },
    {
     "data": {
      "text/html": [
       "<pre style=\"white-space:pre;overflow-x:auto;line-height:normal;font-family:Menlo,'DejaVu Sans Mono',consolas,'Courier New',monospace\"><span style=\"font-weight: bold\">Model: \"sequential\"</span>\n",
       "</pre>\n"
      ],
      "text/plain": [
       "\u001b[1mModel: \"sequential\"\u001b[0m\n"
      ]
     },
     "metadata": {},
     "output_type": "display_data"
    },
    {
     "data": {
      "text/html": [
       "<pre style=\"white-space:pre;overflow-x:auto;line-height:normal;font-family:Menlo,'DejaVu Sans Mono',consolas,'Courier New',monospace\">┏━━━━━━━━━━━━━━━━━━━━━━━━━━━━━━━━━┳━━━━━━━━━━━━━━━━━━━━━━━━┳━━━━━━━━━━━━━━━┓\n",
       "┃<span style=\"font-weight: bold\"> Layer (type)                    </span>┃<span style=\"font-weight: bold\"> Output Shape           </span>┃<span style=\"font-weight: bold\">       Param # </span>┃\n",
       "┡━━━━━━━━━━━━━━━━━━━━━━━━━━━━━━━━━╇━━━━━━━━━━━━━━━━━━━━━━━━╇━━━━━━━━━━━━━━━┩\n",
       "│ spectral_conv2d                 │ (<span style=\"color: #00d7ff; text-decoration-color: #00d7ff\">None</span>, <span style=\"color: #00af00; text-decoration-color: #00af00\">28</span>, <span style=\"color: #00af00; text-decoration-color: #00af00\">28</span>, <span style=\"color: #00af00; text-decoration-color: #00af00\">16</span>)     │           <span style=\"color: #00af00; text-decoration-color: #00af00\">321</span> │\n",
       "│ (<span style=\"color: #0087ff; text-decoration-color: #0087ff\">SpectralConv2D</span>)                │                        │               │\n",
       "├─────────────────────────────────┼────────────────────────┼───────────────┤\n",
       "│ scaled_l2_norm_pooling2d        │ (<span style=\"color: #00d7ff; text-decoration-color: #00d7ff\">None</span>, <span style=\"color: #00af00; text-decoration-color: #00af00\">14</span>, <span style=\"color: #00af00; text-decoration-color: #00af00\">14</span>, <span style=\"color: #00af00; text-decoration-color: #00af00\">16</span>)     │             <span style=\"color: #00af00; text-decoration-color: #00af00\">0</span> │\n",
       "│ (<span style=\"color: #0087ff; text-decoration-color: #0087ff\">ScaledL2NormPooling2D</span>)         │                        │               │\n",
       "├─────────────────────────────────┼────────────────────────┼───────────────┤\n",
       "│ spectral_conv2d_1               │ (<span style=\"color: #00d7ff; text-decoration-color: #00d7ff\">None</span>, <span style=\"color: #00af00; text-decoration-color: #00af00\">14</span>, <span style=\"color: #00af00; text-decoration-color: #00af00\">14</span>, <span style=\"color: #00af00; text-decoration-color: #00af00\">32</span>)     │         <span style=\"color: #00af00; text-decoration-color: #00af00\">9,281</span> │\n",
       "│ (<span style=\"color: #0087ff; text-decoration-color: #0087ff\">SpectralConv2D</span>)                │                        │               │\n",
       "├─────────────────────────────────┼────────────────────────┼───────────────┤\n",
       "│ scaled_l2_norm_pooling2d_1      │ (<span style=\"color: #00d7ff; text-decoration-color: #00d7ff\">None</span>, <span style=\"color: #00af00; text-decoration-color: #00af00\">7</span>, <span style=\"color: #00af00; text-decoration-color: #00af00\">7</span>, <span style=\"color: #00af00; text-decoration-color: #00af00\">32</span>)       │             <span style=\"color: #00af00; text-decoration-color: #00af00\">0</span> │\n",
       "│ (<span style=\"color: #0087ff; text-decoration-color: #0087ff\">ScaledL2NormPooling2D</span>)         │                        │               │\n",
       "├─────────────────────────────────┼────────────────────────┼───────────────┤\n",
       "│ flatten (<span style=\"color: #0087ff; text-decoration-color: #0087ff\">Flatten</span>)               │ (<span style=\"color: #00d7ff; text-decoration-color: #00d7ff\">None</span>, <span style=\"color: #00af00; text-decoration-color: #00af00\">1568</span>)           │             <span style=\"color: #00af00; text-decoration-color: #00af00\">0</span> │\n",
       "├─────────────────────────────────┼────────────────────────┼───────────────┤\n",
       "│ spectral_dense (<span style=\"color: #0087ff; text-decoration-color: #0087ff\">SpectralDense</span>)  │ (<span style=\"color: #00d7ff; text-decoration-color: #00d7ff\">None</span>, <span style=\"color: #00af00; text-decoration-color: #00af00\">64</span>)             │       <span style=\"color: #00af00; text-decoration-color: #00af00\">200,833</span> │\n",
       "├─────────────────────────────────┼────────────────────────┼───────────────┤\n",
       "│ frobenius_dense                 │ (<span style=\"color: #00d7ff; text-decoration-color: #00d7ff\">None</span>, <span style=\"color: #00af00; text-decoration-color: #00af00\">10</span>)             │         <span style=\"color: #00af00; text-decoration-color: #00af00\">1,280</span> │\n",
       "│ (<span style=\"color: #0087ff; text-decoration-color: #0087ff\">FrobeniusDense</span>)                │                        │               │\n",
       "└─────────────────────────────────┴────────────────────────┴───────────────┘\n",
       "</pre>\n"
      ],
      "text/plain": [
       "┏━━━━━━━━━━━━━━━━━━━━━━━━━━━━━━━━━┳━━━━━━━━━━━━━━━━━━━━━━━━┳━━━━━━━━━━━━━━━┓\n",
       "┃\u001b[1m \u001b[0m\u001b[1mLayer (type)                   \u001b[0m\u001b[1m \u001b[0m┃\u001b[1m \u001b[0m\u001b[1mOutput Shape          \u001b[0m\u001b[1m \u001b[0m┃\u001b[1m \u001b[0m\u001b[1m      Param #\u001b[0m\u001b[1m \u001b[0m┃\n",
       "┡━━━━━━━━━━━━━━━━━━━━━━━━━━━━━━━━━╇━━━━━━━━━━━━━━━━━━━━━━━━╇━━━━━━━━━━━━━━━┩\n",
       "│ spectral_conv2d                 │ (\u001b[38;5;45mNone\u001b[0m, \u001b[38;5;34m28\u001b[0m, \u001b[38;5;34m28\u001b[0m, \u001b[38;5;34m16\u001b[0m)     │           \u001b[38;5;34m321\u001b[0m │\n",
       "│ (\u001b[38;5;33mSpectralConv2D\u001b[0m)                │                        │               │\n",
       "├─────────────────────────────────┼────────────────────────┼───────────────┤\n",
       "│ scaled_l2_norm_pooling2d        │ (\u001b[38;5;45mNone\u001b[0m, \u001b[38;5;34m14\u001b[0m, \u001b[38;5;34m14\u001b[0m, \u001b[38;5;34m16\u001b[0m)     │             \u001b[38;5;34m0\u001b[0m │\n",
       "│ (\u001b[38;5;33mScaledL2NormPooling2D\u001b[0m)         │                        │               │\n",
       "├─────────────────────────────────┼────────────────────────┼───────────────┤\n",
       "│ spectral_conv2d_1               │ (\u001b[38;5;45mNone\u001b[0m, \u001b[38;5;34m14\u001b[0m, \u001b[38;5;34m14\u001b[0m, \u001b[38;5;34m32\u001b[0m)     │         \u001b[38;5;34m9,281\u001b[0m │\n",
       "│ (\u001b[38;5;33mSpectralConv2D\u001b[0m)                │                        │               │\n",
       "├─────────────────────────────────┼────────────────────────┼───────────────┤\n",
       "│ scaled_l2_norm_pooling2d_1      │ (\u001b[38;5;45mNone\u001b[0m, \u001b[38;5;34m7\u001b[0m, \u001b[38;5;34m7\u001b[0m, \u001b[38;5;34m32\u001b[0m)       │             \u001b[38;5;34m0\u001b[0m │\n",
       "│ (\u001b[38;5;33mScaledL2NormPooling2D\u001b[0m)         │                        │               │\n",
       "├─────────────────────────────────┼────────────────────────┼───────────────┤\n",
       "│ flatten (\u001b[38;5;33mFlatten\u001b[0m)               │ (\u001b[38;5;45mNone\u001b[0m, \u001b[38;5;34m1568\u001b[0m)           │             \u001b[38;5;34m0\u001b[0m │\n",
       "├─────────────────────────────────┼────────────────────────┼───────────────┤\n",
       "│ spectral_dense (\u001b[38;5;33mSpectralDense\u001b[0m)  │ (\u001b[38;5;45mNone\u001b[0m, \u001b[38;5;34m64\u001b[0m)             │       \u001b[38;5;34m200,833\u001b[0m │\n",
       "├─────────────────────────────────┼────────────────────────┼───────────────┤\n",
       "│ frobenius_dense                 │ (\u001b[38;5;45mNone\u001b[0m, \u001b[38;5;34m10\u001b[0m)             │         \u001b[38;5;34m1,280\u001b[0m │\n",
       "│ (\u001b[38;5;33mFrobeniusDense\u001b[0m)                │                        │               │\n",
       "└─────────────────────────────────┴────────────────────────┴───────────────┘\n"
      ]
     },
     "metadata": {},
     "output_type": "display_data"
    },
    {
     "data": {
      "text/html": [
       "<pre style=\"white-space:pre;overflow-x:auto;line-height:normal;font-family:Menlo,'DejaVu Sans Mono',consolas,'Courier New',monospace\"><span style=\"font-weight: bold\"> Total params: </span><span style=\"color: #00af00; text-decoration-color: #00af00\">211,715</span> (827.01 KB)\n",
       "</pre>\n"
      ],
      "text/plain": [
       "\u001b[1m Total params: \u001b[0m\u001b[38;5;34m211,715\u001b[0m (827.01 KB)\n"
      ]
     },
     "metadata": {},
     "output_type": "display_data"
    },
    {
     "data": {
      "text/html": [
       "<pre style=\"white-space:pre;overflow-x:auto;line-height:normal;font-family:Menlo,'DejaVu Sans Mono',consolas,'Courier New',monospace\"><span style=\"font-weight: bold\"> Trainable params: </span><span style=\"color: #00af00; text-decoration-color: #00af00\">105,856</span> (413.50 KB)\n",
       "</pre>\n"
      ],
      "text/plain": [
       "\u001b[1m Trainable params: \u001b[0m\u001b[38;5;34m105,856\u001b[0m (413.50 KB)\n"
      ]
     },
     "metadata": {},
     "output_type": "display_data"
    },
    {
     "data": {
      "text/html": [
       "<pre style=\"white-space:pre;overflow-x:auto;line-height:normal;font-family:Menlo,'DejaVu Sans Mono',consolas,'Courier New',monospace\"><span style=\"font-weight: bold\"> Non-trainable params: </span><span style=\"color: #00af00; text-decoration-color: #00af00\">105,859</span> (413.51 KB)\n",
       "</pre>\n"
      ],
      "text/plain": [
       "\u001b[1m Non-trainable params: \u001b[0m\u001b[38;5;34m105,859\u001b[0m (413.51 KB)\n"
      ]
     },
     "metadata": {},
     "output_type": "display_data"
    }
   ],
   "source": [
    "# Sequential (resp Model) from deel.model has the same properties as any lipschitz model.\n",
    "# It act only as a container, with features specific to lipschitz\n",
    "# functions (condensation, vanilla_exportation...)\n",
    "model = Sequential(\n",
    "    [\n",
    "        Input(shape=x_train.shape[1:]),\n",
    "        # Lipschitz layers preserve the API of their superclass ( here Conv2D )\n",
    "        # an optional param is available: k_coef_lip which control the lipschitz\n",
    "        # constant of the layer\n",
    "        SpectralConv2D(\n",
    "            filters=16,\n",
    "            kernel_size=(3, 3),\n",
    "            activation=GroupSort(2),\n",
    "            use_bias=True,\n",
    "            kernel_initializer=\"orthogonal\",\n",
    "        ),\n",
    "        # usual pooling layer are implemented (avg, max...), but new layers are also available\n",
    "        ScaledL2NormPooling2D(pool_size=(2, 2), data_format=\"channels_last\"),\n",
    "        SpectralConv2D(\n",
    "            filters=32,\n",
    "            kernel_size=(3, 3),\n",
    "            activation=GroupSort(2),\n",
    "            use_bias=True,\n",
    "            kernel_initializer=\"orthogonal\",\n",
    "        ),\n",
    "        ScaledL2NormPooling2D(pool_size=(2, 2), data_format=\"channels_last\"),\n",
    "        # our layers are fully interoperable with existing keras layers\n",
    "        Flatten(),\n",
    "        SpectralDense(\n",
    "            64,\n",
    "            activation=GroupSort(2),\n",
    "            use_bias=True,\n",
    "            kernel_initializer=\"orthogonal\",\n",
    "        ),\n",
    "        FrobeniusDense(\n",
    "            y_train.shape[-1],\n",
    "            activation=None,\n",
    "            use_bias=False,\n",
    "            kernel_initializer=\"orthogonal\",\n",
    "        ),\n",
    "    ],\n",
    "    # similary model has a parameter to set the lipschitz constant\n",
    "    # to set automatically the constant of each layer\n",
    "    k_coef_lip=1.0,\n",
    "    name=\"hkr_model\",\n",
    ")\n",
    "\n",
    "# HKR (Hinge-Krantorovich-Rubinstein) optimize robustness along with accuracy\n",
    "model.compile(\n",
    "    # decreasing alpha and increasing min_margin improve robustness (at the cost of accuracy)\n",
    "    # note also in the case of lipschitz networks, more robustness require more parameters.\n",
    "    loss=MulticlassHKR(alpha=100, min_margin=0.25),\n",
    "    optimizer=Adam(1e-4),\n",
    "    metrics=[\"accuracy\", MulticlassKR()],\n",
    ")\n",
    "\n",
    "model.summary()"
   ]
  },
  {
   "cell_type": "markdown",
   "metadata": {
    "id": "zH0oy4iRP1Ct"
   },
   "source": [
    "### Notes about constraint enforcement\n",
    "\n",
    "There are currently 3 way to enforce a constraint in a network:\n",
    "\n",
    "1. regularization\n",
    "2. weight reparametrization\n",
    "3. weight projection\n",
    "\n",
    "The first one don't provide the required garanties, this is why `deel-lip` focuses on\n",
    "the later two. Weight reparametrization is done directly in the layers (parameter\n",
    "`niter_bjorck`) this trick allow to perform arbitrary gradient updates without breaking\n",
    "the constraint. However this is done in the graph, increasing ressources consumption.\n",
    "The last method project the weights between each batch, ensuring the constraint at an\n",
    "more affordable computational cost. It can be done in `deel-lip` using the\n",
    "`CondenseCallback`. The main problem with this method is a reduced efficiency of each\n",
    "update.\n",
    "\n",
    "As a rule of thumb, when reparametrization is used alone, setting `niter_bjorck` to at\n",
    "least 15 is advised. However when combined with weight projection, this setting can be\n",
    "lowered greatly.\n"
   ]
  },
  {
   "cell_type": "code",
   "execution_count": 5,
   "metadata": {
    "colab": {
     "base_uri": "https://localhost:8080/"
    },
    "id": "p1rWZTZBHEIR",
    "outputId": "7cb00f9b-0f84-40f0-c5fa-b29fc0a00c92"
   },
   "outputs": [
    {
     "name": "stdout",
     "output_type": "stream",
     "text": [
      "Epoch 1/100\n"
     ]
    },
    {
     "name": "stderr",
     "output_type": "stream",
     "text": [
      "WARNING: All log messages before absl::InitializeLog() is called are written to STDERR\n",
      "I0000 00:00:1725629195.757170  871150 service.cc:146] XLA service 0x55ee43b7d460 initialized for platform CUDA (this does not guarantee that XLA will be used). Devices:\n",
      "I0000 00:00:1725629195.757189  871150 service.cc:154]   StreamExecutor device (0): NVIDIA GeForce RTX 2070 SUPER, Compute Capability 7.5\n",
      "2024-09-06 15:26:35.802016: I tensorflow/compiler/mlir/tensorflow/utils/dump_mlir_util.cc:268] disabling MLIR crash reproducer, set env var `MLIR_CRASH_REPRODUCER_DIRECTORY` to enable.\n",
      "2024-09-06 15:26:35.991972: I external/local_xla/xla/stream_executor/cuda/cuda_dnn.cc:531] Loaded cuDNN version 8902\n"
     ]
    },
    {
     "name": "stdout",
     "output_type": "stream",
     "text": [
      "\u001b[1m 7/15\u001b[0m \u001b[32m━━━━━━━━━\u001b[0m\u001b[37m━━━━━━━━━━━\u001b[0m \u001b[1m0s\u001b[0m 23ms/step - MulticlassKR: 0.0541 - accuracy: 0.1560 - loss: 20.3139"
     ]
    },
    {
     "name": "stderr",
     "output_type": "stream",
     "text": [
      "I0000 00:00:1725629199.904060  871150 device_compiler.h:188] Compiled cluster using XLA!  This line is logged at most once for the lifetime of the process.\n"
     ]
    },
    {
     "name": "stdout",
     "output_type": "stream",
     "text": [
      "\u001b[1m15/15\u001b[0m \u001b[32m━━━━━━━━━━━━━━━━━━━━\u001b[0m\u001b[37m\u001b[0m \u001b[1m10s\u001b[0m 328ms/step - MulticlassKR: 0.0763 - accuracy: 0.2224 - loss: 18.1235 - val_MulticlassKR: 0.1733 - val_accuracy: 0.4881 - val_loss: 11.0883\n",
      "Epoch 2/100\n",
      "\u001b[1m15/15\u001b[0m \u001b[32m━━━━━━━━━━━━━━━━━━━━\u001b[0m\u001b[37m\u001b[0m \u001b[1m0s\u001b[0m 23ms/step - MulticlassKR: 0.2081 - accuracy: 0.4988 - loss: 9.7469 - val_MulticlassKR: 0.2769 - val_accuracy: 0.5344 - val_loss: 7.6648\n",
      "Epoch 3/100\n",
      "\u001b[1m15/15\u001b[0m \u001b[32m━━━━━━━━━━━━━━━━━━━━\u001b[0m\u001b[37m\u001b[0m \u001b[1m0s\u001b[0m 23ms/step - MulticlassKR: 0.2982 - accuracy: 0.5801 - loss: 7.1314 - val_MulticlassKR: 0.3344 - val_accuracy: 0.6024 - val_loss: 6.3906\n",
      "Epoch 4/100\n",
      "\u001b[1m15/15\u001b[0m \u001b[32m━━━━━━━━━━━━━━━━━━━━\u001b[0m\u001b[37m\u001b[0m \u001b[1m0s\u001b[0m 23ms/step - MulticlassKR: 0.3466 - accuracy: 0.6334 - loss: 6.0837 - val_MulticlassKR: 0.3680 - val_accuracy: 0.6562 - val_loss: 5.7714\n",
      "Epoch 5/100\n",
      "\u001b[1m15/15\u001b[0m \u001b[32m━━━━━━━━━━━━━━━━━━━━\u001b[0m\u001b[37m\u001b[0m \u001b[1m0s\u001b[0m 23ms/step - MulticlassKR: 0.3781 - accuracy: 0.6822 - loss: 5.5372 - val_MulticlassKR: 0.3964 - val_accuracy: 0.6994 - val_loss: 5.3437\n",
      "Epoch 6/100\n",
      "\u001b[1m15/15\u001b[0m \u001b[32m━━━━━━━━━━━━━━━━━━━━\u001b[0m\u001b[37m\u001b[0m \u001b[1m0s\u001b[0m 23ms/step - MulticlassKR: 0.4043 - accuracy: 0.7169 - loss: 5.1466 - val_MulticlassKR: 0.4180 - val_accuracy: 0.7150 - val_loss: 5.0471\n",
      "Epoch 7/100\n",
      "\u001b[1m15/15\u001b[0m \u001b[32m━━━━━━━━━━━━━━━━━━━━\u001b[0m\u001b[37m\u001b[0m \u001b[1m0s\u001b[0m 23ms/step - MulticlassKR: 0.4237 - accuracy: 0.7325 - loss: 4.8670 - val_MulticlassKR: 0.4346 - val_accuracy: 0.7278 - val_loss: 4.8037\n",
      "Epoch 8/100\n",
      "\u001b[1m15/15\u001b[0m \u001b[32m━━━━━━━━━━━━━━━━━━━━\u001b[0m\u001b[37m\u001b[0m \u001b[1m0s\u001b[0m 23ms/step - MulticlassKR: 0.4419 - accuracy: 0.7441 - loss: 4.6246 - val_MulticlassKR: 0.4532 - val_accuracy: 0.7409 - val_loss: 4.6052\n",
      "Epoch 9/100\n",
      "\u001b[1m15/15\u001b[0m \u001b[32m━━━━━━━━━━━━━━━━━━━━\u001b[0m\u001b[37m\u001b[0m \u001b[1m0s\u001b[0m 23ms/step - MulticlassKR: 0.4604 - accuracy: 0.7503 - loss: 4.3993 - val_MulticlassKR: 0.4686 - val_accuracy: 0.7430 - val_loss: 4.4466\n",
      "Epoch 10/100\n",
      "\u001b[1m15/15\u001b[0m \u001b[32m━━━━━━━━━━━━━━━━━━━━\u001b[0m\u001b[37m\u001b[0m \u001b[1m0s\u001b[0m 23ms/step - MulticlassKR: 0.4754 - accuracy: 0.7582 - loss: 4.2522 - val_MulticlassKR: 0.4846 - val_accuracy: 0.7539 - val_loss: 4.2892\n",
      "Epoch 11/100\n",
      "\u001b[1m15/15\u001b[0m \u001b[32m━━━━━━━━━━━━━━━━━━━━\u001b[0m\u001b[37m\u001b[0m \u001b[1m0s\u001b[0m 23ms/step - MulticlassKR: 0.4916 - accuracy: 0.7638 - loss: 4.1165 - val_MulticlassKR: 0.4996 - val_accuracy: 0.7585 - val_loss: 4.1607\n",
      "Epoch 12/100\n",
      "\u001b[1m15/15\u001b[0m \u001b[32m━━━━━━━━━━━━━━━━━━━━\u001b[0m\u001b[37m\u001b[0m \u001b[1m0s\u001b[0m 23ms/step - MulticlassKR: 0.5069 - accuracy: 0.7669 - loss: 3.9638 - val_MulticlassKR: 0.5160 - val_accuracy: 0.7611 - val_loss: 4.0370\n",
      "Epoch 13/100\n",
      "\u001b[1m15/15\u001b[0m \u001b[32m━━━━━━━━━━━━━━━━━━━━\u001b[0m\u001b[37m\u001b[0m \u001b[1m0s\u001b[0m 23ms/step - MulticlassKR: 0.5218 - accuracy: 0.7733 - loss: 3.8421 - val_MulticlassKR: 0.5304 - val_accuracy: 0.7674 - val_loss: 3.9188\n",
      "Epoch 14/100\n",
      "\u001b[1m15/15\u001b[0m \u001b[32m━━━━━━━━━━━━━━━━━━━━\u001b[0m\u001b[37m\u001b[0m \u001b[1m0s\u001b[0m 23ms/step - MulticlassKR: 0.5361 - accuracy: 0.7779 - loss: 3.7251 - val_MulticlassKR: 0.5449 - val_accuracy: 0.7701 - val_loss: 3.8162\n",
      "Epoch 15/100\n",
      "\u001b[1m15/15\u001b[0m \u001b[32m━━━━━━━━━━━━━━━━━━━━\u001b[0m\u001b[37m\u001b[0m \u001b[1m0s\u001b[0m 23ms/step - MulticlassKR: 0.5503 - accuracy: 0.7808 - loss: 3.6451 - val_MulticlassKR: 0.5575 - val_accuracy: 0.7742 - val_loss: 3.7264\n",
      "Epoch 16/100\n",
      "\u001b[1m15/15\u001b[0m \u001b[32m━━━━━━━━━━━━━━━━━━━━\u001b[0m\u001b[37m\u001b[0m \u001b[1m0s\u001b[0m 23ms/step - MulticlassKR: 0.5641 - accuracy: 0.7860 - loss: 3.5308 - val_MulticlassKR: 0.5729 - val_accuracy: 0.7778 - val_loss: 3.6387\n",
      "Epoch 17/100\n",
      "\u001b[1m15/15\u001b[0m \u001b[32m━━━━━━━━━━━━━━━━━━━━\u001b[0m\u001b[37m\u001b[0m \u001b[1m0s\u001b[0m 23ms/step - MulticlassKR: 0.5776 - accuracy: 0.7858 - loss: 3.4762 - val_MulticlassKR: 0.5863 - val_accuracy: 0.7795 - val_loss: 3.5747\n",
      "Epoch 18/100\n",
      "\u001b[1m15/15\u001b[0m \u001b[32m━━━━━━━━━━━━━━━━━━━━\u001b[0m\u001b[37m\u001b[0m \u001b[1m0s\u001b[0m 23ms/step - MulticlassKR: 0.5929 - accuracy: 0.7947 - loss: 3.3608 - val_MulticlassKR: 0.5964 - val_accuracy: 0.7841 - val_loss: 3.5003\n",
      "Epoch 19/100\n",
      "\u001b[1m15/15\u001b[0m \u001b[32m━━━━━━━━━━━━━━━━━━━━\u001b[0m\u001b[37m\u001b[0m \u001b[1m0s\u001b[0m 23ms/step - MulticlassKR: 0.6043 - accuracy: 0.7972 - loss: 3.2695 - val_MulticlassKR: 0.6103 - val_accuracy: 0.7840 - val_loss: 3.4513\n",
      "Epoch 20/100\n",
      "\u001b[1m15/15\u001b[0m \u001b[32m━━━━━━━━━━━━━━━━━━━━\u001b[0m\u001b[37m\u001b[0m \u001b[1m0s\u001b[0m 23ms/step - MulticlassKR: 0.6161 - accuracy: 0.7980 - loss: 3.2273 - val_MulticlassKR: 0.6240 - val_accuracy: 0.7872 - val_loss: 3.3683\n",
      "Epoch 21/100\n",
      "\u001b[1m15/15\u001b[0m \u001b[32m━━━━━━━━━━━━━━━━━━━━\u001b[0m\u001b[37m\u001b[0m \u001b[1m0s\u001b[0m 23ms/step - MulticlassKR: 0.6286 - accuracy: 0.8012 - loss: 3.1890 - val_MulticlassKR: 0.6348 - val_accuracy: 0.7915 - val_loss: 3.3028\n",
      "Epoch 22/100\n",
      "\u001b[1m15/15\u001b[0m \u001b[32m━━━━━━━━━━━━━━━━━━━━\u001b[0m\u001b[37m\u001b[0m \u001b[1m0s\u001b[0m 23ms/step - MulticlassKR: 0.6422 - accuracy: 0.8026 - loss: 3.1332 - val_MulticlassKR: 0.6465 - val_accuracy: 0.7940 - val_loss: 3.2599\n",
      "Epoch 23/100\n",
      "\u001b[1m15/15\u001b[0m \u001b[32m━━━━━━━━━━━━━━━━━━━━\u001b[0m\u001b[37m\u001b[0m \u001b[1m0s\u001b[0m 23ms/step - MulticlassKR: 0.6536 - accuracy: 0.8073 - loss: 3.0645 - val_MulticlassKR: 0.6620 - val_accuracy: 0.7959 - val_loss: 3.1935\n",
      "Epoch 24/100\n",
      "\u001b[1m15/15\u001b[0m \u001b[32m━━━━━━━━━━━━━━━━━━━━\u001b[0m\u001b[37m\u001b[0m \u001b[1m0s\u001b[0m 23ms/step - MulticlassKR: 0.6670 - accuracy: 0.8122 - loss: 2.9769 - val_MulticlassKR: 0.6753 - val_accuracy: 0.7995 - val_loss: 3.1647\n",
      "Epoch 25/100\n",
      "\u001b[1m15/15\u001b[0m \u001b[32m━━━━━━━━━━━━━━━━━━━━\u001b[0m\u001b[37m\u001b[0m \u001b[1m0s\u001b[0m 23ms/step - MulticlassKR: 0.6822 - accuracy: 0.8100 - loss: 2.9820 - val_MulticlassKR: 0.6854 - val_accuracy: 0.8022 - val_loss: 3.1222\n",
      "Epoch 26/100\n",
      "\u001b[1m15/15\u001b[0m \u001b[32m━━━━━━━━━━━━━━━━━━━━\u001b[0m\u001b[37m\u001b[0m \u001b[1m0s\u001b[0m 23ms/step - MulticlassKR: 0.6940 - accuracy: 0.8144 - loss: 2.9172 - val_MulticlassKR: 0.7015 - val_accuracy: 0.8025 - val_loss: 3.0453\n",
      "Epoch 27/100\n",
      "\u001b[1m15/15\u001b[0m \u001b[32m━━━━━━━━━━━━━━━━━━━━\u001b[0m\u001b[37m\u001b[0m \u001b[1m0s\u001b[0m 23ms/step - MulticlassKR: 0.7081 - accuracy: 0.8151 - loss: 2.8395 - val_MulticlassKR: 0.7163 - val_accuracy: 0.8017 - val_loss: 3.0229\n",
      "Epoch 28/100\n",
      "\u001b[1m15/15\u001b[0m \u001b[32m━━━━━━━━━━━━━━━━━━━━\u001b[0m\u001b[37m\u001b[0m \u001b[1m0s\u001b[0m 23ms/step - MulticlassKR: 0.7224 - accuracy: 0.8149 - loss: 2.8350 - val_MulticlassKR: 0.7286 - val_accuracy: 0.8061 - val_loss: 2.9596\n",
      "Epoch 29/100\n",
      "\u001b[1m15/15\u001b[0m \u001b[32m━━━━━━━━━━━━━━━━━━━━\u001b[0m\u001b[37m\u001b[0m \u001b[1m0s\u001b[0m 23ms/step - MulticlassKR: 0.7366 - accuracy: 0.8169 - loss: 2.7816 - val_MulticlassKR: 0.7417 - val_accuracy: 0.8054 - val_loss: 2.9296\n",
      "Epoch 30/100\n",
      "\u001b[1m15/15\u001b[0m \u001b[32m━━━━━━━━━━━━━━━━━━━━\u001b[0m\u001b[37m\u001b[0m \u001b[1m0s\u001b[0m 23ms/step - MulticlassKR: 0.7499 - accuracy: 0.8222 - loss: 2.7434 - val_MulticlassKR: 0.7554 - val_accuracy: 0.8099 - val_loss: 2.9055\n",
      "Epoch 31/100\n",
      "\u001b[1m15/15\u001b[0m \u001b[32m━━━━━━━━━━━━━━━━━━━━\u001b[0m\u001b[37m\u001b[0m \u001b[1m0s\u001b[0m 23ms/step - MulticlassKR: 0.7616 - accuracy: 0.8199 - loss: 2.7226 - val_MulticlassKR: 0.7701 - val_accuracy: 0.8129 - val_loss: 2.8723\n",
      "Epoch 32/100\n",
      "\u001b[1m15/15\u001b[0m \u001b[32m━━━━━━━━━━━━━━━━━━━━\u001b[0m\u001b[37m\u001b[0m \u001b[1m0s\u001b[0m 24ms/step - MulticlassKR: 0.7776 - accuracy: 0.8200 - loss: 2.7143 - val_MulticlassKR: 0.7863 - val_accuracy: 0.8118 - val_loss: 2.8070\n",
      "Epoch 33/100\n",
      "\u001b[1m15/15\u001b[0m \u001b[32m━━━━━━━━━━━━━━━━━━━━\u001b[0m\u001b[37m\u001b[0m \u001b[1m0s\u001b[0m 23ms/step - MulticlassKR: 0.7904 - accuracy: 0.8222 - loss: 2.6423 - val_MulticlassKR: 0.7993 - val_accuracy: 0.8173 - val_loss: 2.7952\n",
      "Epoch 34/100\n",
      "\u001b[1m15/15\u001b[0m \u001b[32m━━━━━━━━━━━━━━━━━━━━\u001b[0m\u001b[37m\u001b[0m \u001b[1m0s\u001b[0m 23ms/step - MulticlassKR: 0.8055 - accuracy: 0.8226 - loss: 2.5915 - val_MulticlassKR: 0.8127 - val_accuracy: 0.8150 - val_loss: 2.7401\n",
      "Epoch 35/100\n",
      "\u001b[1m15/15\u001b[0m \u001b[32m━━━━━━━━━━━━━━━━━━━━\u001b[0m\u001b[37m\u001b[0m \u001b[1m0s\u001b[0m 23ms/step - MulticlassKR: 0.8197 - accuracy: 0.8248 - loss: 2.5484 - val_MulticlassKR: 0.8272 - val_accuracy: 0.8150 - val_loss: 2.7171\n",
      "Epoch 36/100\n",
      "\u001b[1m15/15\u001b[0m \u001b[32m━━━━━━━━━━━━━━━━━━━━\u001b[0m\u001b[37m\u001b[0m \u001b[1m0s\u001b[0m 23ms/step - MulticlassKR: 0.8347 - accuracy: 0.8238 - loss: 2.5125 - val_MulticlassKR: 0.8409 - val_accuracy: 0.8182 - val_loss: 2.6731\n",
      "Epoch 37/100\n",
      "\u001b[1m15/15\u001b[0m \u001b[32m━━━━━━━━━━━━━━━━━━━━\u001b[0m\u001b[37m\u001b[0m \u001b[1m0s\u001b[0m 23ms/step - MulticlassKR: 0.8476 - accuracy: 0.8262 - loss: 2.4837 - val_MulticlassKR: 0.8514 - val_accuracy: 0.8213 - val_loss: 2.6460\n",
      "Epoch 38/100\n",
      "\u001b[1m15/15\u001b[0m \u001b[32m━━━━━━━━━━━━━━━━━━━━\u001b[0m\u001b[37m\u001b[0m \u001b[1m0s\u001b[0m 24ms/step - MulticlassKR: 0.8624 - accuracy: 0.8264 - loss: 2.4758 - val_MulticlassKR: 0.8680 - val_accuracy: 0.8220 - val_loss: 2.6092\n",
      "Epoch 39/100\n",
      "\u001b[1m15/15\u001b[0m \u001b[32m━━━━━━━━━━━━━━━━━━━━\u001b[0m\u001b[37m\u001b[0m \u001b[1m0s\u001b[0m 23ms/step - MulticlassKR: 0.8787 - accuracy: 0.8311 - loss: 2.3857 - val_MulticlassKR: 0.8839 - val_accuracy: 0.8224 - val_loss: 2.5782\n",
      "Epoch 40/100\n",
      "\u001b[1m15/15\u001b[0m \u001b[32m━━━━━━━━━━━━━━━━━━━━\u001b[0m\u001b[37m\u001b[0m \u001b[1m0s\u001b[0m 23ms/step - MulticlassKR: 0.8878 - accuracy: 0.8294 - loss: 2.4098 - val_MulticlassKR: 0.8976 - val_accuracy: 0.8186 - val_loss: 2.5610\n",
      "Epoch 41/100\n",
      "\u001b[1m15/15\u001b[0m \u001b[32m━━━━━━━━━━━━━━━━━━━━\u001b[0m\u001b[37m\u001b[0m \u001b[1m0s\u001b[0m 23ms/step - MulticlassKR: 0.9059 - accuracy: 0.8301 - loss: 2.3862 - val_MulticlassKR: 0.9114 - val_accuracy: 0.8209 - val_loss: 2.5297\n",
      "Epoch 42/100\n",
      "\u001b[1m15/15\u001b[0m \u001b[32m━━━━━━━━━━━━━━━━━━━━\u001b[0m\u001b[37m\u001b[0m \u001b[1m0s\u001b[0m 23ms/step - MulticlassKR: 0.9195 - accuracy: 0.8314 - loss: 2.3217 - val_MulticlassKR: 0.9314 - val_accuracy: 0.8245 - val_loss: 2.4789\n",
      "Epoch 43/100\n",
      "\u001b[1m15/15\u001b[0m \u001b[32m━━━━━━━━━━━━━━━━━━━━\u001b[0m\u001b[37m\u001b[0m \u001b[1m0s\u001b[0m 23ms/step - MulticlassKR: 0.9348 - accuracy: 0.8341 - loss: 2.2993 - val_MulticlassKR: 0.9414 - val_accuracy: 0.8268 - val_loss: 2.4494\n",
      "Epoch 44/100\n",
      "\u001b[1m15/15\u001b[0m \u001b[32m━━━━━━━━━━━━━━━━━━━━\u001b[0m\u001b[37m\u001b[0m \u001b[1m0s\u001b[0m 23ms/step - MulticlassKR: 0.9513 - accuracy: 0.8365 - loss: 2.2156 - val_MulticlassKR: 0.9535 - val_accuracy: 0.8286 - val_loss: 2.4348\n",
      "Epoch 45/100\n",
      "\u001b[1m15/15\u001b[0m \u001b[32m━━━━━━━━━━━━━━━━━━━━\u001b[0m\u001b[37m\u001b[0m \u001b[1m0s\u001b[0m 23ms/step - MulticlassKR: 0.9637 - accuracy: 0.8364 - loss: 2.2075 - val_MulticlassKR: 0.9722 - val_accuracy: 0.8277 - val_loss: 2.4032\n",
      "Epoch 46/100\n",
      "\u001b[1m15/15\u001b[0m \u001b[32m━━━━━━━━━━━━━━━━━━━━\u001b[0m\u001b[37m\u001b[0m \u001b[1m0s\u001b[0m 23ms/step - MulticlassKR: 0.9808 - accuracy: 0.8363 - loss: 2.2168 - val_MulticlassKR: 0.9827 - val_accuracy: 0.8280 - val_loss: 2.4145\n",
      "Epoch 47/100\n",
      "\u001b[1m15/15\u001b[0m \u001b[32m━━━━━━━━━━━━━━━━━━━━\u001b[0m\u001b[37m\u001b[0m \u001b[1m0s\u001b[0m 23ms/step - MulticlassKR: 0.9938 - accuracy: 0.8363 - loss: 2.2026 - val_MulticlassKR: 1.0033 - val_accuracy: 0.8268 - val_loss: 2.3602\n",
      "Epoch 48/100\n",
      "\u001b[1m15/15\u001b[0m \u001b[32m━━━━━━━━━━━━━━━━━━━━\u001b[0m\u001b[37m\u001b[0m \u001b[1m0s\u001b[0m 24ms/step - MulticlassKR: 1.0093 - accuracy: 0.8343 - loss: 2.1632 - val_MulticlassKR: 1.0187 - val_accuracy: 0.8289 - val_loss: 2.3226\n",
      "Epoch 49/100\n",
      "\u001b[1m15/15\u001b[0m \u001b[32m━━━━━━━━━━━━━━━━━━━━\u001b[0m\u001b[37m\u001b[0m \u001b[1m0s\u001b[0m 23ms/step - MulticlassKR: 1.0262 - accuracy: 0.8364 - loss: 2.1351 - val_MulticlassKR: 1.0315 - val_accuracy: 0.8327 - val_loss: 2.2958\n",
      "Epoch 50/100\n",
      "\u001b[1m15/15\u001b[0m \u001b[32m━━━━━━━━━━━━━━━━━━━━\u001b[0m\u001b[37m\u001b[0m \u001b[1m0s\u001b[0m 23ms/step - MulticlassKR: 1.0390 - accuracy: 0.8379 - loss: 2.1252 - val_MulticlassKR: 1.0438 - val_accuracy: 0.8320 - val_loss: 2.2825\n",
      "Epoch 51/100\n",
      "\u001b[1m15/15\u001b[0m \u001b[32m━━━━━━━━━━━━━━━━━━━━\u001b[0m\u001b[37m\u001b[0m \u001b[1m0s\u001b[0m 23ms/step - MulticlassKR: 1.0535 - accuracy: 0.8396 - loss: 2.0654 - val_MulticlassKR: 1.0616 - val_accuracy: 0.8314 - val_loss: 2.2470\n",
      "Epoch 52/100\n",
      "\u001b[1m15/15\u001b[0m \u001b[32m━━━━━━━━━━━━━━━━━━━━\u001b[0m\u001b[37m\u001b[0m \u001b[1m0s\u001b[0m 23ms/step - MulticlassKR: 1.0690 - accuracy: 0.8388 - loss: 2.0495 - val_MulticlassKR: 1.0761 - val_accuracy: 0.8328 - val_loss: 2.2247\n",
      "Epoch 53/100\n",
      "\u001b[1m15/15\u001b[0m \u001b[32m━━━━━━━━━━━━━━━━━━━━\u001b[0m\u001b[37m\u001b[0m \u001b[1m0s\u001b[0m 23ms/step - MulticlassKR: 1.0853 - accuracy: 0.8401 - loss: 2.0240 - val_MulticlassKR: 1.0873 - val_accuracy: 0.8315 - val_loss: 2.2193\n",
      "Epoch 54/100\n",
      "\u001b[1m15/15\u001b[0m \u001b[32m━━━━━━━━━━━━━━━━━━━━\u001b[0m\u001b[37m\u001b[0m \u001b[1m0s\u001b[0m 23ms/step - MulticlassKR: 1.0977 - accuracy: 0.8366 - loss: 2.0653 - val_MulticlassKR: 1.1064 - val_accuracy: 0.8302 - val_loss: 2.2040\n",
      "Epoch 55/100\n",
      "\u001b[1m15/15\u001b[0m \u001b[32m━━━━━━━━━━━━━━━━━━━━\u001b[0m\u001b[37m\u001b[0m \u001b[1m0s\u001b[0m 23ms/step - MulticlassKR: 1.1159 - accuracy: 0.8426 - loss: 1.9554 - val_MulticlassKR: 1.1209 - val_accuracy: 0.8351 - val_loss: 2.1460\n",
      "Epoch 56/100\n",
      "\u001b[1m15/15\u001b[0m \u001b[32m━━━━━━━━━━━━━━━━━━━━\u001b[0m\u001b[37m\u001b[0m \u001b[1m0s\u001b[0m 23ms/step - MulticlassKR: 1.1261 - accuracy: 0.8412 - loss: 1.9709 - val_MulticlassKR: 1.1347 - val_accuracy: 0.8374 - val_loss: 2.1200\n",
      "Epoch 57/100\n",
      "\u001b[1m15/15\u001b[0m \u001b[32m━━━━━━━━━━━━━━━━━━━━\u001b[0m\u001b[37m\u001b[0m \u001b[1m0s\u001b[0m 23ms/step - MulticlassKR: 1.1447 - accuracy: 0.8418 - loss: 1.9076 - val_MulticlassKR: 1.1494 - val_accuracy: 0.8370 - val_loss: 2.1104\n",
      "Epoch 58/100\n",
      "\u001b[1m15/15\u001b[0m \u001b[32m━━━━━━━━━━━━━━━━━━━━\u001b[0m\u001b[37m\u001b[0m \u001b[1m0s\u001b[0m 23ms/step - MulticlassKR: 1.1581 - accuracy: 0.8381 - loss: 1.9410 - val_MulticlassKR: 1.1646 - val_accuracy: 0.8363 - val_loss: 2.1013\n",
      "Epoch 59/100\n",
      "\u001b[1m15/15\u001b[0m \u001b[32m━━━━━━━━━━━━━━━━━━━━\u001b[0m\u001b[37m\u001b[0m \u001b[1m0s\u001b[0m 23ms/step - MulticlassKR: 1.1667 - accuracy: 0.8415 - loss: 1.9151 - val_MulticlassKR: 1.1772 - val_accuracy: 0.8379 - val_loss: 2.0835\n",
      "Epoch 60/100\n",
      "\u001b[1m15/15\u001b[0m \u001b[32m━━━━━━━━━━━━━━━━━━━━\u001b[0m\u001b[37m\u001b[0m \u001b[1m0s\u001b[0m 23ms/step - MulticlassKR: 1.1850 - accuracy: 0.8437 - loss: 1.8632 - val_MulticlassKR: 1.1927 - val_accuracy: 0.8359 - val_loss: 2.0553\n",
      "Epoch 61/100\n",
      "\u001b[1m15/15\u001b[0m \u001b[32m━━━━━━━━━━━━━━━━━━━━\u001b[0m\u001b[37m\u001b[0m \u001b[1m0s\u001b[0m 23ms/step - MulticlassKR: 1.1986 - accuracy: 0.8448 - loss: 1.8760 - val_MulticlassKR: 1.2034 - val_accuracy: 0.8342 - val_loss: 2.0410\n",
      "Epoch 62/100\n",
      "\u001b[1m15/15\u001b[0m \u001b[32m━━━━━━━━━━━━━━━━━━━━\u001b[0m\u001b[37m\u001b[0m \u001b[1m0s\u001b[0m 23ms/step - MulticlassKR: 1.2100 - accuracy: 0.8459 - loss: 1.8273 - val_MulticlassKR: 1.2160 - val_accuracy: 0.8389 - val_loss: 1.9946\n",
      "Epoch 63/100\n",
      "\u001b[1m15/15\u001b[0m \u001b[32m━━━━━━━━━━━━━━━━━━━━\u001b[0m\u001b[37m\u001b[0m \u001b[1m0s\u001b[0m 23ms/step - MulticlassKR: 1.2255 - accuracy: 0.8464 - loss: 1.7774 - val_MulticlassKR: 1.2324 - val_accuracy: 0.8372 - val_loss: 1.9850\n",
      "Epoch 64/100\n",
      "\u001b[1m15/15\u001b[0m \u001b[32m━━━━━━━━━━━━━━━━━━━━\u001b[0m\u001b[37m\u001b[0m \u001b[1m0s\u001b[0m 23ms/step - MulticlassKR: 1.2352 - accuracy: 0.8434 - loss: 1.7999 - val_MulticlassKR: 1.2406 - val_accuracy: 0.8365 - val_loss: 1.9733\n",
      "Epoch 65/100\n",
      "\u001b[1m15/15\u001b[0m \u001b[32m━━━━━━━━━━━━━━━━━━━━\u001b[0m\u001b[37m\u001b[0m \u001b[1m0s\u001b[0m 23ms/step - MulticlassKR: 1.2477 - accuracy: 0.8476 - loss: 1.7615 - val_MulticlassKR: 1.2563 - val_accuracy: 0.8363 - val_loss: 1.9566\n",
      "Epoch 66/100\n",
      "\u001b[1m15/15\u001b[0m \u001b[32m━━━━━━━━━━━━━━━━━━━━\u001b[0m\u001b[37m\u001b[0m \u001b[1m0s\u001b[0m 23ms/step - MulticlassKR: 1.2580 - accuracy: 0.8476 - loss: 1.7418 - val_MulticlassKR: 1.2686 - val_accuracy: 0.8382 - val_loss: 1.9339\n",
      "Epoch 67/100\n",
      "\u001b[1m15/15\u001b[0m \u001b[32m━━━━━━━━━━━━━━━━━━━━\u001b[0m\u001b[37m\u001b[0m \u001b[1m0s\u001b[0m 23ms/step - MulticlassKR: 1.2797 - accuracy: 0.8454 - loss: 1.7491 - val_MulticlassKR: 1.2778 - val_accuracy: 0.8407 - val_loss: 1.9260\n",
      "Epoch 68/100\n",
      "\u001b[1m15/15\u001b[0m \u001b[32m━━━━━━━━━━━━━━━━━━━━\u001b[0m\u001b[37m\u001b[0m \u001b[1m0s\u001b[0m 23ms/step - MulticlassKR: 1.2899 - accuracy: 0.8479 - loss: 1.7236 - val_MulticlassKR: 1.2878 - val_accuracy: 0.8410 - val_loss: 1.9411\n",
      "Epoch 69/100\n",
      "\u001b[1m15/15\u001b[0m \u001b[32m━━━━━━━━━━━━━━━━━━━━\u001b[0m\u001b[37m\u001b[0m \u001b[1m0s\u001b[0m 23ms/step - MulticlassKR: 1.3019 - accuracy: 0.8483 - loss: 1.6799 - val_MulticlassKR: 1.3025 - val_accuracy: 0.8354 - val_loss: 1.9176\n",
      "Epoch 70/100\n",
      "\u001b[1m15/15\u001b[0m \u001b[32m━━━━━━━━━━━━━━━━━━━━\u001b[0m\u001b[37m\u001b[0m \u001b[1m0s\u001b[0m 23ms/step - MulticlassKR: 1.3128 - accuracy: 0.8486 - loss: 1.6793 - val_MulticlassKR: 1.3139 - val_accuracy: 0.8432 - val_loss: 1.8546\n",
      "Epoch 71/100\n",
      "\u001b[1m15/15\u001b[0m \u001b[32m━━━━━━━━━━━━━━━━━━━━\u001b[0m\u001b[37m\u001b[0m \u001b[1m0s\u001b[0m 24ms/step - MulticlassKR: 1.3220 - accuracy: 0.8486 - loss: 1.6707 - val_MulticlassKR: 1.3299 - val_accuracy: 0.8423 - val_loss: 1.8357\n",
      "Epoch 72/100\n",
      "\u001b[1m15/15\u001b[0m \u001b[32m━━━━━━━━━━━━━━━━━━━━\u001b[0m\u001b[37m\u001b[0m \u001b[1m0s\u001b[0m 23ms/step - MulticlassKR: 1.3397 - accuracy: 0.8487 - loss: 1.6309 - val_MulticlassKR: 1.3332 - val_accuracy: 0.8429 - val_loss: 1.8525\n",
      "Epoch 73/100\n",
      "\u001b[1m15/15\u001b[0m \u001b[32m━━━━━━━━━━━━━━━━━━━━\u001b[0m\u001b[37m\u001b[0m \u001b[1m0s\u001b[0m 23ms/step - MulticlassKR: 1.3449 - accuracy: 0.8523 - loss: 1.5920 - val_MulticlassKR: 1.3529 - val_accuracy: 0.8413 - val_loss: 1.8322\n",
      "Epoch 74/100\n",
      "\u001b[1m15/15\u001b[0m \u001b[32m━━━━━━━━━━━━━━━━━━━━\u001b[0m\u001b[37m\u001b[0m \u001b[1m0s\u001b[0m 24ms/step - MulticlassKR: 1.3592 - accuracy: 0.8471 - loss: 1.6306 - val_MulticlassKR: 1.3657 - val_accuracy: 0.8431 - val_loss: 1.7962\n",
      "Epoch 75/100\n",
      "\u001b[1m15/15\u001b[0m \u001b[32m━━━━━━━━━━━━━━━━━━━━\u001b[0m\u001b[37m\u001b[0m \u001b[1m0s\u001b[0m 23ms/step - MulticlassKR: 1.3692 - accuracy: 0.8469 - loss: 1.6310 - val_MulticlassKR: 1.3748 - val_accuracy: 0.8450 - val_loss: 1.7728\n",
      "Epoch 76/100\n",
      "\u001b[1m15/15\u001b[0m \u001b[32m━━━━━━━━━━━━━━━━━━━━\u001b[0m\u001b[37m\u001b[0m \u001b[1m0s\u001b[0m 23ms/step - MulticlassKR: 1.3819 - accuracy: 0.8498 - loss: 1.6002 - val_MulticlassKR: 1.3847 - val_accuracy: 0.8436 - val_loss: 1.7622\n",
      "Epoch 77/100\n",
      "\u001b[1m15/15\u001b[0m \u001b[32m━━━━━━━━━━━━━━━━━━━━\u001b[0m\u001b[37m\u001b[0m \u001b[1m0s\u001b[0m 23ms/step - MulticlassKR: 1.3935 - accuracy: 0.8503 - loss: 1.5525 - val_MulticlassKR: 1.3909 - val_accuracy: 0.8456 - val_loss: 1.7458\n",
      "Epoch 78/100\n",
      "\u001b[1m15/15\u001b[0m \u001b[32m━━━━━━━━━━━━━━━━━━━━\u001b[0m\u001b[37m\u001b[0m \u001b[1m0s\u001b[0m 23ms/step - MulticlassKR: 1.4010 - accuracy: 0.8518 - loss: 1.5257 - val_MulticlassKR: 1.4095 - val_accuracy: 0.8450 - val_loss: 1.7270\n",
      "Epoch 79/100\n",
      "\u001b[1m15/15\u001b[0m \u001b[32m━━━━━━━━━━━━━━━━━━━━\u001b[0m\u001b[37m\u001b[0m \u001b[1m0s\u001b[0m 23ms/step - MulticlassKR: 1.4161 - accuracy: 0.8517 - loss: 1.5071 - val_MulticlassKR: 1.4145 - val_accuracy: 0.8425 - val_loss: 1.7228\n",
      "Epoch 80/100\n",
      "\u001b[1m15/15\u001b[0m \u001b[32m━━━━━━━━━━━━━━━━━━━━\u001b[0m\u001b[37m\u001b[0m \u001b[1m0s\u001b[0m 23ms/step - MulticlassKR: 1.4280 - accuracy: 0.8526 - loss: 1.4839 - val_MulticlassKR: 1.4281 - val_accuracy: 0.8462 - val_loss: 1.6826\n",
      "Epoch 81/100\n",
      "\u001b[1m15/15\u001b[0m \u001b[32m━━━━━━━━━━━━━━━━━━━━\u001b[0m\u001b[37m\u001b[0m \u001b[1m0s\u001b[0m 23ms/step - MulticlassKR: 1.4356 - accuracy: 0.8520 - loss: 1.4922 - val_MulticlassKR: 1.4364 - val_accuracy: 0.8461 - val_loss: 1.6689\n",
      "Epoch 82/100\n",
      "\u001b[1m15/15\u001b[0m \u001b[32m━━━━━━━━━━━━━━━━━━━━\u001b[0m\u001b[37m\u001b[0m \u001b[1m0s\u001b[0m 23ms/step - MulticlassKR: 1.4442 - accuracy: 0.8516 - loss: 1.4950 - val_MulticlassKR: 1.4495 - val_accuracy: 0.8459 - val_loss: 1.6646\n",
      "Epoch 83/100\n",
      "\u001b[1m15/15\u001b[0m \u001b[32m━━━━━━━━━━━━━━━━━━━━\u001b[0m\u001b[37m\u001b[0m \u001b[1m0s\u001b[0m 23ms/step - MulticlassKR: 1.4544 - accuracy: 0.8535 - loss: 1.4631 - val_MulticlassKR: 1.4591 - val_accuracy: 0.8445 - val_loss: 1.6525\n",
      "Epoch 84/100\n",
      "\u001b[1m15/15\u001b[0m \u001b[32m━━━━━━━━━━━━━━━━━━━━\u001b[0m\u001b[37m\u001b[0m \u001b[1m0s\u001b[0m 24ms/step - MulticlassKR: 1.4672 - accuracy: 0.8545 - loss: 1.4279 - val_MulticlassKR: 1.4700 - val_accuracy: 0.8469 - val_loss: 1.6420\n",
      "Epoch 85/100\n",
      "\u001b[1m15/15\u001b[0m \u001b[32m━━━━━━━━━━━━━━━━━━━━\u001b[0m\u001b[37m\u001b[0m \u001b[1m0s\u001b[0m 23ms/step - MulticlassKR: 1.4714 - accuracy: 0.8513 - loss: 1.4660 - val_MulticlassKR: 1.4745 - val_accuracy: 0.8465 - val_loss: 1.6196\n",
      "Epoch 86/100\n",
      "\u001b[1m15/15\u001b[0m \u001b[32m━━━━━━━━━━━━━━━━━━━━\u001b[0m\u001b[37m\u001b[0m \u001b[1m0s\u001b[0m 23ms/step - MulticlassKR: 1.4830 - accuracy: 0.8523 - loss: 1.4406 - val_MulticlassKR: 1.4870 - val_accuracy: 0.8466 - val_loss: 1.6352\n",
      "Epoch 87/100\n",
      "\u001b[1m15/15\u001b[0m \u001b[32m━━━━━━━━━━━━━━━━━━━━\u001b[0m\u001b[37m\u001b[0m \u001b[1m0s\u001b[0m 23ms/step - MulticlassKR: 1.4993 - accuracy: 0.8514 - loss: 1.4115 - val_MulticlassKR: 1.4946 - val_accuracy: 0.8452 - val_loss: 1.6060\n",
      "Epoch 88/100\n",
      "\u001b[1m15/15\u001b[0m \u001b[32m━━━━━━━━━━━━━━━━━━━━\u001b[0m\u001b[37m\u001b[0m \u001b[1m0s\u001b[0m 23ms/step - MulticlassKR: 1.5002 - accuracy: 0.8533 - loss: 1.3858 - val_MulticlassKR: 1.5038 - val_accuracy: 0.8477 - val_loss: 1.5762\n",
      "Epoch 89/100\n",
      "\u001b[1m15/15\u001b[0m \u001b[32m━━━━━━━━━━━━━━━━━━━━\u001b[0m\u001b[37m\u001b[0m \u001b[1m0s\u001b[0m 23ms/step - MulticlassKR: 1.5100 - accuracy: 0.8533 - loss: 1.3975 - val_MulticlassKR: 1.5142 - val_accuracy: 0.8455 - val_loss: 1.5641\n",
      "Epoch 90/100\n",
      "\u001b[1m15/15\u001b[0m \u001b[32m━━━━━━━━━━━━━━━━━━━━\u001b[0m\u001b[37m\u001b[0m \u001b[1m0s\u001b[0m 23ms/step - MulticlassKR: 1.5211 - accuracy: 0.8535 - loss: 1.3996 - val_MulticlassKR: 1.5238 - val_accuracy: 0.8475 - val_loss: 1.5513\n",
      "Epoch 91/100\n",
      "\u001b[1m15/15\u001b[0m \u001b[32m━━━━━━━━━━━━━━━━━━━━\u001b[0m\u001b[37m\u001b[0m \u001b[1m0s\u001b[0m 23ms/step - MulticlassKR: 1.5309 - accuracy: 0.8557 - loss: 1.3107 - val_MulticlassKR: 1.5346 - val_accuracy: 0.8476 - val_loss: 1.5482\n",
      "Epoch 92/100\n",
      "\u001b[1m15/15\u001b[0m \u001b[32m━━━━━━━━━━━━━━━━━━━━\u001b[0m\u001b[37m\u001b[0m \u001b[1m0s\u001b[0m 23ms/step - MulticlassKR: 1.5376 - accuracy: 0.8533 - loss: 1.3776 - val_MulticlassKR: 1.5392 - val_accuracy: 0.8472 - val_loss: 1.5362\n",
      "Epoch 93/100\n",
      "\u001b[1m15/15\u001b[0m \u001b[32m━━━━━━━━━━━━━━━━━━━━\u001b[0m\u001b[37m\u001b[0m \u001b[1m0s\u001b[0m 23ms/step - MulticlassKR: 1.5526 - accuracy: 0.8541 - loss: 1.3208 - val_MulticlassKR: 1.5509 - val_accuracy: 0.8493 - val_loss: 1.5215\n",
      "Epoch 94/100\n",
      "\u001b[1m15/15\u001b[0m \u001b[32m━━━━━━━━━━━━━━━━━━━━\u001b[0m\u001b[37m\u001b[0m \u001b[1m0s\u001b[0m 23ms/step - MulticlassKR: 1.5585 - accuracy: 0.8545 - loss: 1.3069 - val_MulticlassKR: 1.5586 - val_accuracy: 0.8491 - val_loss: 1.4954\n",
      "Epoch 95/100\n",
      "\u001b[1m15/15\u001b[0m \u001b[32m━━━━━━━━━━━━━━━━━━━━\u001b[0m\u001b[37m\u001b[0m \u001b[1m0s\u001b[0m 23ms/step - MulticlassKR: 1.5643 - accuracy: 0.8532 - loss: 1.3201 - val_MulticlassKR: 1.5686 - val_accuracy: 0.8466 - val_loss: 1.4972\n",
      "Epoch 96/100\n",
      "\u001b[1m15/15\u001b[0m \u001b[32m━━━━━━━━━━━━━━━━━━━━\u001b[0m\u001b[37m\u001b[0m \u001b[1m0s\u001b[0m 23ms/step - MulticlassKR: 1.5737 - accuracy: 0.8545 - loss: 1.2825 - val_MulticlassKR: 1.5777 - val_accuracy: 0.8466 - val_loss: 1.5008\n",
      "Epoch 97/100\n",
      "\u001b[1m15/15\u001b[0m \u001b[32m━━━━━━━━━━━━━━━━━━━━\u001b[0m\u001b[37m\u001b[0m \u001b[1m0s\u001b[0m 23ms/step - MulticlassKR: 1.5788 - accuracy: 0.8572 - loss: 1.2986 - val_MulticlassKR: 1.5852 - val_accuracy: 0.8477 - val_loss: 1.4803\n",
      "Epoch 98/100\n",
      "\u001b[1m15/15\u001b[0m \u001b[32m━━━━━━━━━━━━━━━━━━━━\u001b[0m\u001b[37m\u001b[0m \u001b[1m0s\u001b[0m 23ms/step - MulticlassKR: 1.5931 - accuracy: 0.8521 - loss: 1.2908 - val_MulticlassKR: 1.5886 - val_accuracy: 0.8442 - val_loss: 1.4900\n",
      "Epoch 99/100\n",
      "\u001b[1m15/15\u001b[0m \u001b[32m━━━━━━━━━━━━━━━━━━━━\u001b[0m\u001b[37m\u001b[0m \u001b[1m0s\u001b[0m 23ms/step - MulticlassKR: 1.5954 - accuracy: 0.8555 - loss: 1.2954 - val_MulticlassKR: 1.6007 - val_accuracy: 0.8503 - val_loss: 1.4417\n",
      "Epoch 100/100\n",
      "\u001b[1m15/15\u001b[0m \u001b[32m━━━━━━━━━━━━━━━━━━━━\u001b[0m\u001b[37m\u001b[0m \u001b[1m0s\u001b[0m 23ms/step - MulticlassKR: 1.6085 - accuracy: 0.8595 - loss: 1.2235 - val_MulticlassKR: 1.6096 - val_accuracy: 0.8479 - val_loss: 1.4542\n"
     ]
    },
    {
     "data": {
      "text/plain": [
       "<keras.src.callbacks.history.History at 0x7f3ca41dcfa0>"
      ]
     },
     "execution_count": 5,
     "metadata": {},
     "output_type": "execute_result"
    }
   ],
   "source": [
    "# fit the model\n",
    "model.fit(\n",
    "    x_train,\n",
    "    y_train,\n",
    "    batch_size=4096,\n",
    "    epochs=100,\n",
    "    validation_data=(x_test, y_test),\n",
    "    shuffle=True,\n",
    "    verbose=1,\n",
    ")"
   ]
  },
  {
   "cell_type": "markdown",
   "metadata": {
    "id": "s6TDG4nflyya"
   },
   "source": [
    "### Model exportation\n",
    "\n",
    "Once training is finished, the model can be optimized for inference by using the\n",
    "`vanilla_export()` method.\n"
   ]
  },
  {
   "cell_type": "code",
   "execution_count": 6,
   "metadata": {
    "id": "Nr2nMclLHHvI"
   },
   "outputs": [],
   "source": [
    "# once training is finished you can convert\n",
    "# SpectralDense layers into Dense layers and SpectralConv2D into Conv2D\n",
    "# which optimize performance for inference\n",
    "vanilla_model = model.vanilla_export()"
   ]
  },
  {
   "cell_type": "markdown",
   "metadata": {
    "id": "V32dqI2NmMPi"
   },
   "source": [
    "### Certificates generation and adversarial attacks\n"
   ]
  },
  {
   "cell_type": "code",
   "execution_count": 7,
   "metadata": {
    "id": "m8h2gEDuIS5q"
   },
   "outputs": [],
   "source": [
    "import keras.ops as K\n",
    "import foolbox as fb\n",
    "import matplotlib.pyplot as plt"
   ]
  },
  {
   "cell_type": "code",
   "execution_count": 8,
   "metadata": {
    "id": "AMdpLMM1IXZJ"
   },
   "outputs": [],
   "source": [
    "# we will test it on 10 samples one of each class\n",
    "nb_adv = 10\n",
    "\n",
    "hkr_fmodel = fb.TensorFlowModel(vanilla_model, bounds=(0.0, 1.0), device=\"/GPU:0\")"
   ]
  },
  {
   "cell_type": "markdown",
   "metadata": {
    "id": "SLRFGRmcmw6K"
   },
   "source": [
    "In order to test the robustness of the model, the first correctly classified element of\n",
    "each class are selected.\n"
   ]
  },
  {
   "cell_type": "code",
   "execution_count": 9,
   "metadata": {
    "colab": {
     "base_uri": "https://localhost:8080/"
    },
    "id": "ry5uB9QdJexi",
    "outputId": "6126888e-d256-4783-d284-0e40555c5dff"
   },
   "outputs": [
    {
     "name": "stdout",
     "output_type": "stream",
     "text": [
      "\u001b[1m10/10\u001b[0m \u001b[32m━━━━━━━━━━━━━━━━━━━━\u001b[0m\u001b[37m\u001b[0m \u001b[1m0s\u001b[0m 27ms/step\n"
     ]
    }
   ],
   "source": [
    "# strategy: first\n",
    "# we select a sample from each class.\n",
    "images_list = []\n",
    "labels_list = []\n",
    "# select only a few element from the test set\n",
    "selected = np.random.choice(len(y_test_ord), 500)\n",
    "sub_y_test_ord = y_test_ord[:300]\n",
    "sub_x_test = x_test[:300]\n",
    "# drop misclassified elements\n",
    "misclassified_mask = K.equal(\n",
    "    K.argmax(vanilla_model.predict(sub_x_test), axis=-1), sub_y_test_ord\n",
    ")\n",
    "sub_x_test = sub_x_test[misclassified_mask]\n",
    "sub_y_test_ord = sub_y_test_ord[misclassified_mask]\n",
    "# now we will build a list with input image for each element of the matrix\n",
    "for i in range(10):\n",
    "    # select the first element of the ith label\n",
    "    label_mask = sub_y_test_ord == i\n",
    "    x = sub_x_test[label_mask][0]\n",
    "    y = sub_y_test_ord[label_mask][0]\n",
    "    # convert it to tensor for use with foolbox\n",
    "    images = K.convert_to_tensor(x.astype(\"float32\"), dtype=\"float32\")\n",
    "    labels = K.convert_to_tensor(y, dtype=\"int64\")\n",
    "    # repeat the input 10 times, one per misclassification target\n",
    "    images_list.append(images)\n",
    "    labels_list.append(labels)\n",
    "images = K.convert_to_tensor(images_list)\n",
    "labels = K.convert_to_tensor(labels_list)"
   ]
  },
  {
   "cell_type": "markdown",
   "metadata": {
    "id": "GJctMBKrnqmC"
   },
   "source": [
    "In order to build a certficate, we take for each sample the top 2 output and apply this\n",
    "formula: $$ \\epsilon \\geq \\frac{\\text{top}\\_1 - \\text{top}\\_2}{2} $$ Where epsilon is\n",
    "the robustness radius for the considered sample.\n"
   ]
  },
  {
   "cell_type": "code",
   "execution_count": 10,
   "metadata": {
    "colab": {
     "base_uri": "https://localhost:8080/"
    },
    "id": "vxbkWNsdBx0y",
    "outputId": "0d419744-f63e-4207-eb31-ebc7e8d730c0"
   },
   "outputs": [
    {
     "name": "stderr",
     "output_type": "stream",
     "text": [
      "W0000 00:00:1725629243.480682  871063 gpu_timer.cc:114] Skipping the delay kernel, measurement accuracy will be reduced\n",
      "W0000 00:00:1725629243.505069  871063 gpu_timer.cc:114] Skipping the delay kernel, measurement accuracy will be reduced\n",
      "W0000 00:00:1725629243.505555  871063 gpu_timer.cc:114] Skipping the delay kernel, measurement accuracy will be reduced\n",
      "W0000 00:00:1725629243.506069  871063 gpu_timer.cc:114] Skipping the delay kernel, measurement accuracy will be reduced\n",
      "W0000 00:00:1725629243.506551  871063 gpu_timer.cc:114] Skipping the delay kernel, measurement accuracy will be reduced\n",
      "W0000 00:00:1725629243.507034  871063 gpu_timer.cc:114] Skipping the delay kernel, measurement accuracy will be reduced\n",
      "W0000 00:00:1725629243.507521  871063 gpu_timer.cc:114] Skipping the delay kernel, measurement accuracy will be reduced\n",
      "W0000 00:00:1725629243.507994  871063 gpu_timer.cc:114] Skipping the delay kernel, measurement accuracy will be reduced\n",
      "W0000 00:00:1725629243.508471  871063 gpu_timer.cc:114] Skipping the delay kernel, measurement accuracy will be reduced\n",
      "W0000 00:00:1725629243.508982  871063 gpu_timer.cc:114] Skipping the delay kernel, measurement accuracy will be reduced\n",
      "W0000 00:00:1725629243.509448  871063 gpu_timer.cc:114] Skipping the delay kernel, measurement accuracy will be reduced\n",
      "W0000 00:00:1725629243.509927  871063 gpu_timer.cc:114] Skipping the delay kernel, measurement accuracy will be reduced\n",
      "W0000 00:00:1725629243.510411  871063 gpu_timer.cc:114] Skipping the delay kernel, measurement accuracy will be reduced\n",
      "W0000 00:00:1725629243.510887  871063 gpu_timer.cc:114] Skipping the delay kernel, measurement accuracy will be reduced\n",
      "W0000 00:00:1725629243.511373  871063 gpu_timer.cc:114] Skipping the delay kernel, measurement accuracy will be reduced\n",
      "W0000 00:00:1725629243.511859  871063 gpu_timer.cc:114] Skipping the delay kernel, measurement accuracy will be reduced\n",
      "W0000 00:00:1725629243.512350  871063 gpu_timer.cc:114] Skipping the delay kernel, measurement accuracy will be reduced\n",
      "W0000 00:00:1725629243.512832  871063 gpu_timer.cc:114] Skipping the delay kernel, measurement accuracy will be reduced\n",
      "W0000 00:00:1725629243.513309  871063 gpu_timer.cc:114] Skipping the delay kernel, measurement accuracy will be reduced\n",
      "W0000 00:00:1725629243.513782  871063 gpu_timer.cc:114] Skipping the delay kernel, measurement accuracy will be reduced\n",
      "W0000 00:00:1725629243.519029  871063 gpu_timer.cc:114] Skipping the delay kernel, measurement accuracy will be reduced\n",
      "W0000 00:00:1725629243.519545  871063 gpu_timer.cc:114] Skipping the delay kernel, measurement accuracy will be reduced\n",
      "W0000 00:00:1725629244.190268  871063 gpu_timer.cc:114] Skipping the delay kernel, measurement accuracy will be reduced\n",
      "W0000 00:00:1725629244.190831  871063 gpu_timer.cc:114] Skipping the delay kernel, measurement accuracy will be reduced\n",
      "W0000 00:00:1725629244.191379  871063 gpu_timer.cc:114] Skipping the delay kernel, measurement accuracy will be reduced\n",
      "W0000 00:00:1725629244.191918  871063 gpu_timer.cc:114] Skipping the delay kernel, measurement accuracy will be reduced\n",
      "W0000 00:00:1725629244.192461  871063 gpu_timer.cc:114] Skipping the delay kernel, measurement accuracy will be reduced\n",
      "W0000 00:00:1725629244.193017  871063 gpu_timer.cc:114] Skipping the delay kernel, measurement accuracy will be reduced\n",
      "W0000 00:00:1725629244.193583  871063 gpu_timer.cc:114] Skipping the delay kernel, measurement accuracy will be reduced\n",
      "W0000 00:00:1725629244.194147  871063 gpu_timer.cc:114] Skipping the delay kernel, measurement accuracy will be reduced\n",
      "W0000 00:00:1725629244.194701  871063 gpu_timer.cc:114] Skipping the delay kernel, measurement accuracy will be reduced\n",
      "W0000 00:00:1725629244.195260  871063 gpu_timer.cc:114] Skipping the delay kernel, measurement accuracy will be reduced\n",
      "W0000 00:00:1725629244.195811  871063 gpu_timer.cc:114] Skipping the delay kernel, measurement accuracy will be reduced\n",
      "W0000 00:00:1725629244.196363  871063 gpu_timer.cc:114] Skipping the delay kernel, measurement accuracy will be reduced\n",
      "W0000 00:00:1725629244.196916  871063 gpu_timer.cc:114] Skipping the delay kernel, measurement accuracy will be reduced\n",
      "W0000 00:00:1725629244.197476  871063 gpu_timer.cc:114] Skipping the delay kernel, measurement accuracy will be reduced\n",
      "W0000 00:00:1725629244.198031  871063 gpu_timer.cc:114] Skipping the delay kernel, measurement accuracy will be reduced\n",
      "W0000 00:00:1725629244.198586  871063 gpu_timer.cc:114] Skipping the delay kernel, measurement accuracy will be reduced\n",
      "W0000 00:00:1725629244.199145  871063 gpu_timer.cc:114] Skipping the delay kernel, measurement accuracy will be reduced\n",
      "W0000 00:00:1725629244.199726  871063 gpu_timer.cc:114] Skipping the delay kernel, measurement accuracy will be reduced\n",
      "W0000 00:00:1725629244.200277  871063 gpu_timer.cc:114] Skipping the delay kernel, measurement accuracy will be reduced\n",
      "W0000 00:00:1725629244.200839  871063 gpu_timer.cc:114] Skipping the delay kernel, measurement accuracy will be reduced\n",
      "W0000 00:00:1725629244.201426  871063 gpu_timer.cc:114] Skipping the delay kernel, measurement accuracy will be reduced\n",
      "W0000 00:00:1725629244.201985  871063 gpu_timer.cc:114] Skipping the delay kernel, measurement accuracy will be reduced\n",
      "W0000 00:00:1725629244.202550  871063 gpu_timer.cc:114] Skipping the delay kernel, measurement accuracy will be reduced\n",
      "W0000 00:00:1725629244.203135  871063 gpu_timer.cc:114] Skipping the delay kernel, measurement accuracy will be reduced\n"
     ]
    },
    {
     "data": {
      "text/plain": [
       "array([0.14209856, 0.8908168 , 0.21824726, 0.36170343, 0.07103111,\n",
       "       0.1333401 , 0.06068115, 0.24836099, 0.57530606, 0.10581052],\n",
       "      dtype=float32)"
      ]
     },
     "execution_count": 10,
     "metadata": {},
     "output_type": "execute_result"
    }
   ],
   "source": [
    "values, classes = K.top_k(hkr_fmodel(images), k=2)\n",
    "certificates = (values[:, 0] - values[:, 1]) / 2\n",
    "certificates.numpy()"
   ]
  },
  {
   "cell_type": "markdown",
   "metadata": {
    "id": "E2dqSmNPnVpK"
   },
   "source": [
    "now we will attack the model to check if the certificates are respected. In this setup\n",
    "`L2CarliniWagnerAttack` is used but in practice as these kind of networks are gradient\n",
    "norm preserving, other attacks gives very similar results.\n"
   ]
  },
  {
   "cell_type": "code",
   "execution_count": 11,
   "metadata": {
    "colab": {
     "base_uri": "https://localhost:8080/"
    },
    "id": "UgqlVcLRKzSD",
    "outputId": "34fded95-9d16-4c60-8af0-45ebb8c01b6e"
   },
   "outputs": [
    {
     "name": "stderr",
     "output_type": "stream",
     "text": [
      "W0000 00:00:1725629244.976329  871063 gpu_timer.cc:114] Skipping the delay kernel, measurement accuracy will be reduced\n",
      "W0000 00:00:1725629244.976921  871063 gpu_timer.cc:114] Skipping the delay kernel, measurement accuracy will be reduced\n",
      "W0000 00:00:1725629244.977516  871063 gpu_timer.cc:114] Skipping the delay kernel, measurement accuracy will be reduced\n",
      "W0000 00:00:1725629244.978075  871063 gpu_timer.cc:114] Skipping the delay kernel, measurement accuracy will be reduced\n",
      "W0000 00:00:1725629244.978634  871063 gpu_timer.cc:114] Skipping the delay kernel, measurement accuracy will be reduced\n",
      "W0000 00:00:1725629244.979190  871063 gpu_timer.cc:114] Skipping the delay kernel, measurement accuracy will be reduced\n",
      "W0000 00:00:1725629244.979778  871063 gpu_timer.cc:114] Skipping the delay kernel, measurement accuracy will be reduced\n",
      "W0000 00:00:1725629244.980353  871063 gpu_timer.cc:114] Skipping the delay kernel, measurement accuracy will be reduced\n",
      "W0000 00:00:1725629244.980934  871063 gpu_timer.cc:114] Skipping the delay kernel, measurement accuracy will be reduced\n",
      "W0000 00:00:1725629244.981503  871063 gpu_timer.cc:114] Skipping the delay kernel, measurement accuracy will be reduced\n",
      "W0000 00:00:1725629244.982109  871063 gpu_timer.cc:114] Skipping the delay kernel, measurement accuracy will be reduced\n",
      "W0000 00:00:1725629244.982718  871063 gpu_timer.cc:114] Skipping the delay kernel, measurement accuracy will be reduced\n",
      "W0000 00:00:1725629244.983324  871063 gpu_timer.cc:114] Skipping the delay kernel, measurement accuracy will be reduced\n",
      "W0000 00:00:1725629244.987048  871063 gpu_timer.cc:114] Skipping the delay kernel, measurement accuracy will be reduced\n",
      "W0000 00:00:1725629244.987622  871063 gpu_timer.cc:114] Skipping the delay kernel, measurement accuracy will be reduced\n",
      "W0000 00:00:1725629244.988175  871063 gpu_timer.cc:114] Skipping the delay kernel, measurement accuracy will be reduced\n",
      "W0000 00:00:1725629244.988749  871063 gpu_timer.cc:114] Skipping the delay kernel, measurement accuracy will be reduced\n",
      "W0000 00:00:1725629244.989425  871063 gpu_timer.cc:114] Skipping the delay kernel, measurement accuracy will be reduced\n",
      "W0000 00:00:1725629244.989992  871063 gpu_timer.cc:114] Skipping the delay kernel, measurement accuracy will be reduced\n",
      "W0000 00:00:1725629244.990705  871063 gpu_timer.cc:114] Skipping the delay kernel, measurement accuracy will be reduced\n",
      "W0000 00:00:1725629244.991299  871063 gpu_timer.cc:114] Skipping the delay kernel, measurement accuracy will be reduced\n",
      "W0000 00:00:1725629244.991880  871063 gpu_timer.cc:114] Skipping the delay kernel, measurement accuracy will be reduced\n",
      "W0000 00:00:1725629244.992729  871063 gpu_timer.cc:114] Skipping the delay kernel, measurement accuracy will be reduced\n",
      "W0000 00:00:1725629244.993288  871063 gpu_timer.cc:114] Skipping the delay kernel, measurement accuracy will be reduced\n",
      "W0000 00:00:1725629244.993853  871063 gpu_timer.cc:114] Skipping the delay kernel, measurement accuracy will be reduced\n",
      "W0000 00:00:1725629244.994466  871063 gpu_timer.cc:114] Skipping the delay kernel, measurement accuracy will be reduced\n",
      "W0000 00:00:1725629244.999977  871063 gpu_timer.cc:114] Skipping the delay kernel, measurement accuracy will be reduced\n",
      "W0000 00:00:1725629245.000524  871063 gpu_timer.cc:114] Skipping the delay kernel, measurement accuracy will be reduced\n",
      "W0000 00:00:1725629245.001064  871063 gpu_timer.cc:114] Skipping the delay kernel, measurement accuracy will be reduced\n",
      "W0000 00:00:1725629245.001595  871063 gpu_timer.cc:114] Skipping the delay kernel, measurement accuracy will be reduced\n",
      "W0000 00:00:1725629245.004791  871063 gpu_timer.cc:114] Skipping the delay kernel, measurement accuracy will be reduced\n",
      "W0000 00:00:1725629245.005327  871063 gpu_timer.cc:114] Skipping the delay kernel, measurement accuracy will be reduced\n",
      "W0000 00:00:1725629245.005895  871063 gpu_timer.cc:114] Skipping the delay kernel, measurement accuracy will be reduced\n",
      "W0000 00:00:1725629245.006435  871063 gpu_timer.cc:114] Skipping the delay kernel, measurement accuracy will be reduced\n",
      "W0000 00:00:1725629245.006984  871063 gpu_timer.cc:114] Skipping the delay kernel, measurement accuracy will be reduced\n",
      "W0000 00:00:1725629245.007538  871063 gpu_timer.cc:114] Skipping the delay kernel, measurement accuracy will be reduced\n",
      "W0000 00:00:1725629245.008090  871063 gpu_timer.cc:114] Skipping the delay kernel, measurement accuracy will be reduced\n",
      "W0000 00:00:1725629245.009770  871063 gpu_timer.cc:114] Skipping the delay kernel, measurement accuracy will be reduced\n",
      "W0000 00:00:1725629245.010318  871063 gpu_timer.cc:114] Skipping the delay kernel, measurement accuracy will be reduced\n",
      "W0000 00:00:1725629245.010871  871063 gpu_timer.cc:114] Skipping the delay kernel, measurement accuracy will be reduced\n",
      "W0000 00:00:1725629245.011433  871063 gpu_timer.cc:114] Skipping the delay kernel, measurement accuracy will be reduced\n",
      "W0000 00:00:1725629245.012012  871063 gpu_timer.cc:114] Skipping the delay kernel, measurement accuracy will be reduced\n",
      "W0000 00:00:1725629245.012570  871063 gpu_timer.cc:114] Skipping the delay kernel, measurement accuracy will be reduced\n",
      "W0000 00:00:1725629245.013121  871063 gpu_timer.cc:114] Skipping the delay kernel, measurement accuracy will be reduced\n",
      "W0000 00:00:1725629245.013751  871063 gpu_timer.cc:114] Skipping the delay kernel, measurement accuracy will be reduced\n",
      "W0000 00:00:1725629245.014513  871063 gpu_timer.cc:114] Skipping the delay kernel, measurement accuracy will be reduced\n",
      "W0000 00:00:1725629245.015393  871063 gpu_timer.cc:114] Skipping the delay kernel, measurement accuracy will be reduced\n",
      "W0000 00:00:1725629245.016520  871063 gpu_timer.cc:114] Skipping the delay kernel, measurement accuracy will be reduced\n",
      "W0000 00:00:1725629245.017903  871063 gpu_timer.cc:114] Skipping the delay kernel, measurement accuracy will be reduced\n"
     ]
    },
    {
     "data": {
      "text/plain": [
       "array([1.0559031 , 3.8602312 , 1.4908539 , 1.4382323 , 0.47069952,\n",
       "       0.75099194, 0.42759493, 1.0656103 , 3.062126  , 0.6121775 ],\n",
       "      dtype=float32)"
      ]
     },
     "execution_count": 11,
     "metadata": {},
     "output_type": "execute_result"
    }
   ],
   "source": [
    "attack = fb.attacks.L2CarliniWagnerAttack(binary_search_steps=6, steps=8000)\n",
    "imgs, advs, success = attack(hkr_fmodel, images, labels, epsilons=None)\n",
    "dist_to_adv = np.sqrt(np.sum(np.square(images - advs), axis=(1, 2, 3)))\n",
    "dist_to_adv"
   ]
  },
  {
   "cell_type": "markdown",
   "metadata": {
    "id": "YkoroIBUqZqy"
   },
   "source": [
    "As we can see the certificate are respected.\n"
   ]
  },
  {
   "cell_type": "code",
   "execution_count": 12,
   "metadata": {
    "id": "M9WvQIyqnlpg"
   },
   "outputs": [],
   "source": [
    "np.testing.assert_array_less(certificates, dist_to_adv)"
   ]
  },
  {
   "cell_type": "markdown",
   "metadata": {
    "id": "u3ooZSlcqdx6"
   },
   "source": [
    "Finally we can take a visual look at the obtained examples. We first start with utility\n",
    "functions for display.\n"
   ]
  },
  {
   "cell_type": "code",
   "execution_count": 13,
   "metadata": {
    "id": "1Sp3RsmPQ5eM"
   },
   "outputs": [],
   "source": [
    "class_mapping = {\n",
    "    0: \"T-shirt/top\",\n",
    "    1: \"Trouser\",\n",
    "    2: \"Pullover\",\n",
    "    3: \"Dress\",\n",
    "    4: \"Coat\",\n",
    "    5: \"Sandal\",\n",
    "    6: \"Shirt\",\n",
    "    7: \"Sneaker\",\n",
    "    8: \"Bag\",\n",
    "    9: \"Ankle boot\",\n",
    "}"
   ]
  },
  {
   "cell_type": "code",
   "execution_count": 14,
   "metadata": {
    "id": "UWZ6V1wt0WwR"
   },
   "outputs": [],
   "source": [
    "def adversarial_viz(model, images, advs, class_mapping):\n",
    "    \"\"\"\n",
    "    This functions shows for each sample:\n",
    "    - the original image\n",
    "    - the adversarial image\n",
    "    - the difference map\n",
    "    - the certificate and the observed distance to adversarial\n",
    "    \"\"\"\n",
    "    scale = 1.5\n",
    "    kwargs = {}\n",
    "    nb_imgs = images.shape[0]\n",
    "    # compute certificates\n",
    "    values, classes = K.top_k(model(images), k=2)\n",
    "    certificates = (values[:, 0] - values[:, 1]) / 2\n",
    "    # compute difference distance to adversarial\n",
    "    dist_to_adv = np.sqrt(np.sum(np.square(images - advs), axis=(1, 2, 3)))\n",
    "    # find classes labels for imgs and advs\n",
    "    orig_classes = [class_mapping[i] for i in K.argmax(model(images), axis=-1).numpy()]\n",
    "    advs_classes = [class_mapping[i] for i in K.argmax(model(advs), axis=-1).numpy()]\n",
    "    # compute differences maps\n",
    "    if images.shape[-1] != 3:\n",
    "        diff_pos = np.clip(advs - images, 0, 1.0)\n",
    "        diff_neg = np.clip(images - advs, 0, 1.0)\n",
    "        diff_map = np.concatenate(\n",
    "            [diff_neg, diff_pos, np.zeros_like(diff_neg)], axis=-1\n",
    "        )\n",
    "    else:\n",
    "        diff_map = np.abs(advs - images)\n",
    "    # expands image to be displayed\n",
    "    if images.shape[-1] != 3:\n",
    "        images = np.repeat(images, 3, -1)\n",
    "    if advs.shape[-1] != 3:\n",
    "        advs = np.repeat(advs, 3, -1)\n",
    "    # create plot\n",
    "    figsize = (3 * scale, nb_imgs * scale)\n",
    "    fig, axes = plt.subplots(\n",
    "        ncols=3,\n",
    "        nrows=nb_imgs,\n",
    "        figsize=figsize,\n",
    "        squeeze=False,\n",
    "        constrained_layout=True,\n",
    "        **kwargs,\n",
    "    )\n",
    "    for i in range(nb_imgs):\n",
    "        ax = axes[i][0]\n",
    "        ax.set_title(orig_classes[i])\n",
    "        ax.set_xticks([])\n",
    "        ax.set_yticks([])\n",
    "        ax.axis(\"off\")\n",
    "        ax.imshow(images[i])\n",
    "        ax = axes[i][1]\n",
    "        ax.set_title(advs_classes[i])\n",
    "        ax.set_xticks([])\n",
    "        ax.set_yticks([])\n",
    "        ax.axis(\"off\")\n",
    "        ax.imshow(advs[i])\n",
    "        ax = axes[i][2]\n",
    "        ax.set_title(f\"certif: {certificates[i]:.2f}, obs: {dist_to_adv[i]:.2f}\")\n",
    "        ax.set_xticks([])\n",
    "        ax.set_yticks([])\n",
    "        ax.axis(\"off\")\n",
    "        ax.imshow(diff_map[i] / diff_map[i].max())"
   ]
  },
  {
   "cell_type": "markdown",
   "metadata": {
    "id": "LLE_2Y4_r1kq"
   },
   "source": [
    "When looking at the adversarial examples we can see that the network has interesting\n",
    "properties:\n",
    "\n",
    "#### Predictability\n",
    "\n",
    "by looking at the certificates, we can predict if the adversarial example will be close\n",
    "of not\n",
    "\n",
    "#### Disparity among classes\n",
    "\n",
    "As we can see, the attacks are very efficent on similar classes (eg. T-shirt/top, and\n",
    "Shirt ). This denote that all classes are not made equal regarding robustness.\n",
    "\n",
    "#### Explainability\n",
    "\n",
    "The network is more explainable: attacks can be used as counterfactuals. We can tell\n",
    "that removing the inscription on a T-shirt turns it into a shirt makes sense. Non-robust\n",
    "examples reveal that the network relies on textures rather on shapes to make its\n",
    "decision.\n"
   ]
  },
  {
   "cell_type": "code",
   "execution_count": 15,
   "metadata": {
    "colab": {
     "base_uri": "https://localhost:8080/"
    },
    "id": "TZPR4_b68hex",
    "outputId": "bce7a55d-2a51-4315-b7b8-a3bf513b1cab"
   },
   "outputs": [
    {
     "data": {
      "image/png": "[encoded data removed]",
      "text/plain": [
       "<Figure size 450x1500 with 30 Axes>"
      ]
     },
     "metadata": {},
     "output_type": "display_data"
    }
   ],
   "source": [
    "adversarial_viz(hkr_fmodel, images, advs, class_mapping)"
   ]
  }
 ],
 "metadata": {
  "accelerator": "GPU",
  "colab": {
   "collapsed_sections": [],
   "name": "lipschitz demo",
   "provenance": []
  },
  "interpreter": {
   "hash": "85932723c17c3a18b32bfe2b34edfe80dfe7f67e8f24e1ef8c8aa8c563233210"
  },
  "kernelspec": {
   "display_name": "Python 3 (ipykernel)",
   "language": "python",
   "name": "python3"
  },
  "language_info": {
   "codemirror_mode": {
    "name": "ipython",
    "version": 3
   },
   "file_extension": ".py",
   "mimetype": "text/x-python",
   "name": "python",
   "nbconvert_exporter": "python",
   "pygments_lexer": "ipython3",
   "version": "3.10.12"
  }
 },
 "nbformat": 4,
 "nbformat_minor": 2
}
