{
 "cells": [
  {
   "attachments": {},
   "cell_type": "markdown",
   "metadata": {
    "id": "tZ45ItBZ0D59"
   },
   "source": [
    "## Demo 4: HKR multiclass and fooling\n",
    "[![Open In Colab](https://colab.research.google.com/assets/colab-badge.svg)](https://colab.research.google.com/github/deel-ai/deel-lip/blob/master/docs/notebooks/demo4.ipynb)\n",
    "\n",
    "This notebook will show how to train a lispchitz network in a multiclass setup.\n",
    "The HKR is extended to multiclass using a one-vs all setup. It will go through\n",
    "the process of designing and training the network. It will also show how to create robustness certificates from the output of the network. Finally these\n",
    "certificates will be checked by attacking the network. \n",
    "\n",
    "### installation\n",
    "\n",
    "First, we install the required libraries. `Foolbox` will allow to perform adversarial attacks on the trained network."
   ]
  },
  {
   "cell_type": "code",
   "execution_count": 1,
   "metadata": {
    "colab": {
     "base_uri": "https://localhost:8080/"
    },
    "id": "D6a9QvnXHLt5",
    "outputId": "bdceb0b5-8946-438b-c8be-1283e621fe9f"
   },
   "outputs": [],
   "source": [
    "# pip install deel-lip foolbox -qqq\n",
    "import sys\n",
    "sys.path.append(\"../..\")"
   ]
  },
  {
   "cell_type": "code",
   "execution_count": 2,
   "metadata": {
    "id": "n6uzQe2uGr7M"
   },
   "outputs": [],
   "source": [
    "from deel.lip.layers import (\n",
    "    SpectralDense,\n",
    "    SpectralConv2D,\n",
    "    ScaledL2NormPooling2D,\n",
    "    ScaledAveragePooling2D,\n",
    "    ScaledGlobalAveragePooling2D,\n",
    "    FrobeniusDense,\n",
    ")\n",
    "from deel.lip.model import Sequential\n",
    "from deel.lip.activations import GroupSort, FullSort\n",
    "from deel.lip.losses import MulticlassHKR, MulticlassKR,MulticlassSoftHKR\n",
    "from deel.lip.callbacks import CondenseCallback\n",
    "from deel.lip.metrics import CategoricalProvableAvgRobustness\n",
    "from deel.lip.normalizers import set_stop_grad_spectral\n",
    "\n",
    "from tensorflow.keras.layers import Input, Flatten\n",
    "from tensorflow.keras.optimizers import Adam\n",
    "from tensorflow.keras.datasets import mnist, fashion_mnist, cifar10\n",
    "from tensorflow.keras.utils import to_categorical\n",
    "from tensorflow.keras.preprocessing.image import ImageDataGenerator\n",
    "import numpy as np"
   ]
  },
  {
   "attachments": {},
   "cell_type": "markdown",
   "metadata": {
    "id": "DLTQeRpkMCwO"
   },
   "source": [
    "For this example, the dataset `fashion_mnist` will be used. In order to keep things simple, no data augmentation will be performed."
   ]
  },
  {
   "cell_type": "code",
   "execution_count": 3,
   "metadata": {
    "colab": {
     "base_uri": "https://localhost:8080/"
    },
    "id": "o6EjFWd0G_dB",
    "outputId": "0461fa31-a754-456d-fe77-beb750cc3481"
   },
   "outputs": [],
   "source": [
    "# load data\n",
    "(x_train, y_train_ord), (x_test, y_test_ord) = fashion_mnist.load_data()\n",
    "# standardize and reshape the data\n",
    "x_train = np.expand_dims(x_train, -1) / 255\n",
    "x_test = np.expand_dims(x_test, -1) / 255\n",
    "# one hot encode the labels\n",
    "y_train = to_categorical(y_train_ord)\n",
    "y_train = 2*y_train-1.0\n",
    "y_test = to_categorical(y_test_ord)\n",
    "y_test = 2*y_test-1.0"
   ]
  },
  {
   "attachments": {},
   "cell_type": "markdown",
   "metadata": {
    "id": "JY04qBnpMYsV"
   },
   "source": [
    "Let's build the network. \n",
    "\n",
    "### the architecture\n",
    "\n",
    "The original one vs all setup would require 10 different networks ( 1 per class ), however, in practice we use a network with\n",
    "a common body and 10 1-lipschitz heads. Experiments have shown that this setup don't affect the network performance. In order to ease the creation of such network, `FrobeniusDense` layer has a parameter for this:  whenr `disjoint_neurons=True` it act as the stacking of 10 single neurons head. Note that, altough each head is a 1-lipschitz function the overall network is not 1-lipschitz (Concatenation is not 1-lipschitz). We will see later how this affects the certficate creation.\n",
    "\n",
    "### the loss\n",
    "\n",
    "The multiclass loss can be found in `HKR_multiclass_loss`. The loss has two params: `alpha` and `min_margin`. Decreasing `alpha` and increasing `min_margin` improve robustness (at the cost of accuracy). note also in the case of lipschitz networks, more robustness require more parameters. For more information see [our paper](https://arxiv.org/abs/2006.06520).\n",
    "\n",
    "In this setup choosing `alpha=100`, `min_margin=.25` provide a good robustness without hurting the accuracy too much.\n",
    "\n",
    "Finally the `KR_multiclass_loss()` indicate the robustness of the network ( proxy of the average certificate )\n"
   ]
  },
  {
   "cell_type": "code",
   "execution_count": 4,
   "metadata": {
    "colab": {
     "base_uri": "https://localhost:8080/"
    },
    "id": "SwA5kgOBG7Ni",
    "outputId": "e869beba-c511-4722-ad5f-fe3d8228f3a6"
   },
   "outputs": [
    {
     "name": "stderr",
     "output_type": "stream",
     "text": [
      "2023-09-06 16:58:34.254373: I tensorflow/stream_executor/cuda/cuda_gpu_executor.cc:936] successful NUMA node read from SysFS had negative value (-1), but there must be at least one NUMA node, so returning NUMA node zero\n",
      "2023-09-06 16:58:34.279843: I tensorflow/stream_executor/cuda/cuda_gpu_executor.cc:936] successful NUMA node read from SysFS had negative value (-1), but there must be at least one NUMA node, so returning NUMA node zero\n",
      "2023-09-06 16:58:34.279950: I tensorflow/stream_executor/cuda/cuda_gpu_executor.cc:936] successful NUMA node read from SysFS had negative value (-1), but there must be at least one NUMA node, so returning NUMA node zero\n",
      "2023-09-06 16:58:34.280216: I tensorflow/core/platform/cpu_feature_guard.cc:151] This TensorFlow binary is optimized with oneAPI Deep Neural Network Library (oneDNN) to use the following CPU instructions in performance-critical operations:  SSE4.1 SSE4.2 AVX AVX2 FMA\n",
      "To enable them in other operations, rebuild TensorFlow with the appropriate compiler flags.\n",
      "2023-09-06 16:58:34.280895: I tensorflow/stream_executor/cuda/cuda_gpu_executor.cc:936] successful NUMA node read from SysFS had negative value (-1), but there must be at least one NUMA node, so returning NUMA node zero\n",
      "2023-09-06 16:58:34.281028: I tensorflow/stream_executor/cuda/cuda_gpu_executor.cc:936] successful NUMA node read from SysFS had negative value (-1), but there must be at least one NUMA node, so returning NUMA node zero\n",
      "2023-09-06 16:58:34.281106: I tensorflow/stream_executor/cuda/cuda_gpu_executor.cc:936] successful NUMA node read from SysFS had negative value (-1), but there must be at least one NUMA node, so returning NUMA node zero\n",
      "2023-09-06 16:58:34.604182: I tensorflow/stream_executor/cuda/cuda_gpu_executor.cc:936] successful NUMA node read from SysFS had negative value (-1), but there must be at least one NUMA node, so returning NUMA node zero\n",
      "2023-09-06 16:58:34.604302: I tensorflow/stream_executor/cuda/cuda_gpu_executor.cc:936] successful NUMA node read from SysFS had negative value (-1), but there must be at least one NUMA node, so returning NUMA node zero\n",
      "2023-09-06 16:58:34.604385: I tensorflow/stream_executor/cuda/cuda_gpu_executor.cc:936] successful NUMA node read from SysFS had negative value (-1), but there must be at least one NUMA node, so returning NUMA node zero\n",
      "2023-09-06 16:58:34.604454: I tensorflow/core/common_runtime/gpu/gpu_device.cc:1525] Created device /job:localhost/replica:0/task:0/device:GPU:0 with 8071 MB memory:  -> device: 0, name: NVIDIA GeForce RTX 3080, pci bus id: 0000:01:00.0, compute capability: 8.6\n"
     ]
    },
    {
     "name": "stdout",
     "output_type": "stream",
     "text": [
      "Model: \"hkr_model\"\n",
      "_________________________________________________________________\n",
      " Layer (type)                Output Shape              Param #   \n",
      "=================================================================\n",
      " spectral_conv2d (SpectralCo  (None, 28, 28, 64)       1281      \n",
      " nv2D)                                                           \n",
      "                                                                 \n",
      " group_sort (GroupSort)      (None, 28, 28, 64)        0         \n",
      "                                                                 \n",
      " spectral_conv2d_1 (Spectral  (None, 28, 28, 64)       73857     \n",
      " Conv2D)                                                         \n",
      "                                                                 \n",
      " group_sort_1 (GroupSort)    (None, 28, 28, 64)        0         \n",
      "                                                                 \n",
      " scaled_l2_norm_pooling2d (S  (None, 14, 14, 64)       0         \n",
      " caledL2NormPooling2D)                                           \n",
      "                                                                 \n",
      " spectral_conv2d_2 (Spectral  (None, 14, 14, 128)      147713    \n",
      " Conv2D)                                                         \n",
      "                                                                 \n",
      " group_sort_2 (GroupSort)    (None, 14, 14, 128)       0         \n",
      "                                                                 \n",
      " spectral_conv2d_3 (Spectral  (None, 14, 14, 128)      295169    \n",
      " Conv2D)                                                         \n",
      "                                                                 \n",
      " group_sort_3 (GroupSort)    (None, 14, 14, 128)       0         \n",
      "                                                                 \n",
      " scaled_l2_norm_pooling2d_1   (None, 7, 7, 128)        0         \n",
      " (ScaledL2NormPooling2D)                                         \n",
      "                                                                 \n",
      " spectral_conv2d_4 (Spectral  (None, 7, 7, 256)        590337    \n",
      " Conv2D)                                                         \n",
      "                                                                 \n",
      " group_sort_4 (GroupSort)    (None, 7, 7, 256)         0         \n",
      "                                                                 \n",
      " spectral_conv2d_5 (Spectral  (None, 7, 7, 256)        1180161   \n",
      " Conv2D)                                                         \n",
      "                                                                 \n",
      " group_sort_5 (GroupSort)    (None, 7, 7, 256)         0         \n",
      "                                                                 \n",
      " scaled_global_average_pooli  (None, 256)              0         \n",
      " ng2d (ScaledGlobalAveragePo                                     \n",
      " oling2D)                                                        \n",
      "                                                                 \n",
      " spectral_dense (SpectralDen  (None, 512)              263169    \n",
      " se)                                                             \n",
      "                                                                 \n",
      " group_sort_6 (GroupSort)    (None, 512)               0         \n",
      "                                                                 \n",
      " frobenius_dense (FrobeniusD  (None, 10)               10240     \n",
      " ense)                                                           \n",
      "                                                                 \n",
      "=================================================================\n",
      "Total params: 2,561,927\n",
      "Trainable params: 1,280,960\n",
      "Non-trainable params: 1,280,967\n",
      "_________________________________________________________________\n"
     ]
    }
   ],
   "source": [
    "\n",
    "set_stop_grad_spectral(False)\n",
    "maxiter_bjorck = 7 \n",
    "\n",
    "# Sequential (resp Model) from deel.model has the same properties as any lipschitz model.\n",
    "# It act only as a container, with features specific to lipschitz\n",
    "# functions (condensation, vanilla_exportation...)\n",
    "model = Sequential(\n",
    "    [\n",
    "        Input(shape=x_train.shape[1:]),\n",
    "        # Lipschitz layers preserve the API of their superclass ( here Conv2D )\n",
    "        # an optional param is available: k_coef_lip which control the lipschitz\n",
    "        # constant of the layer\n",
    "        SpectralConv2D(\n",
    "            filters=64,\n",
    "            kernel_size=(3, 3),\n",
    "            activation=None,\n",
    "            use_bias=True,\n",
    "            kernel_initializer=\"orthogonal\",\n",
    "            maxiter_bjorck=maxiter_bjorck\n",
    "        ),\n",
    "        GroupSort(2),\n",
    "        SpectralConv2D(\n",
    "            filters=64,\n",
    "            kernel_size=(3, 3),\n",
    "            activation=None,\n",
    "            use_bias=True,\n",
    "            kernel_initializer=\"orthogonal\",\n",
    "            maxiter_bjorck=maxiter_bjorck\n",
    "        ),\n",
    "        GroupSort(2),\n",
    "        # usual pooling layer are implemented (avg, max...), but new layers are also available\n",
    "      ScaledL2NormPooling2D(pool_size=(2, 2), data_format=\"channels_last\"),\n",
    "        SpectralConv2D(\n",
    "            filters=128,\n",
    "            kernel_size=(3, 3),\n",
    "            activation=None,\n",
    "            use_bias=True,\n",
    "            kernel_initializer=\"orthogonal\",\n",
    "            maxiter_bjorck=maxiter_bjorck\n",
    "        ),\n",
    "        GroupSort(2),\n",
    "        SpectralConv2D(\n",
    "            filters=128,\n",
    "            kernel_size=(3, 3),\n",
    "            activation=None,\n",
    "            use_bias=True,\n",
    "            kernel_initializer=\"orthogonal\",\n",
    "            maxiter_bjorck=maxiter_bjorck\n",
    "        ),\n",
    "        GroupSort(2),\n",
    "        # usual pooling layer are implemented (avg, max...), but new layers are also available\n",
    "        ScaledL2NormPooling2D(pool_size=(2, 2), data_format=\"channels_last\"),\n",
    "        SpectralConv2D(\n",
    "            filters=256,\n",
    "            kernel_size=(3, 3),\n",
    "            activation=None,\n",
    "            use_bias=True,\n",
    "            kernel_initializer=\"orthogonal\",\n",
    "            maxiter_bjorck=maxiter_bjorck\n",
    "        ),\n",
    "        GroupSort(2),\n",
    "        SpectralConv2D(\n",
    "            filters=256,\n",
    "            kernel_size=(3, 3),\n",
    "            activation=None,\n",
    "            use_bias=True,\n",
    "            kernel_initializer=\"orthogonal\",\n",
    "            maxiter_bjorck=maxiter_bjorck\n",
    "        ),\n",
    "        GroupSort(2),\n",
    "        ScaledGlobalAveragePooling2D(),\n",
    "        SpectralDense(\n",
    "            512,\n",
    "            activation=None,\n",
    "            use_bias=True,\n",
    "            kernel_initializer=\"orthogonal\",\n",
    "        ),\n",
    "        GroupSort(2),\n",
    "        FrobeniusDense(\n",
    "            y_train.shape[-1], activation=None, use_bias=False, kernel_initializer=\"orthogonal\"\n",
    "        ),\n",
    "    ],\n",
    "    # similary model has a parameter to set the lipschitz constant\n",
    "    # to set automatically the constant of each layer\n",
    "    k_coef_lip=1.0,\n",
    "    name=\"hkr_model\",\n",
    ")\n",
    "\n",
    "# HKR (Hinge-Krantorovich-Rubinstein) optimize robustness along with accuracy\n",
    "model.compile(\n",
    "    # decreasing alpha and increasing min_margin improve robustness (at the cost of accuracy)\n",
    "    # note also in the case of lipschitz networks, more robustness require more parameters.\n",
    "    loss=MulticlassSoftHKR(alpha=50, min_margin=.2,temperature=10.),\n",
    "    optimizer=Adam(5.e-4),\n",
    "    metrics=[\"accuracy\", MulticlassKR(),CategoricalProvableAvgRobustness(name=\"Robust\"),CategoricalProvableAvgRobustness(negative_robustness=True,name=\"margin\")],\n",
    ")\n",
    "\n",
    "model.summary()"
   ]
  },
  {
   "attachments": {},
   "cell_type": "markdown",
   "metadata": {
    "id": "zH0oy4iRP1Ct"
   },
   "source": [
    "### notes about constraint enforcement\n",
    "\n",
    "There are currently 3 way to enforce a constraint in a network:\n",
    "1. regularization\n",
    "2. weight reparametrization\n",
    "3. weight projection\n",
    "\n",
    "The first one don't provide the required garanties, this is why `deel-lip` focuses on the later two. Weight reparametrization is done directly in the layers (parameter `niter_bjorck`) this trick allow to perform arbitrary gradient updates without breaking the constraint. However this is done in the graph, increasing ressources consumption. The last method project the weights between each batch, ensuring the constraint at an more affordable computational cost. It can be done in `deel-lip` using the `CondenseCallback`. The main problem with this method is a reduced efficiency of each update.\n",
    "\n",
    "As a rule of thumb, when reparametrization is used alone, setting `niter_bjorck` to at least 15 is advised. However when combined with weight projection, this setting can be lowered greatly."
   ]
  },
  {
   "cell_type": "code",
   "execution_count": 5,
   "metadata": {},
   "outputs": [],
   "source": [
    "nb_epochs = 100\n",
    "batch_size = 128"
   ]
  },
  {
   "cell_type": "code",
   "execution_count": 6,
   "metadata": {
    "colab": {
     "base_uri": "https://localhost:8080/"
    },
    "id": "p1rWZTZBHEIR",
    "outputId": "7cb00f9b-0f84-40f0-c5fa-b29fc0a00c92"
   },
   "outputs": [
    {
     "name": "stdout",
     "output_type": "stream",
     "text": [
      "Epoch 1/100\n"
     ]
    },
    {
     "name": "stderr",
     "output_type": "stream",
     "text": [
      "2023-09-06 16:58:39.878741: I tensorflow/stream_executor/cuda/cuda_blas.cc:1786] TensorFloat-32 will be used for the matrix multiplication. This will only be logged once.\n",
      "2023-09-06 16:58:40.278982: I tensorflow/stream_executor/cuda/cuda_dnn.cc:368] Loaded cuDNN version 8201\n"
     ]
    },
    {
     "name": "stdout",
     "output_type": "stream",
     "text": [
      "469/469 [==============================] - 18s 27ms/step - loss: 0.0870 - accuracy: 0.6966 - MulticlassKR: 0.1892 - Robust: 0.0593 - margin: 0.0495 - val_loss: 0.0636 - val_accuracy: 0.7792 - val_MulticlassKR: 0.2267 - val_Robust: 0.0806 - val_margin: 0.0716\n",
      "Epoch 2/100\n",
      "469/469 [==============================] - 12s 25ms/step - loss: 0.0555 - accuracy: 0.8135 - MulticlassKR: 0.2580 - Robust: 0.0949 - margin: 0.0871 - val_loss: 0.0520 - val_accuracy: 0.8271 - val_MulticlassKR: 0.2825 - val_Robust: 0.1022 - val_margin: 0.0950\n",
      "Epoch 3/100\n",
      "469/469 [==============================] - 12s 25ms/step - loss: 0.0471 - accuracy: 0.8388 - MulticlassKR: 0.2886 - Robust: 0.1107 - margin: 0.1038 - val_loss: 0.0463 - val_accuracy: 0.8403 - val_MulticlassKR: 0.2983 - val_Robust: 0.1163 - val_margin: 0.1092\n",
      "Epoch 4/100\n",
      "469/469 [==============================] - 11s 24ms/step - loss: 0.0413 - accuracy: 0.8559 - MulticlassKR: 0.3137 - Robust: 0.1245 - margin: 0.1183 - val_loss: 0.0432 - val_accuracy: 0.8481 - val_MulticlassKR: 0.3158 - val_Robust: 0.1280 - val_margin: 0.1210\n",
      "Epoch 5/100\n",
      "469/469 [==============================] - 11s 24ms/step - loss: 0.0379 - accuracy: 0.8660 - MulticlassKR: 0.3347 - Robust: 0.1357 - margin: 0.1298 - val_loss: 0.0379 - val_accuracy: 0.8655 - val_MulticlassKR: 0.3426 - val_Robust: 0.1416 - val_margin: 0.1356\n",
      "Epoch 6/100\n",
      "469/469 [==============================] - 12s 25ms/step - loss: 0.0345 - accuracy: 0.8752 - MulticlassKR: 0.3570 - Robust: 0.1476 - margin: 0.1421 - val_loss: 0.0360 - val_accuracy: 0.8719 - val_MulticlassKR: 0.3490 - val_Robust: 0.1458 - val_margin: 0.1404\n",
      "Epoch 7/100\n",
      "469/469 [==============================] - 12s 25ms/step - loss: 0.0327 - accuracy: 0.8801 - MulticlassKR: 0.3753 - Robust: 0.1575 - margin: 0.1521 - val_loss: 0.0322 - val_accuracy: 0.8773 - val_MulticlassKR: 0.3720 - val_Robust: 0.1585 - val_margin: 0.1528\n",
      "Epoch 8/100\n",
      "469/469 [==============================] - 12s 25ms/step - loss: 0.0300 - accuracy: 0.8855 - MulticlassKR: 0.3988 - Robust: 0.1695 - margin: 0.1644 - val_loss: 0.0322 - val_accuracy: 0.8807 - val_MulticlassKR: 0.3952 - val_Robust: 0.1677 - val_margin: 0.1623\n",
      "Epoch 9/100\n",
      "469/469 [==============================] - 12s 25ms/step - loss: 0.0290 - accuracy: 0.8897 - MulticlassKR: 0.4140 - Robust: 0.1779 - margin: 0.1728 - val_loss: 0.0316 - val_accuracy: 0.8809 - val_MulticlassKR: 0.3954 - val_Robust: 0.1704 - val_margin: 0.1647\n",
      "Epoch 10/100\n",
      "469/469 [==============================] - 12s 25ms/step - loss: 0.0273 - accuracy: 0.8921 - MulticlassKR: 0.4320 - Robust: 0.1873 - margin: 0.1825 - val_loss: 0.0282 - val_accuracy: 0.8883 - val_MulticlassKR: 0.4292 - val_Robust: 0.1863 - val_margin: 0.1810\n",
      "Epoch 11/100\n",
      "469/469 [==============================] - 12s 25ms/step - loss: 0.0264 - accuracy: 0.8944 - MulticlassKR: 0.4476 - Robust: 0.1956 - margin: 0.1907 - val_loss: 0.0296 - val_accuracy: 0.8835 - val_MulticlassKR: 0.4581 - val_Robust: 0.1993 - val_margin: 0.1932\n",
      "Epoch 12/100\n",
      "469/469 [==============================] - 12s 25ms/step - loss: 0.0252 - accuracy: 0.8977 - MulticlassKR: 0.4630 - Robust: 0.2032 - margin: 0.1984 - val_loss: 0.0309 - val_accuracy: 0.8767 - val_MulticlassKR: 0.4632 - val_Robust: 0.2031 - val_margin: 0.1967\n",
      "Epoch 13/100\n",
      "469/469 [==============================] - 11s 25ms/step - loss: 0.0242 - accuracy: 0.8989 - MulticlassKR: 0.4763 - Robust: 0.2099 - margin: 0.2052 - val_loss: 0.0267 - val_accuracy: 0.8899 - val_MulticlassKR: 0.4646 - val_Robust: 0.2051 - val_margin: 0.1998\n",
      "Epoch 14/100\n",
      "469/469 [==============================] - 12s 25ms/step - loss: 0.0236 - accuracy: 0.9010 - MulticlassKR: 0.4883 - Robust: 0.2160 - margin: 0.2113 - val_loss: 0.0245 - val_accuracy: 0.8964 - val_MulticlassKR: 0.4862 - val_Robust: 0.2181 - val_margin: 0.2130\n",
      "Epoch 15/100\n",
      "469/469 [==============================] - 12s 25ms/step - loss: 0.0228 - accuracy: 0.9022 - MulticlassKR: 0.4995 - Robust: 0.2219 - margin: 0.2172 - val_loss: 0.0241 - val_accuracy: 0.8964 - val_MulticlassKR: 0.4870 - val_Robust: 0.2193 - val_margin: 0.2142\n",
      "Epoch 16/100\n",
      "469/469 [==============================] - 12s 25ms/step - loss: 0.0220 - accuracy: 0.9037 - MulticlassKR: 0.5112 - Robust: 0.2283 - margin: 0.2237 - val_loss: 0.0254 - val_accuracy: 0.8934 - val_MulticlassKR: 0.4847 - val_Robust: 0.2142 - val_margin: 0.2088\n",
      "Epoch 17/100\n",
      "469/469 [==============================] - 11s 24ms/step - loss: 0.0208 - accuracy: 0.9076 - MulticlassKR: 0.5251 - Robust: 0.2352 - margin: 0.2308 - val_loss: 0.0241 - val_accuracy: 0.8941 - val_MulticlassKR: 0.5335 - val_Robust: 0.2410 - val_margin: 0.2352\n",
      "Epoch 18/100\n",
      "469/469 [==============================] - 11s 24ms/step - loss: 0.0203 - accuracy: 0.9071 - MulticlassKR: 0.5339 - Robust: 0.2400 - margin: 0.2357 - val_loss: 0.0239 - val_accuracy: 0.8958 - val_MulticlassKR: 0.5201 - val_Robust: 0.2339 - val_margin: 0.2285\n",
      "Epoch 19/100\n",
      "469/469 [==============================] - 12s 25ms/step - loss: 0.0199 - accuracy: 0.9089 - MulticlassKR: 0.5423 - Robust: 0.2444 - margin: 0.2400 - val_loss: 0.0230 - val_accuracy: 0.8967 - val_MulticlassKR: 0.5393 - val_Robust: 0.2436 - val_margin: 0.2383\n",
      "Epoch 20/100\n",
      "469/469 [==============================] - 11s 24ms/step - loss: 0.0189 - accuracy: 0.9097 - MulticlassKR: 0.5564 - Robust: 0.2507 - margin: 0.2464 - val_loss: 0.0232 - val_accuracy: 0.8963 - val_MulticlassKR: 0.5581 - val_Robust: 0.2528 - val_margin: 0.2472\n",
      "Epoch 21/100\n",
      "469/469 [==============================] - 12s 25ms/step - loss: 0.0183 - accuracy: 0.9106 - MulticlassKR: 0.5644 - Robust: 0.2551 - margin: 0.2508 - val_loss: 0.0225 - val_accuracy: 0.8949 - val_MulticlassKR: 0.5541 - val_Robust: 0.2512 - val_margin: 0.2458\n",
      "Epoch 22/100\n",
      "469/469 [==============================] - 12s 25ms/step - loss: 0.0180 - accuracy: 0.9123 - MulticlassKR: 0.5700 - Robust: 0.2580 - margin: 0.2537 - val_loss: 0.0208 - val_accuracy: 0.9012 - val_MulticlassKR: 0.5688 - val_Robust: 0.2589 - val_margin: 0.2538\n",
      "Epoch 23/100\n",
      "469/469 [==============================] - 11s 25ms/step - loss: 0.0173 - accuracy: 0.9126 - MulticlassKR: 0.5836 - Robust: 0.2644 - margin: 0.2602 - val_loss: 0.0232 - val_accuracy: 0.8904 - val_MulticlassKR: 0.5710 - val_Robust: 0.2597 - val_margin: 0.2538\n",
      "Epoch 24/100\n",
      "469/469 [==============================] - 12s 25ms/step - loss: 0.0164 - accuracy: 0.9150 - MulticlassKR: 0.5913 - Robust: 0.2686 - margin: 0.2644 - val_loss: 0.0206 - val_accuracy: 0.9007 - val_MulticlassKR: 0.5752 - val_Robust: 0.2597 - val_margin: 0.2545\n",
      "Epoch 25/100\n",
      "469/469 [==============================] - 12s 25ms/step - loss: 0.0162 - accuracy: 0.9154 - MulticlassKR: 0.5970 - Robust: 0.2710 - margin: 0.2669 - val_loss: 0.0193 - val_accuracy: 0.9033 - val_MulticlassKR: 0.6056 - val_Robust: 0.2767 - val_margin: 0.2712\n",
      "Epoch 26/100\n",
      "469/469 [==============================] - 12s 25ms/step - loss: 0.0155 - accuracy: 0.9160 - MulticlassKR: 0.6048 - Robust: 0.2749 - margin: 0.2709 - val_loss: 0.0204 - val_accuracy: 0.8998 - val_MulticlassKR: 0.5791 - val_Robust: 0.2643 - val_margin: 0.2591\n",
      "Epoch 27/100\n",
      "469/469 [==============================] - 11s 25ms/step - loss: 0.0153 - accuracy: 0.9161 - MulticlassKR: 0.6095 - Robust: 0.2773 - margin: 0.2733 - val_loss: 0.0199 - val_accuracy: 0.8990 - val_MulticlassKR: 0.6189 - val_Robust: 0.2829 - val_margin: 0.2775\n",
      "Epoch 28/100\n",
      "469/469 [==============================] - 12s 25ms/step - loss: 0.0150 - accuracy: 0.9159 - MulticlassKR: 0.6163 - Robust: 0.2805 - margin: 0.2764 - val_loss: 0.0180 - val_accuracy: 0.9048 - val_MulticlassKR: 0.6234 - val_Robust: 0.2856 - val_margin: 0.2805\n",
      "Epoch 29/100\n",
      "469/469 [==============================] - 12s 25ms/step - loss: 0.0143 - accuracy: 0.9173 - MulticlassKR: 0.6261 - Robust: 0.2854 - margin: 0.2814 - val_loss: 0.0189 - val_accuracy: 0.9033 - val_MulticlassKR: 0.5996 - val_Robust: 0.2738 - val_margin: 0.2686\n",
      "Epoch 30/100\n",
      "469/469 [==============================] - 11s 25ms/step - loss: 0.0140 - accuracy: 0.9185 - MulticlassKR: 0.6288 - Robust: 0.2870 - margin: 0.2830 - val_loss: 0.0188 - val_accuracy: 0.9026 - val_MulticlassKR: 0.5972 - val_Robust: 0.2729 - val_margin: 0.2676\n",
      "Epoch 31/100\n",
      "469/469 [==============================] - 11s 24ms/step - loss: 0.0135 - accuracy: 0.9195 - MulticlassKR: 0.6361 - Robust: 0.2903 - margin: 0.2864 - val_loss: 0.0174 - val_accuracy: 0.9030 - val_MulticlassKR: 0.6483 - val_Robust: 0.2985 - val_margin: 0.2930\n",
      "Epoch 32/100\n",
      "469/469 [==============================] - 12s 25ms/step - loss: 0.0130 - accuracy: 0.9209 - MulticlassKR: 0.6417 - Robust: 0.2932 - margin: 0.2894 - val_loss: 0.0171 - val_accuracy: 0.9066 - val_MulticlassKR: 0.6405 - val_Robust: 0.2930 - val_margin: 0.2880\n",
      "Epoch 33/100\n",
      "469/469 [==============================] - 12s 25ms/step - loss: 0.0127 - accuracy: 0.9214 - MulticlassKR: 0.6493 - Robust: 0.2966 - margin: 0.2928 - val_loss: 0.0189 - val_accuracy: 0.9032 - val_MulticlassKR: 0.6218 - val_Robust: 0.2842 - val_margin: 0.2788\n",
      "Epoch 34/100\n",
      "469/469 [==============================] - 12s 25ms/step - loss: 0.0127 - accuracy: 0.9207 - MulticlassKR: 0.6532 - Robust: 0.2989 - margin: 0.2951 - val_loss: 0.0169 - val_accuracy: 0.9058 - val_MulticlassKR: 0.6273 - val_Robust: 0.2876 - val_margin: 0.2824\n",
      "Epoch 35/100\n",
      "469/469 [==============================] - 11s 24ms/step - loss: 0.0124 - accuracy: 0.9215 - MulticlassKR: 0.6550 - Robust: 0.2997 - margin: 0.2959 - val_loss: 0.0165 - val_accuracy: 0.9075 - val_MulticlassKR: 0.6445 - val_Robust: 0.2942 - val_margin: 0.2890\n",
      "Epoch 36/100\n",
      "469/469 [==============================] - 12s 25ms/step - loss: 0.0120 - accuracy: 0.9218 - MulticlassKR: 0.6618 - Robust: 0.3029 - margin: 0.2991 - val_loss: 0.0167 - val_accuracy: 0.9076 - val_MulticlassKR: 0.6474 - val_Robust: 0.2971 - val_margin: 0.2919\n",
      "Epoch 37/100\n",
      "469/469 [==============================] - 11s 24ms/step - loss: 0.0117 - accuracy: 0.9218 - MulticlassKR: 0.6677 - Robust: 0.3053 - margin: 0.3015 - val_loss: 0.0160 - val_accuracy: 0.9072 - val_MulticlassKR: 0.6500 - val_Robust: 0.2982 - val_margin: 0.2929\n",
      "Epoch 38/100\n",
      "469/469 [==============================] - 12s 25ms/step - loss: 0.0115 - accuracy: 0.9226 - MulticlassKR: 0.6716 - Robust: 0.3072 - margin: 0.3035 - val_loss: 0.0188 - val_accuracy: 0.8997 - val_MulticlassKR: 0.6446 - val_Robust: 0.2936 - val_margin: 0.2881\n",
      "Epoch 39/100\n",
      "469/469 [==============================] - 11s 25ms/step - loss: 0.0113 - accuracy: 0.9230 - MulticlassKR: 0.6704 - Robust: 0.3076 - margin: 0.3039 - val_loss: 0.0155 - val_accuracy: 0.9054 - val_MulticlassKR: 0.6822 - val_Robust: 0.3144 - val_margin: 0.3091\n",
      "Epoch 40/100\n",
      "469/469 [==============================] - 11s 24ms/step - loss: 0.0110 - accuracy: 0.9240 - MulticlassKR: 0.6776 - Robust: 0.3103 - margin: 0.3066 - val_loss: 0.0165 - val_accuracy: 0.9050 - val_MulticlassKR: 0.6644 - val_Robust: 0.3066 - val_margin: 0.3010\n",
      "Epoch 41/100\n",
      "469/469 [==============================] - 12s 25ms/step - loss: 0.0107 - accuracy: 0.9250 - MulticlassKR: 0.6806 - Robust: 0.3120 - margin: 0.3084 - val_loss: 0.0149 - val_accuracy: 0.9100 - val_MulticlassKR: 0.6595 - val_Robust: 0.3038 - val_margin: 0.2989\n",
      "Epoch 42/100\n",
      "469/469 [==============================] - 12s 25ms/step - loss: 0.0106 - accuracy: 0.9251 - MulticlassKR: 0.6825 - Robust: 0.3133 - margin: 0.3096 - val_loss: 0.0153 - val_accuracy: 0.9081 - val_MulticlassKR: 0.6737 - val_Robust: 0.3081 - val_margin: 0.3030\n",
      "Epoch 43/100\n",
      "469/469 [==============================] - 11s 24ms/step - loss: 0.0103 - accuracy: 0.9258 - MulticlassKR: 0.6888 - Robust: 0.3161 - margin: 0.3125 - val_loss: 0.0155 - val_accuracy: 0.9070 - val_MulticlassKR: 0.6699 - val_Robust: 0.3087 - val_margin: 0.3037\n",
      "Epoch 44/100\n",
      "469/469 [==============================] - 11s 25ms/step - loss: 0.0103 - accuracy: 0.9248 - MulticlassKR: 0.6905 - Robust: 0.3162 - margin: 0.3126 - val_loss: 0.0151 - val_accuracy: 0.9090 - val_MulticlassKR: 0.6773 - val_Robust: 0.3112 - val_margin: 0.3062\n",
      "Epoch 45/100\n",
      "469/469 [==============================] - 11s 24ms/step - loss: 0.0101 - accuracy: 0.9259 - MulticlassKR: 0.6940 - Robust: 0.3185 - margin: 0.3149 - val_loss: 0.0149 - val_accuracy: 0.9098 - val_MulticlassKR: 0.6849 - val_Robust: 0.3150 - val_margin: 0.3102\n",
      "Epoch 46/100\n",
      "469/469 [==============================] - 12s 25ms/step - loss: 0.0099 - accuracy: 0.9258 - MulticlassKR: 0.6976 - Robust: 0.3205 - margin: 0.3169 - val_loss: 0.0143 - val_accuracy: 0.9103 - val_MulticlassKR: 0.6759 - val_Robust: 0.3118 - val_margin: 0.3070\n",
      "Epoch 47/100\n",
      "469/469 [==============================] - 11s 24ms/step - loss: 0.0095 - accuracy: 0.9277 - MulticlassKR: 0.6992 - Robust: 0.3222 - margin: 0.3187 - val_loss: 0.0144 - val_accuracy: 0.9110 - val_MulticlassKR: 0.6756 - val_Robust: 0.3109 - val_margin: 0.3061\n",
      "Epoch 48/100\n",
      "469/469 [==============================] - 11s 24ms/step - loss: 0.0095 - accuracy: 0.9281 - MulticlassKR: 0.7012 - Robust: 0.3223 - margin: 0.3188 - val_loss: 0.0146 - val_accuracy: 0.9091 - val_MulticlassKR: 0.6899 - val_Robust: 0.3182 - val_margin: 0.3129\n",
      "Epoch 49/100\n",
      "469/469 [==============================] - 11s 24ms/step - loss: 0.0095 - accuracy: 0.9265 - MulticlassKR: 0.7041 - Robust: 0.3234 - margin: 0.3198 - val_loss: 0.0143 - val_accuracy: 0.9076 - val_MulticlassKR: 0.7121 - val_Robust: 0.3281 - val_margin: 0.3229\n",
      "Epoch 50/100\n",
      "469/469 [==============================] - 11s 24ms/step - loss: 0.0091 - accuracy: 0.9270 - MulticlassKR: 0.7086 - Robust: 0.3259 - margin: 0.3223 - val_loss: 0.0143 - val_accuracy: 0.9114 - val_MulticlassKR: 0.6785 - val_Robust: 0.3129 - val_margin: 0.3079\n",
      "Epoch 51/100\n",
      "469/469 [==============================] - 11s 24ms/step - loss: 0.0090 - accuracy: 0.9281 - MulticlassKR: 0.7112 - Robust: 0.3265 - margin: 0.3231 - val_loss: 0.0141 - val_accuracy: 0.9106 - val_MulticlassKR: 0.6713 - val_Robust: 0.3081 - val_margin: 0.3035\n",
      "Epoch 52/100\n",
      "469/469 [==============================] - 11s 24ms/step - loss: 0.0090 - accuracy: 0.9282 - MulticlassKR: 0.7109 - Robust: 0.3267 - margin: 0.3232 - val_loss: 0.0144 - val_accuracy: 0.9093 - val_MulticlassKR: 0.7128 - val_Robust: 0.3290 - val_margin: 0.3238\n",
      "Epoch 53/100\n",
      "469/469 [==============================] - 11s 24ms/step - loss: 0.0087 - accuracy: 0.9288 - MulticlassKR: 0.7161 - Robust: 0.3292 - margin: 0.3257 - val_loss: 0.0135 - val_accuracy: 0.9109 - val_MulticlassKR: 0.7242 - val_Robust: 0.3343 - val_margin: 0.3292\n",
      "Epoch 54/100\n",
      "469/469 [==============================] - 11s 24ms/step - loss: 0.0085 - accuracy: 0.9293 - MulticlassKR: 0.7159 - Robust: 0.3297 - margin: 0.3264 - val_loss: 0.0141 - val_accuracy: 0.9095 - val_MulticlassKR: 0.7120 - val_Robust: 0.3283 - val_margin: 0.3231\n",
      "Epoch 55/100\n",
      "469/469 [==============================] - 11s 24ms/step - loss: 0.0085 - accuracy: 0.9289 - MulticlassKR: 0.7210 - Robust: 0.3316 - margin: 0.3281 - val_loss: 0.0132 - val_accuracy: 0.9129 - val_MulticlassKR: 0.6801 - val_Robust: 0.3142 - val_margin: 0.3094\n",
      "Epoch 56/100\n",
      "469/469 [==============================] - 11s 24ms/step - loss: 0.0084 - accuracy: 0.9296 - MulticlassKR: 0.7196 - Robust: 0.3314 - margin: 0.3280 - val_loss: 0.0152 - val_accuracy: 0.9052 - val_MulticlassKR: 0.7187 - val_Robust: 0.3287 - val_margin: 0.3232\n",
      "Epoch 57/100\n",
      "469/469 [==============================] - 11s 24ms/step - loss: 0.0083 - accuracy: 0.9294 - MulticlassKR: 0.7228 - Robust: 0.3326 - margin: 0.3292 - val_loss: 0.0135 - val_accuracy: 0.9107 - val_MulticlassKR: 0.6994 - val_Robust: 0.3239 - val_margin: 0.3187\n",
      "Epoch 58/100\n",
      "469/469 [==============================] - 11s 24ms/step - loss: 0.0079 - accuracy: 0.9306 - MulticlassKR: 0.7276 - Robust: 0.3347 - margin: 0.3313 - val_loss: 0.0132 - val_accuracy: 0.9118 - val_MulticlassKR: 0.7409 - val_Robust: 0.3426 - val_margin: 0.3375\n",
      "Epoch 59/100\n",
      "469/469 [==============================] - 11s 24ms/step - loss: 0.0077 - accuracy: 0.9319 - MulticlassKR: 0.7316 - Robust: 0.3367 - margin: 0.3334 - val_loss: 0.0148 - val_accuracy: 0.9059 - val_MulticlassKR: 0.7066 - val_Robust: 0.3249 - val_margin: 0.3195\n",
      "Epoch 60/100\n",
      "469/469 [==============================] - 11s 24ms/step - loss: 0.0080 - accuracy: 0.9305 - MulticlassKR: 0.7275 - Robust: 0.3347 - margin: 0.3314 - val_loss: 0.0156 - val_accuracy: 0.9022 - val_MulticlassKR: 0.7128 - val_Robust: 0.3290 - val_margin: 0.3235\n",
      "Epoch 61/100\n",
      "469/469 [==============================] - 11s 24ms/step - loss: 0.0077 - accuracy: 0.9310 - MulticlassKR: 0.7299 - Robust: 0.3362 - margin: 0.3329 - val_loss: 0.0133 - val_accuracy: 0.9105 - val_MulticlassKR: 0.7196 - val_Robust: 0.3331 - val_margin: 0.3281\n",
      "Epoch 62/100\n",
      "469/469 [==============================] - 11s 24ms/step - loss: 0.0074 - accuracy: 0.9318 - MulticlassKR: 0.7330 - Robust: 0.3376 - margin: 0.3344 - val_loss: 0.0131 - val_accuracy: 0.9120 - val_MulticlassKR: 0.7054 - val_Robust: 0.3250 - val_margin: 0.3201\n",
      "Epoch 63/100\n",
      "469/469 [==============================] - 11s 24ms/step - loss: 0.0075 - accuracy: 0.9309 - MulticlassKR: 0.7345 - Robust: 0.3382 - margin: 0.3349 - val_loss: 0.0131 - val_accuracy: 0.9119 - val_MulticlassKR: 0.7243 - val_Robust: 0.3347 - val_margin: 0.3297\n",
      "Epoch 64/100\n",
      "469/469 [==============================] - 11s 24ms/step - loss: 0.0073 - accuracy: 0.9314 - MulticlassKR: 0.7347 - Robust: 0.3386 - margin: 0.3353 - val_loss: 0.0135 - val_accuracy: 0.9090 - val_MulticlassKR: 0.7312 - val_Robust: 0.3375 - val_margin: 0.3323\n",
      "Epoch 65/100\n",
      "469/469 [==============================] - 11s 24ms/step - loss: 0.0072 - accuracy: 0.9326 - MulticlassKR: 0.7380 - Robust: 0.3401 - margin: 0.3368 - val_loss: 0.0126 - val_accuracy: 0.9122 - val_MulticlassKR: 0.7181 - val_Robust: 0.3316 - val_margin: 0.3268\n",
      "Epoch 66/100\n",
      "469/469 [==============================] - 11s 24ms/step - loss: 0.0073 - accuracy: 0.9316 - MulticlassKR: 0.7386 - Robust: 0.3402 - margin: 0.3369 - val_loss: 0.0130 - val_accuracy: 0.9117 - val_MulticlassKR: 0.7152 - val_Robust: 0.3294 - val_margin: 0.3245\n",
      "Epoch 67/100\n",
      "469/469 [==============================] - 11s 24ms/step - loss: 0.0070 - accuracy: 0.9332 - MulticlassKR: 0.7409 - Robust: 0.3417 - margin: 0.3385 - val_loss: 0.0137 - val_accuracy: 0.9071 - val_MulticlassKR: 0.7327 - val_Robust: 0.3392 - val_margin: 0.3340\n",
      "Epoch 68/100\n",
      "469/469 [==============================] - 11s 24ms/step - loss: 0.0069 - accuracy: 0.9322 - MulticlassKR: 0.7402 - Robust: 0.3416 - margin: 0.3384 - val_loss: 0.0135 - val_accuracy: 0.9099 - val_MulticlassKR: 0.7343 - val_Robust: 0.3393 - val_margin: 0.3340\n",
      "Epoch 69/100\n",
      "469/469 [==============================] - 11s 24ms/step - loss: 0.0068 - accuracy: 0.9330 - MulticlassKR: 0.7445 - Robust: 0.3432 - margin: 0.3400 - val_loss: 0.0127 - val_accuracy: 0.9119 - val_MulticlassKR: 0.7343 - val_Robust: 0.3383 - val_margin: 0.3334\n",
      "Epoch 70/100\n",
      "469/469 [==============================] - 11s 24ms/step - loss: 0.0068 - accuracy: 0.9329 - MulticlassKR: 0.7471 - Robust: 0.3441 - margin: 0.3409 - val_loss: 0.0132 - val_accuracy: 0.9069 - val_MulticlassKR: 0.7372 - val_Robust: 0.3423 - val_margin: 0.3370\n",
      "Epoch 71/100\n",
      "469/469 [==============================] - 11s 24ms/step - loss: 0.0065 - accuracy: 0.9334 - MulticlassKR: 0.7477 - Robust: 0.3446 - margin: 0.3415 - val_loss: 0.0141 - val_accuracy: 0.9055 - val_MulticlassKR: 0.7310 - val_Robust: 0.3354 - val_margin: 0.3302\n",
      "Epoch 72/100\n",
      "469/469 [==============================] - 11s 24ms/step - loss: 0.0066 - accuracy: 0.9331 - MulticlassKR: 0.7482 - Robust: 0.3446 - margin: 0.3415 - val_loss: 0.0123 - val_accuracy: 0.9139 - val_MulticlassKR: 0.7215 - val_Robust: 0.3331 - val_margin: 0.3283\n",
      "Epoch 73/100\n",
      "469/469 [==============================] - 11s 24ms/step - loss: 0.0063 - accuracy: 0.9344 - MulticlassKR: 0.7521 - Robust: 0.3463 - margin: 0.3431 - val_loss: 0.0129 - val_accuracy: 0.9128 - val_MulticlassKR: 0.7113 - val_Robust: 0.3274 - val_margin: 0.3225\n",
      "Epoch 74/100\n",
      "469/469 [==============================] - 11s 24ms/step - loss: 0.0064 - accuracy: 0.9347 - MulticlassKR: 0.7492 - Robust: 0.3454 - margin: 0.3423 - val_loss: 0.0165 - val_accuracy: 0.9008 - val_MulticlassKR: 0.7132 - val_Robust: 0.3257 - val_margin: 0.3200\n",
      "Epoch 75/100\n",
      "469/469 [==============================] - 11s 24ms/step - loss: 0.0064 - accuracy: 0.9345 - MulticlassKR: 0.7528 - Robust: 0.3467 - margin: 0.3435 - val_loss: 0.0129 - val_accuracy: 0.9136 - val_MulticlassKR: 0.7189 - val_Robust: 0.3314 - val_margin: 0.3266\n",
      "Epoch 76/100\n",
      "469/469 [==============================] - 11s 24ms/step - loss: 0.0063 - accuracy: 0.9345 - MulticlassKR: 0.7525 - Robust: 0.3470 - margin: 0.3438 - val_loss: 0.0120 - val_accuracy: 0.9147 - val_MulticlassKR: 0.7244 - val_Robust: 0.3359 - val_margin: 0.3311\n",
      "Epoch 77/100\n",
      "469/469 [==============================] - 11s 24ms/step - loss: 0.0064 - accuracy: 0.9344 - MulticlassKR: 0.7531 - Robust: 0.3470 - margin: 0.3439 - val_loss: 0.0121 - val_accuracy: 0.9131 - val_MulticlassKR: 0.7322 - val_Robust: 0.3367 - val_margin: 0.3320\n",
      "Epoch 78/100\n",
      "469/469 [==============================] - 11s 24ms/step - loss: 0.0060 - accuracy: 0.9348 - MulticlassKR: 0.7561 - Robust: 0.3489 - margin: 0.3458 - val_loss: 0.0115 - val_accuracy: 0.9129 - val_MulticlassKR: 0.7372 - val_Robust: 0.3416 - val_margin: 0.3368\n",
      "Epoch 79/100\n",
      "469/469 [==============================] - 11s 24ms/step - loss: 0.0060 - accuracy: 0.9352 - MulticlassKR: 0.7574 - Robust: 0.3495 - margin: 0.3464 - val_loss: 0.0119 - val_accuracy: 0.9120 - val_MulticlassKR: 0.7559 - val_Robust: 0.3494 - val_margin: 0.3444\n",
      "Epoch 80/100\n",
      "469/469 [==============================] - 11s 24ms/step - loss: 0.0060 - accuracy: 0.9349 - MulticlassKR: 0.7591 - Robust: 0.3498 - margin: 0.3467 - val_loss: 0.0120 - val_accuracy: 0.9122 - val_MulticlassKR: 0.7405 - val_Robust: 0.3428 - val_margin: 0.3378\n",
      "Epoch 81/100\n",
      "469/469 [==============================] - 11s 24ms/step - loss: 0.0058 - accuracy: 0.9350 - MulticlassKR: 0.7604 - Robust: 0.3505 - margin: 0.3474 - val_loss: 0.0123 - val_accuracy: 0.9145 - val_MulticlassKR: 0.7255 - val_Robust: 0.3364 - val_margin: 0.3318\n",
      "Epoch 82/100\n",
      "469/469 [==============================] - 11s 24ms/step - loss: 0.0059 - accuracy: 0.9363 - MulticlassKR: 0.7594 - Robust: 0.3502 - margin: 0.3472 - val_loss: 0.0118 - val_accuracy: 0.9125 - val_MulticlassKR: 0.7453 - val_Robust: 0.3448 - val_margin: 0.3400\n",
      "Epoch 83/100\n",
      "469/469 [==============================] - 11s 24ms/step - loss: 0.0058 - accuracy: 0.9353 - MulticlassKR: 0.7615 - Robust: 0.3515 - margin: 0.3485 - val_loss: 0.0125 - val_accuracy: 0.9101 - val_MulticlassKR: 0.7483 - val_Robust: 0.3458 - val_margin: 0.3403\n",
      "Epoch 84/100\n",
      "469/469 [==============================] - 11s 24ms/step - loss: 0.0055 - accuracy: 0.9360 - MulticlassKR: 0.7654 - Robust: 0.3527 - margin: 0.3497 - val_loss: 0.0125 - val_accuracy: 0.9114 - val_MulticlassKR: 0.7411 - val_Robust: 0.3406 - val_margin: 0.3358\n",
      "Epoch 85/100\n",
      "469/469 [==============================] - 11s 24ms/step - loss: 0.0056 - accuracy: 0.9360 - MulticlassKR: 0.7652 - Robust: 0.3530 - margin: 0.3499 - val_loss: 0.0120 - val_accuracy: 0.9137 - val_MulticlassKR: 0.7358 - val_Robust: 0.3387 - val_margin: 0.3340\n",
      "Epoch 86/100\n",
      "469/469 [==============================] - 11s 24ms/step - loss: 0.0055 - accuracy: 0.9365 - MulticlassKR: 0.7633 - Robust: 0.3520 - margin: 0.3490 - val_loss: 0.0117 - val_accuracy: 0.9118 - val_MulticlassKR: 0.7856 - val_Robust: 0.3632 - val_margin: 0.3580\n",
      "Epoch 87/100\n",
      "469/469 [==============================] - 11s 24ms/step - loss: 0.0054 - accuracy: 0.9365 - MulticlassKR: 0.7671 - Robust: 0.3532 - margin: 0.3501 - val_loss: 0.0117 - val_accuracy: 0.9139 - val_MulticlassKR: 0.7378 - val_Robust: 0.3415 - val_margin: 0.3366\n",
      "Epoch 88/100\n",
      "469/469 [==============================] - 11s 24ms/step - loss: 0.0056 - accuracy: 0.9362 - MulticlassKR: 0.7631 - Robust: 0.3522 - margin: 0.3492 - val_loss: 0.0125 - val_accuracy: 0.9115 - val_MulticlassKR: 0.7523 - val_Robust: 0.3472 - val_margin: 0.3421\n",
      "Epoch 89/100\n",
      "469/469 [==============================] - 11s 24ms/step - loss: 0.0052 - accuracy: 0.9372 - MulticlassKR: 0.7694 - Robust: 0.3549 - margin: 0.3519 - val_loss: 0.0126 - val_accuracy: 0.9099 - val_MulticlassKR: 0.7425 - val_Robust: 0.3424 - val_margin: 0.3373\n",
      "Epoch 90/100\n",
      "469/469 [==============================] - 11s 24ms/step - loss: 0.0052 - accuracy: 0.9372 - MulticlassKR: 0.7695 - Robust: 0.3547 - margin: 0.3517 - val_loss: 0.0115 - val_accuracy: 0.9138 - val_MulticlassKR: 0.7512 - val_Robust: 0.3485 - val_margin: 0.3436\n",
      "Epoch 91/100\n",
      "469/469 [==============================] - 11s 24ms/step - loss: 0.0051 - accuracy: 0.9379 - MulticlassKR: 0.7713 - Robust: 0.3560 - margin: 0.3531 - val_loss: 0.0117 - val_accuracy: 0.9144 - val_MulticlassKR: 0.7580 - val_Robust: 0.3509 - val_margin: 0.3460\n",
      "Epoch 92/100\n",
      "469/469 [==============================] - 11s 24ms/step - loss: 0.0050 - accuracy: 0.9373 - MulticlassKR: 0.7709 - Robust: 0.3561 - margin: 0.3532 - val_loss: 0.0115 - val_accuracy: 0.9127 - val_MulticlassKR: 0.7523 - val_Robust: 0.3480 - val_margin: 0.3431\n",
      "Epoch 93/100\n",
      "469/469 [==============================] - 11s 24ms/step - loss: 0.0050 - accuracy: 0.9373 - MulticlassKR: 0.7737 - Robust: 0.3567 - margin: 0.3537 - val_loss: 0.0114 - val_accuracy: 0.9137 - val_MulticlassKR: 0.7560 - val_Robust: 0.3501 - val_margin: 0.3454\n",
      "Epoch 94/100\n",
      "469/469 [==============================] - 11s 24ms/step - loss: 0.0050 - accuracy: 0.9380 - MulticlassKR: 0.7717 - Robust: 0.3563 - margin: 0.3533 - val_loss: 0.0117 - val_accuracy: 0.9126 - val_MulticlassKR: 0.7455 - val_Robust: 0.3438 - val_margin: 0.3391\n",
      "Epoch 95/100\n",
      "469/469 [==============================] - 11s 24ms/step - loss: 0.0050 - accuracy: 0.9373 - MulticlassKR: 0.7756 - Robust: 0.3575 - margin: 0.3546 - val_loss: 0.0115 - val_accuracy: 0.9131 - val_MulticlassKR: 0.7526 - val_Robust: 0.3486 - val_margin: 0.3436\n",
      "Epoch 96/100\n",
      "469/469 [==============================] - 11s 24ms/step - loss: 0.0049 - accuracy: 0.9380 - MulticlassKR: 0.7755 - Robust: 0.3576 - margin: 0.3547 - val_loss: 0.0121 - val_accuracy: 0.9141 - val_MulticlassKR: 0.7430 - val_Robust: 0.3422 - val_margin: 0.3373\n",
      "Epoch 97/100\n",
      "469/469 [==============================] - 11s 24ms/step - loss: 0.0047 - accuracy: 0.9384 - MulticlassKR: 0.7765 - Robust: 0.3582 - margin: 0.3553 - val_loss: 0.0121 - val_accuracy: 0.9114 - val_MulticlassKR: 0.7547 - val_Robust: 0.3478 - val_margin: 0.3427\n",
      "Epoch 98/100\n",
      "469/469 [==============================] - 11s 24ms/step - loss: 0.0049 - accuracy: 0.9377 - MulticlassKR: 0.7773 - Robust: 0.3584 - margin: 0.3555 - val_loss: 0.0112 - val_accuracy: 0.9150 - val_MulticlassKR: 0.7505 - val_Robust: 0.3467 - val_margin: 0.3421\n",
      "Epoch 99/100\n",
      "469/469 [==============================] - 11s 24ms/step - loss: 0.0046 - accuracy: 0.9388 - MulticlassKR: 0.7795 - Robust: 0.3595 - margin: 0.3566 - val_loss: 0.0115 - val_accuracy: 0.9117 - val_MulticlassKR: 0.7488 - val_Robust: 0.3451 - val_margin: 0.3405\n",
      "Epoch 100/100\n",
      "469/469 [==============================] - 11s 24ms/step - loss: 0.0046 - accuracy: 0.9389 - MulticlassKR: 0.7792 - Robust: 0.3596 - margin: 0.3566 - val_loss: 0.0118 - val_accuracy: 0.9135 - val_MulticlassKR: 0.7507 - val_Robust: 0.3466 - val_margin: 0.3417\n"
     ]
    },
    {
     "data": {
      "text/plain": [
       "<keras.callbacks.History at 0x7fb3fbfb7040>"
      ]
     },
     "execution_count": 6,
     "metadata": {},
     "output_type": "execute_result"
    }
   ],
   "source": [
    "# fit the model\n",
    "\n",
    "model.fit(\n",
    "    x_train,\n",
    "    y_train,\n",
    "    batch_size=batch_size,\n",
    "    epochs=nb_epochs,\n",
    "    validation_data=(x_test, y_test),\n",
    "    shuffle=True,\n",
    "    verbose=1,\n",
    "    #callbacks = callbacks\n",
    ")"
   ]
  },
  {
   "attachments": {},
   "cell_type": "markdown",
   "metadata": {
    "id": "s6TDG4nflyya"
   },
   "source": [
    "### model exportation\n",
    "\n",
    "Once training is finished, the model can be optimized for inference by using the `vanilla_export()` method."
   ]
  },
  {
   "cell_type": "code",
   "execution_count": 7,
   "metadata": {
    "id": "Nr2nMclLHHvI"
   },
   "outputs": [],
   "source": [
    "# once training is finished you can convert\n",
    "# SpectralDense layers into Dense layers and SpectralConv2D into Conv2D\n",
    "# which optimize performance for inference\n",
    "vanilla_model = model.vanilla_export()"
   ]
  },
  {
   "attachments": {},
   "cell_type": "markdown",
   "metadata": {
    "id": "V32dqI2NmMPi"
   },
   "source": [
    "### certificates generation and adversarial attacks"
   ]
  },
  {
   "cell_type": "code",
   "execution_count": 8,
   "metadata": {
    "id": "m8h2gEDuIS5q"
   },
   "outputs": [],
   "source": [
    "import foolbox as fb\n",
    "from tensorflow import convert_to_tensor\n",
    "import matplotlib.pyplot as plt\n",
    "import tensorflow as tf"
   ]
  },
  {
   "cell_type": "code",
   "execution_count": 9,
   "metadata": {
    "id": "AMdpLMM1IXZJ"
   },
   "outputs": [],
   "source": [
    "# we will test it on 10 samples one of each class\n",
    "nb_adv = 10\n",
    "\n",
    "hkr_fmodel = fb.TensorFlowModel(vanilla_model, bounds=(0., 1.), device=\"/GPU:0\")"
   ]
  },
  {
   "attachments": {},
   "cell_type": "markdown",
   "metadata": {
    "id": "SLRFGRmcmw6K"
   },
   "source": [
    "In order to test the robustness of the model, the first correctly classified element of each class are selected."
   ]
  },
  {
   "cell_type": "code",
   "execution_count": 10,
   "metadata": {
    "colab": {
     "base_uri": "https://localhost:8080/"
    },
    "id": "ry5uB9QdJexi",
    "outputId": "6126888e-d256-4783-d284-0e40555c5dff"
   },
   "outputs": [
    {
     "name": "stderr",
     "output_type": "stream",
     "text": [
      "/tmp/ipykernel_2181989/3919653519.py:17: FutureWarning: Using a non-tuple sequence for multidimensional indexing is deprecated; use `arr[tuple(seq)]` instead of `arr[seq]`. In the future this will be interpreted as an array index, `arr[np.array(seq)]`, which will result either in an error or a different result.\n",
      "  x = sub_x_test[label_mask][0]\n",
      "/tmp/ipykernel_2181989/3919653519.py:18: FutureWarning: Using a non-tuple sequence for multidimensional indexing is deprecated; use `arr[tuple(seq)]` instead of `arr[seq]`. In the future this will be interpreted as an array index, `arr[np.array(seq)]`, which will result either in an error or a different result.\n",
      "  y = sub_y_test_ord[label_mask][0]\n"
     ]
    }
   ],
   "source": [
    "# strategy: first\n",
    "# we select a sample from each class.\n",
    "images_list = []\n",
    "labels_list = []\n",
    "# select only a few element from the test set\n",
    "selected=np.random.choice(len(y_test_ord), 500)\n",
    "sub_y_test_ord = y_test_ord[:300]\n",
    "sub_x_test = x_test[:300]\n",
    "# drop misclassified elements\n",
    "misclassified_mask = tf.equal(tf.argmax(vanilla_model.predict(sub_x_test), axis=-1), sub_y_test_ord)\n",
    "sub_x_test = sub_x_test[misclassified_mask]\n",
    "sub_y_test_ord = sub_y_test_ord[misclassified_mask]\n",
    "# now we will build a list with input image for each element of the matrix\n",
    "for i in range(10):\n",
    "  # select the first element of the ith label\n",
    "  label_mask = [sub_y_test_ord==i]\n",
    "  x = sub_x_test[label_mask][0]\n",
    "  y = sub_y_test_ord[label_mask][0]\n",
    "  # convert it to tensor for use with foolbox\n",
    "  images = convert_to_tensor(x.astype(\"float32\"), dtype=\"float32\")\n",
    "  labels = convert_to_tensor(y, dtype=\"int64\")\n",
    "  # repeat the input 10 times, one per misclassification target\n",
    "  images_list.append(images)\n",
    "  labels_list.append(labels)\n",
    "images = convert_to_tensor(images_list)\n",
    "labels = convert_to_tensor(labels_list)"
   ]
  },
  {
   "attachments": {},
   "cell_type": "markdown",
   "metadata": {
    "id": "GJctMBKrnqmC"
   },
   "source": [
    "In order to build a certficate, we take for each sample the top 2 output and apply this formula:\n",
    "$$ \\epsilon \\geq \\frac{\\text{top}_1 - \\text{top}_2}{2} $$\n",
    "Where epsilon is the robustness radius for the considered sample."
   ]
  },
  {
   "cell_type": "code",
   "execution_count": 11,
   "metadata": {
    "colab": {
     "base_uri": "https://localhost:8080/"
    },
    "id": "vxbkWNsdBx0y",
    "outputId": "0d419744-f63e-4207-eb31-ebc7e8d730c0"
   },
   "outputs": [
    {
     "data": {
      "text/plain": [
       "<tf.Tensor: shape=(10,), dtype=float32, numpy=\n",
       "array([0.1444801 , 2.5463464 , 0.24173416, 0.2517793 , 0.11513443,\n",
       "       0.2313317 , 0.05687515, 0.27058238, 0.8143281 , 0.16340327],\n",
       "      dtype=float32)>"
      ]
     },
     "execution_count": 11,
     "metadata": {},
     "output_type": "execute_result"
    }
   ],
   "source": [
    "values, classes = tf.math.top_k(hkr_fmodel(images), k=2)\n",
    "certificates = (values[:, 0] - values[:, 1]) / 2\n",
    "certificates"
   ]
  },
  {
   "attachments": {},
   "cell_type": "markdown",
   "metadata": {
    "id": "E2dqSmNPnVpK"
   },
   "source": [
    "now we will attack the model to check if the certificates are respected. In this setup `L2CarliniWagnerAttack` is used but in practice as these kind of networks are gradient norm preserving, other attacks gives very similar results."
   ]
  },
  {
   "cell_type": "code",
   "execution_count": 12,
   "metadata": {
    "colab": {
     "base_uri": "https://localhost:8080/"
    },
    "id": "UgqlVcLRKzSD",
    "outputId": "34fded95-9d16-4c60-8af0-45ebb8c01b6e"
   },
   "outputs": [
    {
     "data": {
      "text/plain": [
       "array([0.8651563 , 4.6529865 , 1.6159605 , 1.4690346 , 0.7361536 ,\n",
       "       0.91850513, 0.35403207, 1.1718608 , 3.4199278 , 0.70567477],\n",
       "      dtype=float32)"
      ]
     },
     "execution_count": 12,
     "metadata": {},
     "output_type": "execute_result"
    }
   ],
   "source": [
    "attack = fb.attacks.L2CarliniWagnerAttack(binary_search_steps=6, steps=8000)\n",
    "imgs, advs, success = attack(hkr_fmodel, images, labels, epsilons=None)\n",
    "dist_to_adv = np.sqrt(np.sum(np.square(images - advs), axis=(1,2,3)))\n",
    "dist_to_adv"
   ]
  },
  {
   "attachments": {},
   "cell_type": "markdown",
   "metadata": {
    "id": "YkoroIBUqZqy"
   },
   "source": [
    "As we can see the certificate are respected."
   ]
  },
  {
   "cell_type": "code",
   "execution_count": 13,
   "metadata": {
    "id": "M9WvQIyqnlpg"
   },
   "outputs": [],
   "source": [
    "tf.assert_less(certificates, dist_to_adv)"
   ]
  },
  {
   "attachments": {},
   "cell_type": "markdown",
   "metadata": {
    "id": "u3ooZSlcqdx6"
   },
   "source": [
    "Finally we can take a visual look at the obtained examples.\n",
    "We first start with utility functions for display."
   ]
  },
  {
   "cell_type": "code",
   "execution_count": 14,
   "metadata": {
    "id": "1Sp3RsmPQ5eM"
   },
   "outputs": [],
   "source": [
    "class_mapping = {\n",
    "  0: \"T-shirt/top\",\n",
    "  1: \"Trouser\",\n",
    "  2: \"Pullover\",\n",
    "  3: \"Dress\",\n",
    "  4: \"Coat\",\n",
    "  5: \"Sandal\",\n",
    "  6: \"Shirt\",\n",
    "  7: \"Sneaker\",\n",
    "  8: \"Bag\",\n",
    "  9: \"Ankle boot\",\n",
    "}"
   ]
  },
  {
   "cell_type": "code",
   "execution_count": 15,
   "metadata": {
    "id": "UWZ6V1wt0WwR"
   },
   "outputs": [],
   "source": [
    "def adversarial_viz(model, images, advs, class_mapping):\n",
    "  \"\"\"\n",
    "  This functions shows for each sample: \n",
    "  - the original image\n",
    "  - the adversarial image\n",
    "  - the difference map\n",
    "  - the certificate and the observed distance to adversarial \n",
    "  \"\"\"\n",
    "  scale = 1.5\n",
    "  kwargs={}\n",
    "  nb_imgs = images.shape[0]\n",
    "  # compute certificates\n",
    "  values, classes = tf.math.top_k(model(images), k=2)\n",
    "  certificates = (values[:, 0] - values[:, 1]) / 2\n",
    "  # compute difference distance to adversarial\n",
    "  dist_to_adv = np.sqrt(np.sum(np.square(images - advs), axis=(1,2,3)))\n",
    "  # find classes labels for imgs and advs\n",
    "  orig_classes = [class_mapping[i] for i in tf.argmax(model(images), axis=-1).numpy()]\n",
    "  advs_classes = [class_mapping[i] for i in tf.argmax(model(advs), axis=-1).numpy()]\n",
    "  # compute differences maps\n",
    "  if images.shape[-1] != 3:\n",
    "    diff_pos = np.clip(advs - images, 0, 1.)\n",
    "    diff_neg = np.clip(images - advs, 0, 1.)\n",
    "    diff_map = np.concatenate([diff_neg, diff_pos, np.zeros_like(diff_neg)], axis=-1)\n",
    "  else:\n",
    "    diff_map = np.abs(advs - images)\n",
    "  # expands image to be displayed\n",
    "  if images.shape[-1] != 3:\n",
    "    images = np.repeat(images, 3, -1)\n",
    "  if advs.shape[-1] != 3:\n",
    "    advs = np.repeat(advs, 3, -1)\n",
    "  # create plot\n",
    "  figsize = (3 * scale, nb_imgs * scale)\n",
    "  fig, axes = plt.subplots(\n",
    "    ncols=3,\n",
    "    nrows=nb_imgs,\n",
    "    figsize=figsize,\n",
    "    squeeze=False,\n",
    "    constrained_layout=True,\n",
    "    **kwargs,\n",
    "  )\n",
    "  for i in range(nb_imgs):\n",
    "    ax = axes[i][0]\n",
    "    ax.set_title(orig_classes[i])\n",
    "    ax.set_xticks([])\n",
    "    ax.set_yticks([])\n",
    "    ax.axis(\"off\")\n",
    "    ax.imshow(images[i])\n",
    "    ax = axes[i][1]\n",
    "    ax.set_title(advs_classes[i])\n",
    "    ax.set_xticks([])\n",
    "    ax.set_yticks([])\n",
    "    ax.axis(\"off\")\n",
    "    ax.imshow(advs[i])\n",
    "    ax = axes[i][2]\n",
    "    ax.set_title(f\"certif: {certificates[i]:.2f}, obs: {dist_to_adv[i]:.2f}\")\n",
    "    ax.set_xticks([])\n",
    "    ax.set_yticks([])\n",
    "    ax.axis(\"off\")\n",
    "    ax.imshow(diff_map[i]/diff_map[i].max())"
   ]
  },
  {
   "attachments": {},
   "cell_type": "markdown",
   "metadata": {
    "id": "LLE_2Y4_r1kq"
   },
   "source": [
    "When looking at the adversarial examples we can see that the network has interresting properties:\n",
    "\n",
    "#### predictability\n",
    "by looking at the certificates, we can predict if the adversarial example will be close of not\n",
    "#### disparity among classes\n",
    "As we can see, the attacks are very efficent on similar classes (eg. T-shirt/top, and Shirt ). This denote that all classes are not made equal regarding robustness.\n",
    "#### explainability\n",
    "The network is more explainable: attacks can be used as counterfactuals.\n",
    "We can tell that removing the inscription on a T-shirt turns it into a shirt makes sense. Non robust examples reveals that the network rely on textures rather on shapes to make it's decision."
   ]
  },
  {
   "cell_type": "code",
   "execution_count": 16,
   "metadata": {
    "colab": {
     "base_uri": "https://localhost:8080/"
    },
    "id": "TZPR4_b68hex",
    "outputId": "bce7a55d-2a51-4315-b7b8-a3bf513b1cab"
   },
   "outputs": [
    {
     "data": {
      "image/png": "[encoded data removed]",
      "text/plain": [
       "<Figure size 324x1080 with 30 Axes>"
      ]
     },
     "metadata": {},
     "output_type": "display_data"
    }
   ],
   "source": [
    "adversarial_viz(hkr_fmodel, images, advs, class_mapping)"
   ]
  }
 ],
 "metadata": {
  "accelerator": "GPU",
  "colab": {
   "collapsed_sections": [],
   "name": "lipschitz demo",
   "provenance": []
  },
  "interpreter": {
   "hash": "85932723c17c3a18b32bfe2b34edfe80dfe7f67e8f24e1ef8c8aa8c563233210"
  },
  "kernelspec": {
   "display_name": "Python 3.8.10 64-bit ('tf26': venv)",
   "name": "python3"
  },
  "language_info": {
   "codemirror_mode": {
    "name": "ipython",
    "version": 3
   },
   "file_extension": ".py",
   "mimetype": "text/x-python",
   "name": "python",
   "nbconvert_exporter": "python",
   "pygments_lexer": "ipython3",
   "version": "3.10.4"
  }
 },
 "nbformat": 4,
 "nbformat_minor": 2
}
